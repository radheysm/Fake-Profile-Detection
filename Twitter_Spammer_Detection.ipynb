{
 "cells": [
  {
   "cell_type": "markdown",
   "metadata": {},
   "source": [
    "# ................................First Section................................................\n",
    "# Collection data from twitter for legitimate users\n",
    "# For collecting the data from twitter I am using Tweepy module\n",
    "# For that I need Counsumer_KEY, Counsumer_secret_KEY, Access_token, Access_Token\n",
    "# That all I can get from twitter app.devloper where I need to sign in and make an account and then twitter generate the keys\n",
    "# After that a simple program in python can extract data from twitter in given limit by twitter."
   ]
  },
  {
   "cell_type": "code",
   "execution_count": 158,
   "metadata": {},
   "outputs": [],
   "source": [
    "import pandas as pd\n",
    "import tweepy\n",
    "import time\n",
    "import numpy as np\n",
    "import matplotlib.pyplot as plt\n",
    "from tweepy import Stream\n",
    "from tweepy.streaming import StreamListener\n",
    "import numpy as np\n",
    "import matplotlib.pyplot as plt\n",
    "from sklearn import svm\n",
    "from sklearn.model_selection import train_test_split\n",
    "from sklearn.metrics import confusion_matrix\n",
    "from sklearn.utils.multiclass import unique_labels"
   ]
  },
  {
   "cell_type": "markdown",
   "metadata": {},
   "source": [
    "## Connection Authentication"
   ]
  },
  {
   "cell_type": "code",
   "execution_count": 107,
   "metadata": {},
   "outputs": [],
   "source": [
    "consumer_key  = 'd9Ksoz6Wb1jD0mqbW8rjaSNb7'\n",
    "consumer_secret = 'pHXnVSJeLbOxaYlbOR7BWFdDNhZSF6IzegZV87qUSUqy6Qe8qG'\n",
    "access_token = '3648603434-dGRu1nHet22tdoYeqaAGoN8MyZrNw9oXZQvGZUD'\n",
    "access_token_secret = 'PZ8pcQBCb5zVPLRQNVQZc3Yzi0rz1wPef6O7RO7gzcvOf'\n",
    "\n",
    "auth = tweepy.OAuthHandler(consumer_key, consumer_secret)\n",
    "auth.set_access_token(access_token, access_token_secret)\n",
    "\n",
    "api = tweepy.API(auth, wait_on_rate_limit=True)"
   ]
  },
  {
   "cell_type": "markdown",
   "metadata": {},
   "source": [
    "# Collecting Data list of Friends of a given screen_name\n",
    "# Save data in txt file"
   ]
  },
  {
   "cell_type": "code",
   "execution_count": 7,
   "metadata": {},
   "outputs": [
    {
     "name": "stdout",
     "output_type": "stream",
     "text": [
      "Name of the Friends of user\n",
      "boxervijender\n",
      "IndiaSports\n",
      "unwomenindia\n",
      "DainikBhaskar\n",
      "MinistryWCD\n",
      "BoomFactsHindi\n",
      "PoliceJodhpur\n",
      "PcrRural\n",
      "AjmerPcr\n",
      "pcrjaipurrural\n",
      "PCRRajsamand\n",
      "pcrnagaur\n",
      "BharatpurPolice\n",
      "AhmedabadPolice\n",
      "dtptraffic\n",
      "JprRuralPolice\n",
      "Gulab_kataria\n",
      "IgpJaipur\n",
      "ChghPolice\n",
      "PCR_Hanumangarh\n"
     ]
    }
   ],
   "source": [
    "# printing all the friends names of the user \n",
    "print('Name of the Friends of user')\n",
    "friends = []\n",
    "for friend in tweepy.Cursor(api.friends, screen_name = 'PoliceRajasthan').items(20):\n",
    "    try:\n",
    "                friends.append(friend.screen_name)\n",
    "                print(friend.screen_name)\n",
    "                time.sleep()\n",
    "    except Exception as e:\n",
    "                pass\n",
    "\n",
    "with open(\"/home/radhey/Final_Project/Data/Leg_User_txt/friend1.txt\", \"w\") as f:\n",
    "     for item in friends:\n",
    "        f.write(\"%s\\n\" % item)"
   ]
  },
  {
   "cell_type": "code",
   "execution_count": 8,
   "metadata": {},
   "outputs": [
    {
     "name": "stdout",
     "output_type": "stream",
     "text": [
      "Name of the Friends of user\n",
      "Dilipdubey03\n",
      "upcopsachin\n",
      "AnjanaPed\n",
      "SkochSameer\n",
      "mobobistudios\n",
      "TAHLKANEWS\n",
      "rakeshbjpup\n",
      "CyberDost\n",
      "spgrpjhansi\n",
      "kumbhMelaPolUP\n",
      "NBTMumbai\n",
      "AtulGargBJP\n",
      "sdrf_up\n",
      "UD197\n",
      "SantoshMahiLko\n",
      "devmuraribapu65\n",
      "wpl1090\n",
      "927BIGFM\n",
      "BPRDIndia\n",
      "fireserviceup\n"
     ]
    }
   ],
   "source": [
    "# printing all the friends names of the user \n",
    "print('Name of the Friends of user')\n",
    "friends = []\n",
    "for friend in tweepy.Cursor(api.friends, screen_name = 'Uppolice').items(20):\n",
    "    try:\n",
    "                friends.append(friend.screen_name)\n",
    "                print(friend.screen_name)\n",
    "                time.sleep()\n",
    "    except Exception as e:\n",
    "                pass\n",
    "\n",
    "with open(\"/home/radhey/Final_Project/Data/Leg_User_txt/friend2.txt\", \"w\") as f:\n",
    "     for item in friends:\n",
    "        f.write(\"%s\\n\" % item)"
   ]
  },
  {
   "cell_type": "code",
   "execution_count": 9,
   "metadata": {},
   "outputs": [
    {
     "name": "stdout",
     "output_type": "stream",
     "text": [
      "Name of the Friends of user\n",
      "PoliceWaliPblic\n",
      "TawdeVinod\n",
      "assampolice\n",
      "cyberabadpolice\n",
      "rpomumbai\n",
      "PoliceRajasthan\n",
      "Uppolice\n",
      "TwitterIndia\n",
      "KirenRijiju\n",
      "ajaydevgn\n",
      "Thane_R_Police\n",
      "MahaDGIPR\n",
      "BSF_India\n",
      "AdlCPCrimeMum\n",
      "narendramodi\n",
      "DCPSangramsinh\n",
      "DattaCP\n",
      "ThaneCityPolice\n",
      "Navimumpolice\n",
      "IPS_Association\n"
     ]
    }
   ],
   "source": [
    "# printing all the friends names of the user \n",
    "print('Name of the Friends of user')\n",
    "friends = []\n",
    "for friend in tweepy.Cursor(api.friends, screen_name = 'MumbaiPolice').items(20):\n",
    "    try:\n",
    "                friends.append(friend.screen_name)\n",
    "                print(friend.screen_name)\n",
    "                time.sleep()\n",
    "    except Exception as e:\n",
    "                pass\n",
    "\n",
    "with open(\"/home/radhey/Final_Project/Data/Leg_User_txt/friend3.txt\", \"w\") as f:\n",
    "     for item in friends:\n",
    "        f.write(\"%s\\n\" % item)"
   ]
  },
  {
   "cell_type": "code",
   "execution_count": 10,
   "metadata": {},
   "outputs": [
    {
     "name": "stdout",
     "output_type": "stream",
     "text": [
      "Name of the Friends of user\n",
      "trafficchd\n",
      "KhannaPolice\n",
      "CyberDost\n",
      "RajaBrar_INC\n",
      "faridkotpolice1\n",
      "PPSM_SASNAGAR\n",
      "PPASRR2\n",
      "sspofficefazil1\n",
      "MuktsarSsp\n",
      "TarnTaranPolice\n",
      "pp_sangrur\n",
      "PpSbsn\n",
      "PP_Patiala\n",
      "pp_pathankot\n",
      "moga_pp\n",
      "pp_mansa\n",
      "PP_Ldhrural\n",
      "PPkhanna3\n",
      "PP_kapurthala\n",
      "SMCelljal_Rural\n"
     ]
    }
   ],
   "source": [
    "# printing all the friends names of the user \n",
    "print('Name of the Friends of user')\n",
    "friends = []\n",
    "for friend in tweepy.Cursor(api.friends, screen_name = 'PunjabPoliceInd').items(20):\n",
    "    try:\n",
    "                friends.append(friend.screen_name)\n",
    "                print(friend.screen_name)\n",
    "                time.sleep()\n",
    "    except Exception as e:\n",
    "                pass\n",
    "\n",
    "with open(\"/home/radhey/Final_Project/Data/Leg_User_txt/friend4.txt\", \"w\") as f:\n",
    "     for item in friends:\n",
    "        f.write(\"%s\\n\" % item)"
   ]
  },
  {
   "cell_type": "code",
   "execution_count": 11,
   "metadata": {},
   "outputs": [
    {
     "name": "stdout",
     "output_type": "stream",
     "text": [
      "Name of the Friends of user\n",
      "RajeshKumarIPS\n",
      "Neelsher\n",
      "CyberDost\n",
      "DcpEast\n",
      "AltNews\n",
      "CPKolkata\n",
      "KPSouthsubnDiv\n",
      "NICFS_India\n",
      "KPCentralDiv\n",
      "KPSouthwestDiv\n",
      "KPSouthDiv\n",
      "KPPortDiv\n",
      "KPDetectiveDept\n",
      "KPNorthDiv\n",
      "KPSoutheastDiv\n",
      "KPEastsubnDiv\n",
      "BlrCityPolice\n",
      "MumbaiPolice\n",
      "DelhiPolice\n",
      "KPTrafficDept\n"
     ]
    }
   ],
   "source": [
    "# printing all the friends names of the user \n",
    "print('Name of the Friends of user')\n",
    "friends = []\n",
    "for friend in tweepy.Cursor(api.friends, screen_name = 'KolkataPolice').items(20):\n",
    "    try:\n",
    "                friends.append(friend.screen_name)\n",
    "                print(friend.screen_name)\n",
    "                time.sleep()\n",
    "    except Exception as e:\n",
    "                pass\n",
    "\n",
    "with open(\"/home/radhey/Final_Project/Data/Leg_User_txt/friend5.txt\", \"w\") as f:\n",
    "     for item in friends:\n",
    "        f.write(\"%s\\n\" % item)"
   ]
  },
  {
   "cell_type": "code",
   "execution_count": 12,
   "metadata": {},
   "outputs": [
    {
     "name": "stdout",
     "output_type": "stream",
     "text": [
      "Name of the Friends of user\n",
      "hgsdhaliwalips\n",
      "EOWDelhi\n",
      "LifeCoachSharat\n",
      "DCP_DelhiMetro\n",
      "nihar15aug\n",
      "rashtrapatibhvn\n",
      "ahir_hansraj\n",
      "MOSHomeIndia\n",
      "rajnathsingh\n",
      "DCP_CCC_Delhi\n",
      "NavbharatTimes\n",
      "Outlookindia\n",
      "ians_india\n",
      "htTweets\n",
      "KhabarNwi\n",
      "indiatvnews\n",
      "adcp1South\n",
      "DCP_Shd\n",
      "BaniwalDP\n",
      "Ravindra_IPS\n"
     ]
    }
   ],
   "source": [
    "# printing all the friends names of the user \n",
    "print('Name of the Friends of user')\n",
    "friends = []\n",
    "for friend in tweepy.Cursor(api.friends, screen_name = 'DelhiPolice').items(20):\n",
    "    try:\n",
    "                friends.append(friend.screen_name)\n",
    "                print(friend.screen_name)\n",
    "                time.sleep()\n",
    "    except Exception as e:\n",
    "                pass\n",
    "\n",
    "with open(\"/home/radhey/Final_Project/Data/Leg_User_txt/friend6.txt\", \"w\") as f:\n",
    "     for item in friends:\n",
    "        f.write(\"%s\\n\" % item)"
   ]
  },
  {
   "cell_type": "code",
   "execution_count": 13,
   "metadata": {},
   "outputs": [
    {
     "name": "stdout",
     "output_type": "stream",
     "text": [
      "Name of the Friends of user\n",
      "BngWeather\n",
      "UdhampurPolice\n",
      "DHFWKA\n",
      "digilocker_ind\n",
      "BaramullaPolice\n",
      "KashmirPolice\n",
      "DistrictPolice1\n",
      "Tripura_Police\n",
      "JmuKmrPolice\n",
      "PoliceRajasthan\n",
      "assampolice\n",
      "hydcitypolice\n",
      "KolkataPolice\n",
      "dtptraffic\n",
      "AhmedabadPolice\n",
      "GujaratPolice\n",
      "CPDelhi\n",
      "DDNewsLive\n",
      "IAF_MCC\n",
      "CISFHQrs\n"
     ]
    }
   ],
   "source": [
    "# printing all the friends names of the user \n",
    "print('Name of the Friends of user')\n",
    "friends = []\n",
    "for friend in tweepy.Cursor(api.friends, screen_name = 'BlrCityPolice').items(20):\n",
    "    try:\n",
    "                friends.append(friend.screen_name)\n",
    "                print(friend.screen_name)\n",
    "                time.sleep()\n",
    "    except Exception as e:\n",
    "                pass\n",
    "\n",
    "with open(\"/home/radhey/Final_Project/Data/Leg_User_txt/friend7.txt\", \"w\") as f:\n",
    "     for item in friends:\n",
    "        f.write(\"%s\\n\" % item)"
   ]
  },
  {
   "cell_type": "code",
   "execution_count": 14,
   "metadata": {},
   "outputs": [
    {
     "name": "stdout",
     "output_type": "stream",
     "text": [
      "Name of the Friends of user\n",
      "SiManojThakur1\n",
      "VikramA79117869\n",
      "assampolice\n",
      "GuwahatiPol\n",
      "GujaratPolice\n",
      "AhmedabadPolice\n",
      "fireserviceup\n",
      "venkatashok\n",
      "bareillytraffic\n",
      "ECISVEEP\n",
      "DmHapur\n",
      "DEHRA_CHOKI\n",
      "ceoup\n",
      "uttarakhandcops\n",
      "ProDixit\n",
      "airnewsalerts\n",
      "PIB_India\n",
      "adgpi\n",
      "NIA_India\n",
      "BharatKeVeer\n"
     ]
    }
   ],
   "source": [
    "# printing all the friends names of the user \n",
    "print('Name of the Friends of user')\n",
    "friends = []\n",
    "for friend in tweepy.Cursor(api.friends, screen_name = 'noidapolice').items(20):\n",
    "    try:\n",
    "                friends.append(friend.screen_name)\n",
    "                print(friend.screen_name)\n",
    "                time.sleep()\n",
    "    except Exception as e:\n",
    "                pass\n",
    "\n",
    "with open(\"/home/radhey/Final_Project/Data/Leg_User_txt/friend8.txt\", \"w\") as f:\n",
    "     for item in friends:\n",
    "        f.write(\"%s\\n\" % item)"
   ]
  },
  {
   "cell_type": "code",
   "execution_count": 15,
   "metadata": {},
   "outputs": [
    {
     "name": "stdout",
     "output_type": "stream",
     "text": [
      "Name of the Friends of user\n",
      "RajatSharmaLive\n",
      "skochgroup\n",
      "SkochSameer\n",
      "kumbhMelaPolUP\n",
      "Etahpolice\n",
      "digbasti\n",
      "digdevipatan\n",
      "digmirzapur\n",
      "ADGZonPrayagraj\n",
      "adgzonevaranasi\n",
      "adgzonekanpur\n",
      "digmoradabad\n",
      "igrangeagra\n",
      "shravastipolice\n",
      "gorakhpurpolice\n",
      "kaushambipolice\n",
      "hathraspolice\n",
      "IgRangeVaranasi\n",
      "sonbhadrapolice\n",
      "jaunpurpolice\n"
     ]
    }
   ],
   "source": [
    "# printing all the friends names of the user \n",
    "print('Name of the Friends of user')\n",
    "friends = []\n",
    "for friend in tweepy.Cursor(api.friends, screen_name = 'igrangemeerut').items(20):\n",
    "    try:\n",
    "                friends.append(friend.screen_name)\n",
    "                print(friend.screen_name)\n",
    "                time.sleep()\n",
    "    except Exception as e:\n",
    "                pass\n",
    "\n",
    "with open(\"/home/radhey/Final_Project/Data/Leg_User_txt/friend9.txt\", \"w\") as f:\n",
    "     for item in friends:\n",
    "        f.write(\"%s\\n\" % item)"
   ]
  },
  {
   "cell_type": "code",
   "execution_count": 16,
   "metadata": {},
   "outputs": [
    {
     "name": "stdout",
     "output_type": "stream",
     "text": [
      "Name of the Friends of user\n",
      "TrafficIg\n",
      "sspnoida\n",
      "ajay_sharmaips\n",
      "ParivahanUP\n",
      "UPPolNRI\n",
      "ajay85ldh\n",
      "NoidaUP100\n",
      "SidharthNSingh\n",
      "DainikBhaskar\n",
      "arunjaitley\n",
      "JagranNews\n",
      "ptshrikant\n",
      "rajnathsingh\n",
      "drdineshbjp\n",
      "HMOIndia\n",
      "News18UP\n",
      "kpmaurya1\n",
      "myogiadityanath\n",
      "HomeDepttUP\n",
      "SspGhaziabad\n"
     ]
    }
   ],
   "source": [
    "# printing all the friends names of the user \n",
    "print('Name of the Friends of user')\n",
    "friends = []\n",
    "for friend in tweepy.Cursor(api.friends, screen_name = 'noidatraffic').items(20):\n",
    "    try:\n",
    "                friends.append(friend.screen_name)\n",
    "                print(friend.screen_name)\n",
    "                time.sleep()\n",
    "    except Exception as e:\n",
    "                pass\n",
    "\n",
    "with open(\"/home/radhey/Final_Project/Data/Leg_User_txt/friend10.txt\", \"w\") as f:\n",
    "     for item in friends:\n",
    "        f.write(\"%s\\n\" % item)"
   ]
  },
  {
   "cell_type": "code",
   "execution_count": 17,
   "metadata": {},
   "outputs": [
    {
     "name": "stdout",
     "output_type": "stream",
     "text": [
      "Name of the Friends of user\n",
      "chandanmedia\n",
      "SspGhaziabad\n",
      "shivpal_rana\n",
      "policemedianews\n",
      "uppstf\n",
      "indiatvnews\n",
      "EconomicTimes\n",
      "BBCHindi\n",
      "airnewsalerts\n",
      "News18India\n",
      "abpnewstv\n",
      "ndtv\n",
      "ZeeNewsHindi\n",
      "THexplains\n",
      "TOIIndiaNews\n",
      "NavbharatTimes\n",
      "TheOfficialSBI\n",
      "ndtvindia\n",
      "DDNewsHindi\n",
      "News18_UK\n"
     ]
    }
   ],
   "source": [
    "# printing all the friends names of the user \n",
    "print('Name of the Friends of user')\n",
    "friends = []\n",
    "for friend in tweepy.Cursor(api.friends, screen_name = 'adgzonemeerut').items(20):\n",
    "    try:\n",
    "                friends.append(friend.screen_name)\n",
    "                print(friend.screen_name)\n",
    "                time.sleep()\n",
    "    except Exception as e:\n",
    "                pass\n",
    "\n",
    "with open(\"/home/radhey/Final_Project/Data/Leg_User_txt/friend11.txt\", \"w\") as f:\n",
    "     for item in friends:\n",
    "        f.write(\"%s\\n\" % item)"
   ]
  },
  {
   "cell_type": "code",
   "execution_count": 18,
   "metadata": {},
   "outputs": [
    {
     "name": "stdout",
     "output_type": "stream",
     "text": [
      "Name of the Friends of user\n",
      "bijnorpolice\n",
      "HsyTimes\n",
      "CyberDost\n",
      "Ariffaizylawar\n",
      "Uppolice\n",
      "UPPViralCheck\n",
      "UPPolNRI\n",
      "ASTITV17\n",
      "dgpup\n",
      "myogiadityanath\n",
      "rashtrapatibhvn\n",
      "DainikBhaskar\n",
      "AmarUjalaNews\n",
      "_NationalVoice\n",
      "TwitterIndia\n",
      "shravastipolice\n",
      "ANI\n",
      "jhansipolice\n",
      "IASassociation\n",
      "ZeeNewsHindi\n"
     ]
    }
   ],
   "source": [
    "# printing all the friends names of the user \n",
    "print('Name of the Friends of user')\n",
    "friends = []\n",
    "for friend in tweepy.Cursor(api.friends, screen_name = 'meerutpolice').items(20):\n",
    "    try:\n",
    "                friends.append(friend.screen_name)\n",
    "                print(friend.screen_name)\n",
    "                time.sleep()\n",
    "    except Exception as e:\n",
    "                pass\n",
    "\n",
    "with open(\"/home/radhey/Final_Project/Data/Leg_User_txt/friend12.txt\", \"w\") as f:\n",
    "     for item in friends:\n",
    "        f.write(\"%s\\n\" % item)"
   ]
  },
  {
   "cell_type": "code",
   "execution_count": 19,
   "metadata": {},
   "outputs": [
    {
     "name": "stdout",
     "output_type": "stream",
     "text": [
      "Name of the Friends of user\n",
      "ghazipurpolice\n",
      "ambedkarnagrpol\n",
      "faizabadpolice\n",
      "News18UP\n",
      "Barabankipolice\n",
      "sitapurpolice\n",
      "bahraichpolice\n",
      "bhadohipolice\n",
      "gondapolice\n",
      "balrampurpolice\n",
      "bastipolice\n",
      "gorakhpurpolice\n",
      "kushinagarpol\n",
      "santkabirnagpol\n",
      "fatehgarhpolice\n",
      "auraiyapolice\n",
      "etawahpolice\n",
      "chitrakootpol\n",
      "jalaunpolice\n",
      "jhansipolice\n"
     ]
    }
   ],
   "source": [
    "# printing all the friends names of the user \n",
    "print('Name of the Friends of user')\n",
    "friends = []\n",
    "for friend in tweepy.Cursor(api.friends, screen_name = 'bulandshahrpol').items(20):\n",
    "    try:\n",
    "                friends.append(friend.screen_name)\n",
    "                print(friend.screen_name)\n",
    "                time.sleep()\n",
    "    except Exception as e:\n",
    "                pass\n",
    "\n",
    "with open(\"/home/radhey/Final_Project/Data/Leg_User_txt/friend13.txt\", \"w\") as f:\n",
    "     for item in friends:\n",
    "        f.write(\"%s\\n\" % item)"
   ]
  },
  {
   "cell_type": "code",
   "execution_count": 20,
   "metadata": {},
   "outputs": [
    {
     "name": "stdout",
     "output_type": "stream",
     "text": [
      "Name of the Friends of user\n",
      "skochgroup\n",
      "SkochSameer\n",
      "samayupuk\n",
      "Dineshdcop\n",
      "DeepakKumarIPS2\n",
      "smittal_ips\n",
      "dm_ghaziabad\n",
      "Anubhav26266011\n",
      "upcopvishal\n",
      "UPPViralCheck\n",
      "RubyTomar14\n",
      "LalitPayal\n",
      "UPPolNRI\n",
      "ASTITV17\n",
      "SHO_JEWAR\n",
      "sundersaini1\n",
      "YASMinistry\n",
      "ndmaindia\n",
      "eShineNews\n",
      "MinOfPower\n"
     ]
    }
   ],
   "source": [
    "# printing all the friends names of the user \n",
    "print('Name of the Friends of user')\n",
    "friends = []\n",
    "for friend in tweepy.Cursor(api.friends, screen_name = 'saharanpurpol').items(20):\n",
    "    try:\n",
    "                friends.append(friend.screen_name)\n",
    "                print(friend.screen_name)\n",
    "                time.sleep()\n",
    "    except Exception as e:\n",
    "                pass\n",
    "\n",
    "with open(\"/home/radhey/Final_Project/Data/Leg_User_txt/friend14.txt\", \"w\") as f:\n",
    "     for item in friends:\n",
    "        f.write(\"%s\\n\" % item)"
   ]
  },
  {
   "cell_type": "code",
   "execution_count": 21,
   "metadata": {},
   "outputs": [
    {
     "name": "stdout",
     "output_type": "stream",
     "text": [
      "Name of the Friends of user\n",
      "GaonConnection\n",
      "bstvlive\n",
      "ajay85ldh\n",
      "skochgroup\n",
      "SkochSameer\n",
      "varanasitraffic\n",
      "ShamliTraffic\n",
      "OP_Singh83\n",
      "CyberDost\n",
      "kumbhMelaPolUP\n",
      "abpnewstv\n",
      "ZeeNews\n",
      "aajtak\n",
      "ndtvindia\n",
      "samachartoday4u\n",
      "mediaamantra\n",
      "DainikBhaskar\n",
      "ZeeNewsHindi\n",
      "News18India\n",
      "allahabdtraffic\n"
     ]
    }
   ],
   "source": [
    "# printing all the friends names of the user \n",
    "print('Name of the Friends of user')\n",
    "friends = []\n",
    "for friend in tweepy.Cursor(api.friends, screen_name = 'shamlipolice').items(20):\n",
    "    try:\n",
    "                friends.append(friend.screen_name)\n",
    "                print(friend.screen_name)\n",
    "                time.sleep()\n",
    "    except Exception as e:\n",
    "                pass\n",
    "\n",
    "with open(\"/home/radhey/Final_Project/Data/Leg_User_txt/friend15.txt\", \"w\") as f:\n",
    "     for item in friends:\n",
    "        f.write(\"%s\\n\" % item)"
   ]
  },
  {
   "cell_type": "code",
   "execution_count": 22,
   "metadata": {},
   "outputs": [
    {
     "name": "stdout",
     "output_type": "stream",
     "text": [
      "Name of the Friends of user\n",
      "CyberDost\n",
      "upgrp\n",
      "skochgroup\n",
      "SkochSameer\n",
      "sangamchaudha20\n",
      "deeepak34093\n",
      "Aalam__Ansari\n",
      "HNN24X7\n",
      "kumbhMelaPolUP\n",
      "Rahulsiupp\n",
      "DmHapur\n",
      "NewsStateHindi\n",
      "_ShivamBhatt\n",
      "rjraunac\n",
      "PMOIndia\n",
      "DelhiTimesTweet\n",
      "AjayendraR\n",
      "UPGovt\n",
      "narendramodi\n",
      "MinistryWCD\n"
     ]
    }
   ],
   "source": [
    "# printing all the friends names of the user \n",
    "print('Name of the Friends of user')\n",
    "friends = []\n",
    "for friend in tweepy.Cursor(api.friends, screen_name = 'hapurpolice').items(20):\n",
    "    try:\n",
    "                friends.append(friend.screen_name)\n",
    "                print(friend.screen_name)\n",
    "                time.sleep()\n",
    "    except Exception as e:\n",
    "                pass\n",
    "\n",
    "with open(\"/home/radhey/Final_Project/Data/Leg_User_txt/friend16.txt\", \"w\") as f:\n",
    "     for item in friends:\n",
    "        f.write(\"%s\\n\" % item)"
   ]
  },
  {
   "cell_type": "code",
   "execution_count": 23,
   "metadata": {},
   "outputs": [
    {
     "name": "stdout",
     "output_type": "stream",
     "text": [
      "Name of the Friends of user\n",
      "CyberDost\n",
      "UPPolNRI\n",
      "dgpup\n",
      "dtptraffic\n",
      "PMOIndia\n",
      "HMOIndia\n",
      "DelhiPolice\n",
      "IPS_Association\n",
      "up100\n",
      "igrangealld\n",
      "igrangeagra\n",
      "igrangemeerut\n",
      "adgzoneagra\n",
      "digrangealigarh\n",
      "SspGhaziabad\n",
      "upcoprahul\n",
      "uptrafficpolice\n",
      "noidapolice\n",
      "ChiefSecyUP\n",
      "CMOfficeUP\n"
     ]
    }
   ],
   "source": [
    "# printing all the friends names of the user \n",
    "print('Name of the Friends of user')\n",
    "friends = []\n",
    "for friend in tweepy.Cursor(api.friends, screen_name = 'baghpatpolice').items(20):\n",
    "    try:\n",
    "                friends.append(friend.screen_name)\n",
    "                print(friend.screen_name)\n",
    "                time.sleep()\n",
    "    except Exception as e:\n",
    "                pass\n",
    "\n",
    "with open(\"/home/radhey/Final_Project/Data/Leg_User_txt/friend17.txt\", \"w\") as f:\n",
    "     for item in friends:\n",
    "        f.write(\"%s\\n\" % item)"
   ]
  },
  {
   "cell_type": "code",
   "execution_count": 24,
   "metadata": {},
   "outputs": [
    {
     "name": "stdout",
     "output_type": "stream",
     "text": [
      "Name of the Friends of user\n",
      "THChennai\n",
      "news18dotcom\n",
      "polimernews\n",
      "MalaimurasuTv\n",
      "newsglitzcom\n",
      "tangedconews\n",
      "Suyaatchi\n",
      "Arappor\n",
      "IndiaTodayFLASH\n",
      "NatarajIPS\n",
      "vikatan\n",
      "fx16pix\n",
      "deccanchennai\n",
      "DeccanChronicle\n",
      "PTI_News\n",
      "BBCIndia\n",
      "tamil_murasu\n",
      "TamilTheHindu\n",
      "maalaimalar\n",
      "timesofindia\n"
     ]
    }
   ],
   "source": [
    "# printing all the friends names of the user \n",
    "print('Name of the Friends of user')\n",
    "friends = []\n",
    "for friend in tweepy.Cursor(api.friends, screen_name = 'CCTPolice_Alert').items(20):\n",
    "    try:\n",
    "                friends.append(friend.screen_name)\n",
    "                print(friend.screen_name)\n",
    "                time.sleep()\n",
    "    except Exception as e:\n",
    "                pass\n",
    "\n",
    "with open(\"/home/radhey/Final_Project/Data/Leg_User_txt/friend18.txt\", \"w\") as f:\n",
    "     for item in friends:\n",
    "        f.write(\"%s\\n\" % item)"
   ]
  },
  {
   "cell_type": "code",
   "execution_count": 25,
   "metadata": {},
   "outputs": [
    {
     "name": "stdout",
     "output_type": "stream",
     "text": [
      "Name of the Friends of user\n",
      "Andrew_Sesuraj\n",
      "KarthiAk57\n",
      "anilachankunju\n",
      "itisaprashanth\n",
      "anilkunju\n",
      "Vishnuaiadmk1\n",
      "admk_surya\n",
      "AdmkSivaranjan\n",
      "rajivgandhi_n\n",
      "prabhaayyappan\n",
      "admk_satheesh\n",
      "Sai72100878\n",
      "AdmkArun\n",
      "SelvaMugavai\n",
      "Veerasa23144200\n",
      "SelvamAdmk\n",
      "VHh0ryw5wTWZQgV\n",
      "Jaganat39464129\n",
      "maalaitamizhaga\n",
      "vijayadmk3\n"
     ]
    }
   ],
   "source": [
    "# printing all the friends names of the user \n",
    "print('Name of the Friends of user')\n",
    "friends = []\n",
    "for friend in tweepy.Cursor(api.friends, screen_name = 'chennaipolice_').items(20):\n",
    "    try:\n",
    "                friends.append(friend.screen_name)\n",
    "                print(friend.screen_name)\n",
    "                time.sleep()\n",
    "    except Exception as e:\n",
    "                pass\n",
    "\n",
    "with open(\"/home/radhey/Final_Project/Data/Leg_User_txt/friend19.txt\", \"w\") as f:\n",
    "     for item in friends:\n",
    "        f.write(\"%s\\n\" % item)"
   ]
  },
  {
   "cell_type": "code",
   "execution_count": 26,
   "metadata": {},
   "outputs": [
    {
     "name": "stdout",
     "output_type": "stream",
     "text": [
      "Name of the Friends of user\n",
      "NameisNani\n",
      "lrvr1974\n",
      "skochgroup\n",
      "MLA54327644\n",
      "WomenCid\n",
      "cpkarimnagar\n",
      "cpwrlc\n",
      "CyberProtectUK\n",
      "spsangareddy\n",
      "spsuryapet\n",
      "cpramagundam\n",
      "sp_kamareddy\n",
      "cp_nizamabad\n",
      "Vikarabadpolice\n",
      "spsiricilla\n",
      "CPRODGPTS\n",
      "ndmaindia\n",
      "InsptrJbh\n",
      "NICMeity\n",
      "CyberDost\n"
     ]
    }
   ],
   "source": [
    "# printing all the friends names of the user \n",
    "print('Name of the Friends of user')\n",
    "friends = []\n",
    "for friend in tweepy.Cursor(api.friends, screen_name = 'hydcitypolice').items(20):\n",
    "    try:\n",
    "                friends.append(friend.screen_name)\n",
    "                print(friend.screen_name)\n",
    "                time.sleep()\n",
    "    except Exception as e:\n",
    "                pass\n",
    "\n",
    "with open(\"/home/radhey/Final_Project/Data/Leg_User_txt/friend20.txt\", \"w\") as f:\n",
    "     for item in friends:\n",
    "        f.write(\"%s\\n\" % item)"
   ]
  },
  {
   "cell_type": "markdown",
   "metadata": {},
   "source": [
    "# Now collect 30 tweet from each user that I extracted from twitter"
   ]
  },
  {
   "cell_type": "code",
   "execution_count": 129,
   "metadata": {},
   "outputs": [
    {
     "name": "stdout",
     "output_type": "stream",
     "text": [
      "535\n"
     ]
    }
   ],
   "source": [
    "Total_Data = []\n",
    "fo = open(\"/home/radhey/Final_Project/Data/Leg_User_txt/friend20.txt\", \"r\")\n",
    "f = fo.readlines()\n",
    "fo.close()\n",
    "dataset = map(lambda s: s.strip(),f)\n",
    "try:\n",
    "    for datavar in dataset:\n",
    "        data = api.get_user(datavar)\n",
    "        counter = 0\n",
    "        for status in tweepy.Cursor(api.user_timeline, id = datavar).items(30):\n",
    "            try:\n",
    "                counter= counter+1\n",
    "                Total_Data.append(status)\n",
    "                time.sleep()\n",
    "            except Exception as e:\n",
    "                pass\n",
    "except Exception as e:\n",
    "    pass\n",
    "print(len(Total_Data))"
   ]
  },
  {
   "cell_type": "markdown",
   "metadata": {},
   "source": [
    "# Now from each tweet extract useful atributes that I need later for classification "
   ]
  },
  {
   "cell_type": "code",
   "execution_count": 131,
   "metadata": {},
   "outputs": [
    {
     "data": {
      "text/plain": [
       "(535, 19)"
      ]
     },
     "execution_count": 131,
     "metadata": {},
     "output_type": "execute_result"
    }
   ],
   "source": [
    "import urllib.parse\n",
    "import pandas as pd\n",
    "\n",
    "def process_http(string):\n",
    "    url_count = 0\n",
    "    for i in string.split():\n",
    "        s, n, p, pa, q, f = urllib.parse.urlparse(i)\n",
    "        if s and n:\n",
    "            url_count += 1\n",
    "    return url_count\n",
    "\n",
    "def process_hashtag(string):\n",
    "    hashtag_count = 0\n",
    "    for i in string.split():\n",
    "        s, n, p, pa, q, f = urllib.parse.urlparse(i)\n",
    "        if i[:1] == '#':\n",
    "            hashtag_count += 1\n",
    "    return hashtag_count\n",
    "\n",
    "def process_mention(string):\n",
    "    mention_count=0\n",
    "    for i in string.split():\n",
    "        s, n, p, pa, q, f = urllib.parse.urlparse(i)\n",
    "        if i[:1] == '@':\n",
    "            mention_count += 1\n",
    "    return mention_count\n",
    "\n",
    "def process_data(Total_Data):\n",
    "    TwittID = [tweet.id for tweet in Total_Data]\n",
    "    # Making the dataset in pandas frame\n",
    "    Data = pd.DataFrame(TwittID, columns = ['TwittID'])\n",
    "    # processing the data in Tweet level\n",
    "    \n",
    "    Data[\"TextData\"] = [tweet.text for tweet in Total_Data]\n",
    "    Data[\"TweetCreatedAt\"] = [tweet.created_at for tweet in Total_Data]\n",
    "    Data[\"RetweetCount\"] = [tweet.retweet_count for tweet in Total_Data]\n",
    "    Data[\"TweetFavouriteCount\"] = [tweet.favorite_count for tweet in Total_Data]\n",
    "    Data[\"TweetSource\"] = [tweet.source for tweet in Total_Data]\n",
    "    \n",
    "    # processing the data in User Graph level\n",
    "    \n",
    "    Data[\"UserID\"] = [tweet.author.id for tweet in Total_Data]\n",
    "    Data[\"UserScreenName\"] = [tweet.author.screen_name for tweet in Total_Data]\n",
    "    Data[\"UserName\"] = [tweet.author.name for tweet in Total_Data]\n",
    "    Data[\"UserCreatedAt\"] = [tweet.author.created_at for tweet in Total_Data]\n",
    "    Data[\"UserDescription\"] = [tweet.author.description for tweet in Total_Data]\n",
    "    Data[\"UserDescriptionLength\"] = [len(tweet.author.description) for tweet in Total_Data]\n",
    "    Data[\"UserFollowersCount\"] = [tweet.author.followers_count for tweet in Total_Data]\n",
    "    Data[\"UserFriendsCount\"] = [tweet.author.friends_count for tweet in Total_Data]\n",
    "    Data[\"UserLocation\"] = [tweet.author.location for tweet in Total_Data]\n",
    "    \n",
    "    # Data[\"url\"] = [tweet.author.url for in Total_Data]\n",
    "    # Data[\"User_mention\"] = [user_mentions.author.screen_name for tweet in Total_Data]\n",
    "    # Data[\"HashTag\"] = [hashtag.text for tweet in Total_Data]\n",
    "    \n",
    "    Data[\"HttpCount\"] = [process_http(tweet.text) for tweet in Total_Data]\n",
    "    Data[\"HashtagCount\"] = [process_hashtag(tweet.text) for tweet in Total_Data]\n",
    "    Data[\"MentionCount\"] = [process_mention(tweet.text) for tweet in Total_Data]\n",
    "    Data[\"TweetCount\"] = [tweet.author.statuses_count for tweet in Total_Data]\n",
    "    return Data\n",
    "Data = process_data(Total_Data)\n",
    "Data.shape"
   ]
  },
  {
   "cell_type": "code",
   "execution_count": 132,
   "metadata": {},
   "outputs": [
    {
     "data": {
      "text/html": [
       "<div>\n",
       "<style scoped>\n",
       "    .dataframe tbody tr th:only-of-type {\n",
       "        vertical-align: middle;\n",
       "    }\n",
       "\n",
       "    .dataframe tbody tr th {\n",
       "        vertical-align: top;\n",
       "    }\n",
       "\n",
       "    .dataframe thead th {\n",
       "        text-align: right;\n",
       "    }\n",
       "</style>\n",
       "<table border=\"1\" class=\"dataframe\">\n",
       "  <thead>\n",
       "    <tr style=\"text-align: right;\">\n",
       "      <th></th>\n",
       "      <th>TwittID</th>\n",
       "      <th>TextData</th>\n",
       "      <th>TweetCreatedAt</th>\n",
       "      <th>RetweetCount</th>\n",
       "      <th>TweetFavouriteCount</th>\n",
       "      <th>TweetSource</th>\n",
       "      <th>UserID</th>\n",
       "      <th>UserScreenName</th>\n",
       "      <th>UserName</th>\n",
       "      <th>UserCreatedAt</th>\n",
       "      <th>UserDescription</th>\n",
       "      <th>UserDescriptionLength</th>\n",
       "      <th>UserFollowersCount</th>\n",
       "      <th>UserFriendsCount</th>\n",
       "      <th>UserLocation</th>\n",
       "      <th>HttpCount</th>\n",
       "      <th>HashtagCount</th>\n",
       "      <th>MentionCount</th>\n",
       "      <th>TweetCount</th>\n",
       "    </tr>\n",
       "  </thead>\n",
       "  <tbody>\n",
       "    <tr>\n",
       "      <th>531</th>\n",
       "      <td>1080812656922046465</td>\n",
       "      <td>RT @russi109: Ministry Of Home Affairs (Govt o...</td>\n",
       "      <td>2019-01-03 13:06:32</td>\n",
       "      <td>17</td>\n",
       "      <td>0</td>\n",
       "      <td>Twitter Web Client</td>\n",
       "      <td>970591741131804672</td>\n",
       "      <td>CyberDost</td>\n",
       "      <td>Cyber Dost</td>\n",
       "      <td>2018-03-05 09:27:58</td>\n",
       "      <td>https://t.co/CS0TpWjXGS                       ...</td>\n",
       "      <td>156</td>\n",
       "      <td>54216</td>\n",
       "      <td>76</td>\n",
       "      <td>India</td>\n",
       "      <td>0</td>\n",
       "      <td>0</td>\n",
       "      <td>2</td>\n",
       "      <td>432</td>\n",
       "    </tr>\n",
       "    <tr>\n",
       "      <th>532</th>\n",
       "      <td>1080812530992173061</td>\n",
       "      <td>RT @IamHiteshB: For awareness of cyber crimes,...</td>\n",
       "      <td>2019-01-03 13:06:02</td>\n",
       "      <td>22</td>\n",
       "      <td>0</td>\n",
       "      <td>Twitter Web Client</td>\n",
       "      <td>970591741131804672</td>\n",
       "      <td>CyberDost</td>\n",
       "      <td>Cyber Dost</td>\n",
       "      <td>2018-03-05 09:27:58</td>\n",
       "      <td>https://t.co/CS0TpWjXGS                       ...</td>\n",
       "      <td>156</td>\n",
       "      <td>54216</td>\n",
       "      <td>76</td>\n",
       "      <td>India</td>\n",
       "      <td>0</td>\n",
       "      <td>2</td>\n",
       "      <td>2</td>\n",
       "      <td>432</td>\n",
       "    </tr>\n",
       "    <tr>\n",
       "      <th>533</th>\n",
       "      <td>1080811435293237249</td>\n",
       "      <td>RT @JagdishDewasi07: For awareness of cyber cr...</td>\n",
       "      <td>2019-01-03 13:01:41</td>\n",
       "      <td>11</td>\n",
       "      <td>0</td>\n",
       "      <td>Twitter Web Client</td>\n",
       "      <td>970591741131804672</td>\n",
       "      <td>CyberDost</td>\n",
       "      <td>Cyber Dost</td>\n",
       "      <td>2018-03-05 09:27:58</td>\n",
       "      <td>https://t.co/CS0TpWjXGS                       ...</td>\n",
       "      <td>156</td>\n",
       "      <td>54216</td>\n",
       "      <td>76</td>\n",
       "      <td>India</td>\n",
       "      <td>0</td>\n",
       "      <td>2</td>\n",
       "      <td>2</td>\n",
       "      <td>432</td>\n",
       "    </tr>\n",
       "    <tr>\n",
       "      <th>534</th>\n",
       "      <td>1080811372202446848</td>\n",
       "      <td>@the_ajitsingh Dear Sir/Ma'am, you can report ...</td>\n",
       "      <td>2019-01-03 13:01:26</td>\n",
       "      <td>0</td>\n",
       "      <td>2</td>\n",
       "      <td>Twitter Web Client</td>\n",
       "      <td>970591741131804672</td>\n",
       "      <td>CyberDost</td>\n",
       "      <td>Cyber Dost</td>\n",
       "      <td>2018-03-05 09:27:58</td>\n",
       "      <td>https://t.co/CS0TpWjXGS                       ...</td>\n",
       "      <td>156</td>\n",
       "      <td>54216</td>\n",
       "      <td>76</td>\n",
       "      <td>India</td>\n",
       "      <td>1</td>\n",
       "      <td>0</td>\n",
       "      <td>1</td>\n",
       "      <td>432</td>\n",
       "    </tr>\n",
       "  </tbody>\n",
       "</table>\n",
       "</div>"
      ],
      "text/plain": [
       "                 TwittID                                           TextData  \\\n",
       "531  1080812656922046465  RT @russi109: Ministry Of Home Affairs (Govt o...   \n",
       "532  1080812530992173061  RT @IamHiteshB: For awareness of cyber crimes,...   \n",
       "533  1080811435293237249  RT @JagdishDewasi07: For awareness of cyber cr...   \n",
       "534  1080811372202446848  @the_ajitsingh Dear Sir/Ma'am, you can report ...   \n",
       "\n",
       "         TweetCreatedAt  RetweetCount  TweetFavouriteCount  \\\n",
       "531 2019-01-03 13:06:32            17                    0   \n",
       "532 2019-01-03 13:06:02            22                    0   \n",
       "533 2019-01-03 13:01:41            11                    0   \n",
       "534 2019-01-03 13:01:26             0                    2   \n",
       "\n",
       "            TweetSource              UserID UserScreenName    UserName  \\\n",
       "531  Twitter Web Client  970591741131804672      CyberDost  Cyber Dost   \n",
       "532  Twitter Web Client  970591741131804672      CyberDost  Cyber Dost   \n",
       "533  Twitter Web Client  970591741131804672      CyberDost  Cyber Dost   \n",
       "534  Twitter Web Client  970591741131804672      CyberDost  Cyber Dost   \n",
       "\n",
       "          UserCreatedAt                                    UserDescription  \\\n",
       "531 2018-03-05 09:27:58  https://t.co/CS0TpWjXGS                       ...   \n",
       "532 2018-03-05 09:27:58  https://t.co/CS0TpWjXGS                       ...   \n",
       "533 2018-03-05 09:27:58  https://t.co/CS0TpWjXGS                       ...   \n",
       "534 2018-03-05 09:27:58  https://t.co/CS0TpWjXGS                       ...   \n",
       "\n",
       "     UserDescriptionLength  UserFollowersCount  UserFriendsCount UserLocation  \\\n",
       "531                    156               54216                76        India   \n",
       "532                    156               54216                76        India   \n",
       "533                    156               54216                76        India   \n",
       "534                    156               54216                76        India   \n",
       "\n",
       "     HttpCount  HashtagCount  MentionCount  TweetCount  \n",
       "531          0             0             2         432  \n",
       "532          0             2             2         432  \n",
       "533          0             2             2         432  \n",
       "534          1             0             1         432  "
      ]
     },
     "execution_count": 132,
     "metadata": {},
     "output_type": "execute_result"
    }
   ],
   "source": [
    "Data.tail(4)"
   ]
  },
  {
   "cell_type": "markdown",
   "metadata": {},
   "source": [
    "# Save data in csv_files"
   ]
  },
  {
   "cell_type": "code",
   "execution_count": 134,
   "metadata": {},
   "outputs": [],
   "source": [
    "import sys\n",
    "# Saving data with item space separating\n",
    "Data.to_csv('/home/radhey/Final_Project/Data/Leg_User_csv/friend20.csv', sep=',' , encoding='utf8')"
   ]
  },
  {
   "cell_type": "markdown",
   "metadata": {},
   "source": [
    "# extracting Spam data from twitter by searching @spam and find out the user for reported that \n",
    "# hypothesis is that there is highly chances is that that user be fake\n",
    "# We can later analyse by text any volgor word and find our later first like legitimate user we have to collect data for spammer too "
   ]
  },
  {
   "cell_type": "code",
   "execution_count": 155,
   "metadata": {},
   "outputs": [
    {
     "name": "stdout",
     "output_type": "stream",
     "text": [
      "kolot_50\n",
      "WorshipAdmin\n",
      "CougarSora\n",
      "Ruin2day\n",
      "JamesALogan1\n",
      "AmericanGoldSPP\n",
      "BSherSB\n",
      "Key board interuption\n",
      "cat: stream.txt: No such file or directory\n"
     ]
    }
   ],
   "source": [
    "# printing all the friends names of the user \n",
    "\n",
    "friends = []\n",
    "class listener(StreamListener):\n",
    "    def on_data(self, data):\n",
    "        try:\n",
    "            tweet = data.split(',\"screen_name\":\"')[1].split('\",\"location')[0]\n",
    "            print(tweet)\n",
    "            friends.append(tweet)\n",
    "            return True\n",
    "        except BaseException as e:\n",
    "            print('failed on data' + str(e))\n",
    "            time.sleep(5)\n",
    "    def on_error(self, status):\n",
    "        print(status)\n",
    "\n",
    "twitterStream = Stream(auth, listener())\n",
    "try:\n",
    "    for x in range(1,10):\n",
    "        twitterStream.filter(track=[\"cougar\"])\n",
    "except KeyboardInterrupt:\n",
    "    print(\"Key board interuption\")\n",
    "with open(\"/home/radhey/Final_Project/Data/Spam_User_text/spam12.txt\", \"w\") as f:\n",
    "     for item in friends:\n",
    "        f.write(\"%s\\n\" % item)\n"
   ]
  },
  {
   "cell_type": "code",
   "execution_count": 156,
   "metadata": {},
   "outputs": [],
   "source": [
    "#Now collect 30 tweet from each spam user that I extracted from twitter"
   ]
  },
  {
   "cell_type": "code",
   "execution_count": 206,
   "metadata": {},
   "outputs": [
    {
     "name": "stdout",
     "output_type": "stream",
     "text": [
      "210\n"
     ]
    }
   ],
   "source": [
    "Total_Data = []\n",
    "fo = open(\"/home/radhey/Final_Project/Data/Spam_User_text/spam12.txt\", \"r\")\n",
    "f = fo.readlines()\n",
    "fo.close()\n",
    "dataset = map(lambda s: s.strip(),f)\n",
    "try:\n",
    "    for datavar in dataset:\n",
    "        data = api.get_user(datavar)\n",
    "        counter = 0\n",
    "        for status in tweepy.Cursor(api.user_timeline, id = datavar).items(30):\n",
    "            try:\n",
    "                counter= counter+1\n",
    "                Total_Data.append(status)\n",
    "                time.sleep()\n",
    "            except Exception as e:\n",
    "                pass\n",
    "except Exception as e:\n",
    "    pass\n",
    "print(len(Total_Data))"
   ]
  },
  {
   "cell_type": "code",
   "execution_count": 207,
   "metadata": {},
   "outputs": [],
   "source": [
    "#Now from tweet extract useful atributes"
   ]
  },
  {
   "cell_type": "code",
   "execution_count": 208,
   "metadata": {},
   "outputs": [
    {
     "data": {
      "text/plain": [
       "(210, 19)"
      ]
     },
     "execution_count": 208,
     "metadata": {},
     "output_type": "execute_result"
    }
   ],
   "source": [
    "import urllib.parse\n",
    "import pandas as pd\n",
    "\n",
    "def process_http(string):\n",
    "    url_count = 0\n",
    "    for i in string.split():\n",
    "        s, n, p, pa, q, f = urllib.parse.urlparse(i)\n",
    "        if s and n:\n",
    "            url_count += 1\n",
    "    return url_count\n",
    "\n",
    "def process_hashtag(string):\n",
    "    hashtag_count = 0\n",
    "    for i in string.split():\n",
    "        s, n, p, pa, q, f = urllib.parse.urlparse(i)\n",
    "        if i[:1] == '#':\n",
    "            hashtag_count += 1\n",
    "    return hashtag_count\n",
    "\n",
    "def process_mention(string):\n",
    "    mention_count=0\n",
    "    for i in string.split():\n",
    "        s, n, p, pa, q, f = urllib.parse.urlparse(i)\n",
    "        if i[:1] == '@':\n",
    "            mention_count += 1\n",
    "    return mention_count\n",
    "\n",
    "def process_data(Total_Data):\n",
    "    TwittID = [tweet.id for tweet in Total_Data]\n",
    "    # Making the dataset in pandas frame\n",
    "    Data = pd.DataFrame(TwittID, columns = ['TwittID'])\n",
    "    # processing the data in Tweet level\n",
    "    \n",
    "    Data[\"TextData\"] = [tweet.text for tweet in Total_Data]\n",
    "    Data[\"TweetCreatedAt\"] = [tweet.created_at for tweet in Total_Data]\n",
    "    Data[\"RetweetCount\"] = [tweet.retweet_count for tweet in Total_Data]\n",
    "    Data[\"TweetFavouriteCount\"] = [tweet.favorite_count for tweet in Total_Data]\n",
    "    Data[\"TweetSource\"] = [tweet.source for tweet in Total_Data]\n",
    "    \n",
    "    # processing the data in User Graph level\n",
    "    \n",
    "    Data[\"UserID\"] = [tweet.author.id for tweet in Total_Data]\n",
    "    Data[\"UserScreenName\"] = [tweet.author.screen_name for tweet in Total_Data]\n",
    "    Data[\"UserName\"] = [tweet.author.name for tweet in Total_Data]\n",
    "    Data[\"UserCreatedAt\"] = [tweet.author.created_at for tweet in Total_Data]\n",
    "    Data[\"UserDescription\"] = [tweet.author.description for tweet in Total_Data]\n",
    "    Data[\"UserDescriptionLength\"] = [len(tweet.author.description) for tweet in Total_Data]\n",
    "    Data[\"UserFollowersCount\"] = [tweet.author.followers_count for tweet in Total_Data]\n",
    "    Data[\"UserFriendsCount\"] = [tweet.author.friends_count for tweet in Total_Data]\n",
    "    Data[\"UserLocation\"] = [tweet.author.location for tweet in Total_Data]\n",
    "    \n",
    "    # Data[\"url\"] = [tweet.author.url for in Total_Data]\n",
    "    # Data[\"User_mention\"] = [user_mentions.author.screen_name for tweet in Total_Data]\n",
    "    # Data[\"HashTag\"] = [hashtag.text for tweet in Total_Data]\n",
    "    \n",
    "    Data[\"HttpCount\"] = [process_http(tweet.text) for tweet in Total_Data]\n",
    "    Data[\"HashtagCount\"] = [process_hashtag(tweet.text) for tweet in Total_Data]\n",
    "    Data[\"MentionCount\"] = [process_mention(tweet.text) for tweet in Total_Data]\n",
    "    Data[\"TweetCount\"] = [tweet.author.statuses_count for tweet in Total_Data]\n",
    "    return Data\n",
    "Data = process_data(Total_Data)\n",
    "Data.shape"
   ]
  },
  {
   "cell_type": "code",
   "execution_count": 209,
   "metadata": {},
   "outputs": [],
   "source": [
    "# Save data in csv_files"
   ]
  },
  {
   "cell_type": "code",
   "execution_count": 210,
   "metadata": {},
   "outputs": [],
   "source": [
    "# Saving data with item space separating\n",
    "Data.to_csv('/home/radhey/Final_Project/Data/Spam_User_csv/spam10.csv', sep=',' , encoding='utf8')"
   ]
  },
  {
   "cell_type": "markdown",
   "metadata": {},
   "source": [
    "# First Merge all Data csv files both legitimate or Spammer"
   ]
  },
  {
   "cell_type": "code",
   "execution_count": 30,
   "metadata": {},
   "outputs": [
    {
     "data": {
      "text/html": [
       "<div>\n",
       "<style scoped>\n",
       "    .dataframe tbody tr th:only-of-type {\n",
       "        vertical-align: middle;\n",
       "    }\n",
       "\n",
       "    .dataframe tbody tr th {\n",
       "        vertical-align: top;\n",
       "    }\n",
       "\n",
       "    .dataframe thead th {\n",
       "        text-align: right;\n",
       "    }\n",
       "</style>\n",
       "<table border=\"1\" class=\"dataframe\">\n",
       "  <thead>\n",
       "    <tr style=\"text-align: right;\">\n",
       "      <th></th>\n",
       "      <th>Unnamed: 0</th>\n",
       "      <th>TwittID</th>\n",
       "      <th>TextData</th>\n",
       "      <th>TweetCreatedAt</th>\n",
       "      <th>RetweetCount</th>\n",
       "      <th>TweetFavouriteCount</th>\n",
       "      <th>TweetSource</th>\n",
       "      <th>UserID</th>\n",
       "      <th>UserScreenName</th>\n",
       "      <th>UserName</th>\n",
       "      <th>UserCreatedAt</th>\n",
       "      <th>UserDescription</th>\n",
       "      <th>UserDescriptionLength</th>\n",
       "      <th>UserFollowersCount</th>\n",
       "      <th>UserFriendsCount</th>\n",
       "      <th>UserLocation</th>\n",
       "      <th>HttpCount</th>\n",
       "      <th>HashtagCount</th>\n",
       "      <th>MentionCount</th>\n",
       "      <th>TweetCount</th>\n",
       "    </tr>\n",
       "  </thead>\n",
       "  <tbody>\n",
       "    <tr>\n",
       "      <th>11114</th>\n",
       "      <td>569</td>\n",
       "      <td>1057136047337943041</td>\n",
       "      <td>@ravijansaamna @uptrafficpolice @adgzonealld @...</td>\n",
       "      <td>2018-10-30 05:04:08</td>\n",
       "      <td>0</td>\n",
       "      <td>0</td>\n",
       "      <td>Twitter Web Client</td>\n",
       "      <td>3266889528</td>\n",
       "      <td>allahabdtraffic</td>\n",
       "      <td>Traffic Police Prayagraj</td>\n",
       "      <td>2015-07-03 09:06:39</td>\n",
       "      <td>Official Twitter account of Allahabad #Traffic...</td>\n",
       "      <td>138</td>\n",
       "      <td>7608</td>\n",
       "      <td>146</td>\n",
       "      <td>Allahabad, India</td>\n",
       "      <td>0</td>\n",
       "      <td>0</td>\n",
       "      <td>4</td>\n",
       "      <td>4937</td>\n",
       "    </tr>\n",
       "    <tr>\n",
       "      <th>11115</th>\n",
       "      <td>570</td>\n",
       "      <td>1055763859154370562</td>\n",
       "      <td>RT @igrangealld: दिनांक 25.10.2018 को पुलिस प्...</td>\n",
       "      <td>2018-10-26 10:11:33</td>\n",
       "      <td>21</td>\n",
       "      <td>0</td>\n",
       "      <td>Twitter Web Client</td>\n",
       "      <td>3266889528</td>\n",
       "      <td>allahabdtraffic</td>\n",
       "      <td>Traffic Police Prayagraj</td>\n",
       "      <td>2015-07-03 09:06:39</td>\n",
       "      <td>Official Twitter account of Allahabad #Traffic...</td>\n",
       "      <td>138</td>\n",
       "      <td>7608</td>\n",
       "      <td>146</td>\n",
       "      <td>Allahabad, India</td>\n",
       "      <td>0</td>\n",
       "      <td>0</td>\n",
       "      <td>1</td>\n",
       "      <td>4937</td>\n",
       "    </tr>\n",
       "    <tr>\n",
       "      <th>11116</th>\n",
       "      <td>571</td>\n",
       "      <td>1055699969884217344</td>\n",
       "      <td>@RahulBhasin17 @AllahabadAdmin1 @allahabadpoli...</td>\n",
       "      <td>2018-10-26 05:57:41</td>\n",
       "      <td>1</td>\n",
       "      <td>3</td>\n",
       "      <td>Twitter Web Client</td>\n",
       "      <td>3266889528</td>\n",
       "      <td>allahabdtraffic</td>\n",
       "      <td>Traffic Police Prayagraj</td>\n",
       "      <td>2015-07-03 09:06:39</td>\n",
       "      <td>Official Twitter account of Allahabad #Traffic...</td>\n",
       "      <td>138</td>\n",
       "      <td>7608</td>\n",
       "      <td>146</td>\n",
       "      <td>Allahabad, India</td>\n",
       "      <td>1</td>\n",
       "      <td>0</td>\n",
       "      <td>5</td>\n",
       "      <td>4937</td>\n",
       "    </tr>\n",
       "    <tr>\n",
       "      <th>11117</th>\n",
       "      <td>572</td>\n",
       "      <td>1055063501109104640</td>\n",
       "      <td>@ToRahulKapoor @parvaiz_alam महोदय यातायात व्य...</td>\n",
       "      <td>2018-10-24 11:48:35</td>\n",
       "      <td>0</td>\n",
       "      <td>1</td>\n",
       "      <td>Twitter Web Client</td>\n",
       "      <td>3266889528</td>\n",
       "      <td>allahabdtraffic</td>\n",
       "      <td>Traffic Police Prayagraj</td>\n",
       "      <td>2015-07-03 09:06:39</td>\n",
       "      <td>Official Twitter account of Allahabad #Traffic...</td>\n",
       "      <td>138</td>\n",
       "      <td>7608</td>\n",
       "      <td>146</td>\n",
       "      <td>Allahabad, India</td>\n",
       "      <td>1</td>\n",
       "      <td>0</td>\n",
       "      <td>2</td>\n",
       "      <td>4937</td>\n",
       "    </tr>\n",
       "  </tbody>\n",
       "</table>\n",
       "</div>"
      ],
      "text/plain": [
       "       Unnamed: 0              TwittID  \\\n",
       "11114         569  1057136047337943041   \n",
       "11115         570  1055763859154370562   \n",
       "11116         571  1055699969884217344   \n",
       "11117         572  1055063501109104640   \n",
       "\n",
       "                                                TextData       TweetCreatedAt  \\\n",
       "11114  @ravijansaamna @uptrafficpolice @adgzonealld @...  2018-10-30 05:04:08   \n",
       "11115  RT @igrangealld: दिनांक 25.10.2018 को पुलिस प्...  2018-10-26 10:11:33   \n",
       "11116  @RahulBhasin17 @AllahabadAdmin1 @allahabadpoli...  2018-10-26 05:57:41   \n",
       "11117  @ToRahulKapoor @parvaiz_alam महोदय यातायात व्य...  2018-10-24 11:48:35   \n",
       "\n",
       "       RetweetCount  TweetFavouriteCount         TweetSource      UserID  \\\n",
       "11114             0                    0  Twitter Web Client  3266889528   \n",
       "11115            21                    0  Twitter Web Client  3266889528   \n",
       "11116             1                    3  Twitter Web Client  3266889528   \n",
       "11117             0                    1  Twitter Web Client  3266889528   \n",
       "\n",
       "        UserScreenName                  UserName        UserCreatedAt  \\\n",
       "11114  allahabdtraffic  Traffic Police Prayagraj  2015-07-03 09:06:39   \n",
       "11115  allahabdtraffic  Traffic Police Prayagraj  2015-07-03 09:06:39   \n",
       "11116  allahabdtraffic  Traffic Police Prayagraj  2015-07-03 09:06:39   \n",
       "11117  allahabdtraffic  Traffic Police Prayagraj  2015-07-03 09:06:39   \n",
       "\n",
       "                                         UserDescription  \\\n",
       "11114  Official Twitter account of Allahabad #Traffic...   \n",
       "11115  Official Twitter account of Allahabad #Traffic...   \n",
       "11116  Official Twitter account of Allahabad #Traffic...   \n",
       "11117  Official Twitter account of Allahabad #Traffic...   \n",
       "\n",
       "       UserDescriptionLength  UserFollowersCount  UserFriendsCount  \\\n",
       "11114                    138                7608               146   \n",
       "11115                    138                7608               146   \n",
       "11116                    138                7608               146   \n",
       "11117                    138                7608               146   \n",
       "\n",
       "           UserLocation  HttpCount  HashtagCount  MentionCount  TweetCount  \n",
       "11114  Allahabad, India          0             0             4        4937  \n",
       "11115  Allahabad, India          0             0             1        4937  \n",
       "11116  Allahabad, India          1             0             5        4937  \n",
       "11117  Allahabad, India          1             0             2        4937  "
      ]
     },
     "execution_count": 30,
     "metadata": {},
     "output_type": "execute_result"
    }
   ],
   "source": [
    "import csv\n",
    "import glob\n",
    "import os\n",
    "# get data file names\n",
    "path = '/home/radhey/Final_Project/Data/Leg_User_csv'\n",
    "filenames = glob.glob(path + \"/*.csv\")\n",
    "content = []\n",
    "for filename in filenames:\n",
    "    content.append(pd.read_csv(filename, error_bad_lines=False))\n",
    "\n",
    "Total_leg = pd.concat(content, ignore_index=True)\n",
    "Total_leg.tail(4)"
   ]
  },
  {
   "cell_type": "code",
   "execution_count": 31,
   "metadata": {},
   "outputs": [],
   "source": [
    "Total_leg.to_csv('/home/radhey/Final_Project/Leg_data.csv', sep=',' , encoding='utf8')"
   ]
  },
  {
   "cell_type": "code",
   "execution_count": 32,
   "metadata": {},
   "outputs": [
    {
     "data": {
      "text/html": [
       "<div>\n",
       "<style scoped>\n",
       "    .dataframe tbody tr th:only-of-type {\n",
       "        vertical-align: middle;\n",
       "    }\n",
       "\n",
       "    .dataframe tbody tr th {\n",
       "        vertical-align: top;\n",
       "    }\n",
       "\n",
       "    .dataframe thead th {\n",
       "        text-align: right;\n",
       "    }\n",
       "</style>\n",
       "<table border=\"1\" class=\"dataframe\">\n",
       "  <thead>\n",
       "    <tr style=\"text-align: right;\">\n",
       "      <th></th>\n",
       "      <th>Unnamed: 0</th>\n",
       "      <th>TwittID</th>\n",
       "      <th>TextData</th>\n",
       "      <th>TweetCreatedAt</th>\n",
       "      <th>RetweetCount</th>\n",
       "      <th>TweetFavouriteCount</th>\n",
       "      <th>TweetSource</th>\n",
       "      <th>UserID</th>\n",
       "      <th>UserScreenName</th>\n",
       "      <th>UserName</th>\n",
       "      <th>UserCreatedAt</th>\n",
       "      <th>UserDescription</th>\n",
       "      <th>UserDescriptionLength</th>\n",
       "      <th>UserFollowersCount</th>\n",
       "      <th>UserFriendsCount</th>\n",
       "      <th>UserLocation</th>\n",
       "      <th>HttpCount</th>\n",
       "      <th>HashtagCount</th>\n",
       "      <th>MentionCount</th>\n",
       "      <th>TweetCount</th>\n",
       "    </tr>\n",
       "  </thead>\n",
       "  <tbody>\n",
       "    <tr>\n",
       "      <th>5390</th>\n",
       "      <td>746</td>\n",
       "      <td>1120300621578551296</td>\n",
       "      <td>RT @s___fire: your sex life is going bad ? you...</td>\n",
       "      <td>2019-04-22 12:17:37</td>\n",
       "      <td>22</td>\n",
       "      <td>0</td>\n",
       "      <td>Twitter for Android</td>\n",
       "      <td>1055696622</td>\n",
       "      <td>Giovannini8</td>\n",
       "      <td>giancarlo</td>\n",
       "      <td>2013-01-02 17:56:31</td>\n",
       "      <td>NaN</td>\n",
       "      <td>0</td>\n",
       "      <td>1755</td>\n",
       "      <td>2130</td>\n",
       "      <td>NaN</td>\n",
       "      <td>1</td>\n",
       "      <td>0</td>\n",
       "      <td>1</td>\n",
       "      <td>150737</td>\n",
       "    </tr>\n",
       "    <tr>\n",
       "      <th>5391</th>\n",
       "      <td>747</td>\n",
       "      <td>1120300607309524992</td>\n",
       "      <td>RT @s___fire: Find your fantasy here and make ...</td>\n",
       "      <td>2019-04-22 12:17:33</td>\n",
       "      <td>18</td>\n",
       "      <td>0</td>\n",
       "      <td>Twitter for Android</td>\n",
       "      <td>1055696622</td>\n",
       "      <td>Giovannini8</td>\n",
       "      <td>giancarlo</td>\n",
       "      <td>2013-01-02 17:56:31</td>\n",
       "      <td>NaN</td>\n",
       "      <td>0</td>\n",
       "      <td>1755</td>\n",
       "      <td>2130</td>\n",
       "      <td>NaN</td>\n",
       "      <td>1</td>\n",
       "      <td>0</td>\n",
       "      <td>1</td>\n",
       "      <td>150737</td>\n",
       "    </tr>\n",
       "    <tr>\n",
       "      <th>5392</th>\n",
       "      <td>748</td>\n",
       "      <td>1120300592046444545</td>\n",
       "      <td>RT @sexole: ONLINE EN https://t.co/wkT9BMovtL ...</td>\n",
       "      <td>2019-04-22 12:17:29</td>\n",
       "      <td>1</td>\n",
       "      <td>0</td>\n",
       "      <td>Twitter for Android</td>\n",
       "      <td>1055696622</td>\n",
       "      <td>Giovannini8</td>\n",
       "      <td>giancarlo</td>\n",
       "      <td>2013-01-02 17:56:31</td>\n",
       "      <td>NaN</td>\n",
       "      <td>0</td>\n",
       "      <td>1755</td>\n",
       "      <td>2130</td>\n",
       "      <td>NaN</td>\n",
       "      <td>2</td>\n",
       "      <td>2</td>\n",
       "      <td>1</td>\n",
       "      <td>150737</td>\n",
       "    </tr>\n",
       "    <tr>\n",
       "      <th>5393</th>\n",
       "      <td>749</td>\n",
       "      <td>1120300537314979840</td>\n",
       "      <td>RT @DomUrch: @irinagomez60\\n@HQPornHQ\\n@Erotik...</td>\n",
       "      <td>2019-04-22 12:17:16</td>\n",
       "      <td>121</td>\n",
       "      <td>0</td>\n",
       "      <td>Twitter for Android</td>\n",
       "      <td>1055696622</td>\n",
       "      <td>Giovannini8</td>\n",
       "      <td>giancarlo</td>\n",
       "      <td>2013-01-02 17:56:31</td>\n",
       "      <td>NaN</td>\n",
       "      <td>0</td>\n",
       "      <td>1755</td>\n",
       "      <td>2130</td>\n",
       "      <td>NaN</td>\n",
       "      <td>0</td>\n",
       "      <td>0</td>\n",
       "      <td>11</td>\n",
       "      <td>150737</td>\n",
       "    </tr>\n",
       "  </tbody>\n",
       "</table>\n",
       "</div>"
      ],
      "text/plain": [
       "      Unnamed: 0              TwittID  \\\n",
       "5390         746  1120300621578551296   \n",
       "5391         747  1120300607309524992   \n",
       "5392         748  1120300592046444545   \n",
       "5393         749  1120300537314979840   \n",
       "\n",
       "                                               TextData       TweetCreatedAt  \\\n",
       "5390  RT @s___fire: your sex life is going bad ? you...  2019-04-22 12:17:37   \n",
       "5391  RT @s___fire: Find your fantasy here and make ...  2019-04-22 12:17:33   \n",
       "5392  RT @sexole: ONLINE EN https://t.co/wkT9BMovtL ...  2019-04-22 12:17:29   \n",
       "5393  RT @DomUrch: @irinagomez60\\n@HQPornHQ\\n@Erotik...  2019-04-22 12:17:16   \n",
       "\n",
       "      RetweetCount  TweetFavouriteCount          TweetSource      UserID  \\\n",
       "5390            22                    0  Twitter for Android  1055696622   \n",
       "5391            18                    0  Twitter for Android  1055696622   \n",
       "5392             1                    0  Twitter for Android  1055696622   \n",
       "5393           121                    0  Twitter for Android  1055696622   \n",
       "\n",
       "     UserScreenName   UserName        UserCreatedAt UserDescription  \\\n",
       "5390    Giovannini8  giancarlo  2013-01-02 17:56:31             NaN   \n",
       "5391    Giovannini8  giancarlo  2013-01-02 17:56:31             NaN   \n",
       "5392    Giovannini8  giancarlo  2013-01-02 17:56:31             NaN   \n",
       "5393    Giovannini8  giancarlo  2013-01-02 17:56:31             NaN   \n",
       "\n",
       "      UserDescriptionLength  UserFollowersCount  UserFriendsCount  \\\n",
       "5390                      0                1755              2130   \n",
       "5391                      0                1755              2130   \n",
       "5392                      0                1755              2130   \n",
       "5393                      0                1755              2130   \n",
       "\n",
       "     UserLocation  HttpCount  HashtagCount  MentionCount  TweetCount  \n",
       "5390          NaN          1             0             1      150737  \n",
       "5391          NaN          1             0             1      150737  \n",
       "5392          NaN          2             2             1      150737  \n",
       "5393          NaN          0             0            11      150737  "
      ]
     },
     "execution_count": 32,
     "metadata": {},
     "output_type": "execute_result"
    }
   ],
   "source": [
    "# Merging Spammer Data\n",
    "import csv\n",
    "import glob\n",
    "import os\n",
    "# get data file names\n",
    "path = '/home/radhey/Final_Project/Data/Spam_User_csv'\n",
    "filenames = glob.glob(path + \"/*.csv\")\n",
    "content = []\n",
    "for filename in filenames:\n",
    "    content.append(pd.read_csv(filename, error_bad_lines=False))\n",
    "\n",
    "Total_leg = pd.concat(content, ignore_index=True)\n",
    "Total_leg.tail(4)"
   ]
  },
  {
   "cell_type": "code",
   "execution_count": 33,
   "metadata": {},
   "outputs": [],
   "source": [
    "Total_leg.to_csv('/home/radhey/Final_Project/Spam_data.csv', sep=',' , encoding='utf8')"
   ]
  },
  {
   "cell_type": "markdown",
   "metadata": {},
   "source": [
    "# .....................Section Second........................\n",
    "# lodading legitimate User Data"
   ]
  },
  {
   "cell_type": "code",
   "execution_count": 159,
   "metadata": {},
   "outputs": [
    {
     "data": {
      "text/plain": [
       "(11118, 21)"
      ]
     },
     "execution_count": 159,
     "metadata": {},
     "output_type": "execute_result"
    }
   ],
   "source": [
    "import pandas as pd\n",
    "Total_leg_data = pd.read_csv('Leg_data.csv')\n",
    "Total_leg_data.fillna(0, inplace=True)\n",
    "Total_leg_data.shape"
   ]
  },
  {
   "cell_type": "markdown",
   "metadata": {},
   "source": [
    "# drow bar plot to see tweet come from the which locations"
   ]
  },
  {
   "cell_type": "code",
   "execution_count": 161,
   "metadata": {},
   "outputs": [
    {
     "data": {
      "text/plain": [
       "<matplotlib.axes._subplots.AxesSubplot at 0x7fe5f153ad68>"
      ]
     },
     "execution_count": 161,
     "metadata": {},
     "output_type": "execute_result"
    },
    {
     "data": {
      "image/png": "[encoded data removed]",
      "text/plain": [
       "<Figure size 1008x504 with 1 Axes>"
      ]
     },
     "metadata": {
      "needs_background": "light"
     },
     "output_type": "display_data"
    }
   ],
   "source": [
    "location_data = Total_leg_data['UserLocation'].value_counts()\n",
    "location_data[2:15].plot(kind='bar', figsize=(14,7))"
   ]
  },
  {
   "cell_type": "markdown",
   "metadata": {},
   "source": [
    "# draw for a word how many times it used in tweets\n",
    "# Hypothesis is Legitimate users user very less compare to spammer"
   ]
  },
  {
   "cell_type": "code",
   "execution_count": 162,
   "metadata": {},
   "outputs": [
    {
     "data": {
      "text/plain": [
       "<matplotlib.axes._subplots.AxesSubplot at 0x7fe5f1473400>"
      ]
     },
     "execution_count": 162,
     "metadata": {},
     "output_type": "execute_result"
    },
    {
     "data": {
      "image/png": "[encoded data removed]",
      "text/plain": [
       "<Figure size 1296x288 with 1 Axes>"
      ]
     },
     "metadata": {
      "needs_background": "light"
     },
     "output_type": "display_data"
    }
   ],
   "source": [
    "plt.rcParams['figure.figsize'] = (18,4)\n",
    "plt.rcParams['font.family'] = 'sans-serif'\n",
    "text = Total_leg_data['TextData']\n",
    "is_sex = text.str.contains('sex')\n",
    "is_sex=is_sex.astype(float)\n",
    "is_sex.plot()"
   ]
  },
  {
   "cell_type": "code",
   "execution_count": 163,
   "metadata": {},
   "outputs": [
    {
     "data": {
      "text/plain": [
       "(11118, 21)"
      ]
     },
     "execution_count": 163,
     "metadata": {},
     "output_type": "execute_result"
    }
   ],
   "source": [
    "Total_leg_data=Total_leg_data.fillna(0)\n",
    "Total_leg_data.shape"
   ]
  },
  {
   "cell_type": "markdown",
   "metadata": {},
   "source": [
    "# Save Followers count"
   ]
  },
  {
   "cell_type": "code",
   "execution_count": 164,
   "metadata": {},
   "outputs": [],
   "source": [
    "temp1 = Total_leg_data[[\"UserFollowersCount\"]]\n",
    "temp1.to_csv('temp1.csv', sep=',',encoding='utf8')"
   ]
  },
  {
   "cell_type": "markdown",
   "metadata": {},
   "source": [
    "# Retweet ratio also will be higher compare to spammer user "
   ]
  },
  {
   "cell_type": "code",
   "execution_count": 165,
   "metadata": {},
   "outputs": [
    {
     "name": "stdout",
     "output_type": "stream",
     "text": [
      "<class 'pandas.core.frame.DataFrame'>\n",
      "RangeIndex: 11118 entries, 0 to 11117\n",
      "Data columns (total 21 columns):\n",
      "Unnamed: 0               11118 non-null int64\n",
      "Unnamed: 0.1             11118 non-null int64\n",
      "TwittID                  11118 non-null int64\n",
      "TextData                 11118 non-null object\n",
      "TweetCreatedAt           11118 non-null object\n",
      "RetweetCount             11118 non-null float64\n",
      "TweetFavouriteCount      11118 non-null int64\n",
      "TweetSource              11118 non-null object\n",
      "UserID                   11118 non-null int64\n",
      "UserScreenName           11118 non-null object\n",
      "UserName                 11118 non-null object\n",
      "UserCreatedAt            11118 non-null object\n",
      "UserDescription          11118 non-null object\n",
      "UserDescriptionLength    11118 non-null int64\n",
      "UserFollowersCount       11118 non-null int64\n",
      "UserFriendsCount         11118 non-null int64\n",
      "UserLocation             11118 non-null object\n",
      "HttpCount                11118 non-null int64\n",
      "HashtagCount             11118 non-null int64\n",
      "MentionCount             11118 non-null int64\n",
      "TweetCount               11118 non-null int64\n",
      "dtypes: float64(1), int64(12), object(8)\n",
      "memory usage: 1.8+ MB\n"
     ]
    }
   ],
   "source": [
    "Total_leg_data[['RetweetCount']] = Total_leg_data[['RetweetCount']].astype(float)\n",
    "Total_leg_data.info()"
   ]
  },
  {
   "cell_type": "code",
   "execution_count": 166,
   "metadata": {},
   "outputs": [
    {
     "data": {
      "text/plain": [
       "378"
      ]
     },
     "execution_count": 166,
     "metadata": {},
     "output_type": "execute_result"
    }
   ],
   "source": [
    "# to see how many people have zero tweet\n",
    "Total_leg_data = Total_leg_data[Total_leg_data.TweetCount!=0]\n",
    "len(Total_leg_data[Total_leg_data.TweetCount<30])"
   ]
  },
  {
   "cell_type": "code",
   "execution_count": 167,
   "metadata": {
    "scrolled": true
   },
   "outputs": [
    {
     "name": "stdout",
     "output_type": "stream",
     "text": [
      "<class 'pandas.core.frame.DataFrame'>\n",
      "Int64Index: 11118 entries, 0 to 11117\n",
      "Data columns (total 21 columns):\n",
      "Unnamed: 0               11118 non-null int64\n",
      "Unnamed: 0.1             11118 non-null int64\n",
      "TwittID                  11118 non-null int64\n",
      "TextData                 11118 non-null object\n",
      "TweetCreatedAt           11118 non-null object\n",
      "RetweetCount             11118 non-null float64\n",
      "TweetFavouriteCount      11118 non-null int64\n",
      "TweetSource              11118 non-null object\n",
      "UserID                   11118 non-null int64\n",
      "UserScreenName           11118 non-null object\n",
      "UserName                 11118 non-null object\n",
      "UserCreatedAt            11118 non-null object\n",
      "UserDescription          11118 non-null object\n",
      "UserDescriptionLength    11118 non-null int64\n",
      "UserFollowersCount       11118 non-null int64\n",
      "UserFriendsCount         11118 non-null int64\n",
      "UserLocation             11118 non-null object\n",
      "HttpCount                11118 non-null int64\n",
      "HashtagCount             11118 non-null int64\n",
      "MentionCount             11118 non-null int64\n",
      "TweetCount               11118 non-null int64\n",
      "dtypes: float64(1), int64(12), object(8)\n",
      "memory usage: 1.9+ MB\n"
     ]
    }
   ],
   "source": [
    "Total_leg_data[[\"RetweetCount\"]] = Total_leg_data[[\"RetweetCount\"]].astype(float)\n",
    "Total_leg_data.info()"
   ]
  },
  {
   "cell_type": "code",
   "execution_count": 168,
   "metadata": {},
   "outputs": [],
   "source": [
    "Total_leg_data.loc[:,\"AvgHashtag\"] = (Total_leg_data.groupby('UserID')[\"HashtagCount\"].transform('sum'))/30\n",
    "Total_leg_data.loc[:,\"AvgURLCount\"] = (Total_leg_data.groupby('UserID')[\"HttpCount\"].transform('sum'))/30\n",
    "Total_leg_data.loc[:,\"AvgMention\"] = (Total_leg_data.groupby('UserID')[\"MentionCount\"].transform('sum'))/30\n",
    "Total_leg_data.loc[:,\"AvgRetweet\"] = (Total_leg_data.groupby('UserID')[\"RetweetCount\"].transform('sum'))/30\n",
    "Total_leg_data.loc[:,\"AvgFavCount\"] = (Total_leg_data.groupby('UserID')[\"TweetFavouriteCount\"].transform('sum'))/30"
   ]
  },
  {
   "cell_type": "markdown",
   "metadata": {},
   "source": [
    "# Selecting Repeted columns only and droping the repeted rows"
   ]
  },
  {
   "cell_type": "code",
   "execution_count": 169,
   "metadata": {},
   "outputs": [
    {
     "name": "stdout",
     "output_type": "stream",
     "text": [
      "<class 'pandas.core.frame.DataFrame'>\n",
      "Int64Index: 375 entries, 0 to 11088\n",
      "Data columns (total 13 columns):\n",
      "UserID                   375 non-null int64\n",
      "UserScreenName           375 non-null object\n",
      "UserCreatedAt            375 non-null object\n",
      "UserDescriptionLength    375 non-null int64\n",
      "UserFollowersCount       375 non-null int64\n",
      "UserFriendsCount         375 non-null int64\n",
      "UserLocation             375 non-null object\n",
      "AvgHashtag               375 non-null float64\n",
      "AvgURLCount              375 non-null float64\n",
      "AvgMention               375 non-null float64\n",
      "AvgRetweet               375 non-null float64\n",
      "AvgFavCount              375 non-null float64\n",
      "TweetCount               375 non-null int64\n",
      "dtypes: float64(5), int64(5), object(3)\n",
      "memory usage: 41.0+ KB\n"
     ]
    }
   ],
   "source": [
    "unique_leg_row = Total_leg_data[[\"UserID\", \"UserScreenName\", \"UserCreatedAt\", \"UserDescriptionLength\",\"UserFollowersCount\", \"UserFriendsCount\", \"UserLocation\", \"AvgHashtag\", \"AvgURLCount\", \"AvgMention\", \"AvgRetweet\", \"AvgFavCount\", \"TweetCount\"]]\n",
    "leg_data = unique_leg_row.drop_duplicates()\n",
    "leg_data.info()"
   ]
  },
  {
   "cell_type": "code",
   "execution_count": 170,
   "metadata": {},
   "outputs": [
    {
     "name": "stderr",
     "output_type": "stream",
     "text": [
      "/home/radhey/anaconda3/lib/python3.6/site-packages/ipykernel_launcher.py:3: FutureWarning: The signature of `Series.to_csv` was aligned to that of `DataFrame.to_csv`, and argument 'header' will change its default value from False to True: please pass an explicit value to suppress this warning.\n",
      "  This is separate from the ipykernel package so we can avoid doing imports until\n"
     ]
    }
   ],
   "source": [
    "# Saving the reduced legitimate data\n",
    "fre = leg_data[\"UserFriendsCount\"]\n",
    "fre.to_csv(\"Temp_leg.csv\", sep=',',encoding='utf8')"
   ]
  },
  {
   "cell_type": "code",
   "execution_count": 171,
   "metadata": {},
   "outputs": [
    {
     "name": "stdout",
     "output_type": "stream",
     "text": [
      "<class 'pandas.core.frame.DataFrame'>\n",
      "Int64Index: 375 entries, 0 to 11088\n",
      "Data columns (total 13 columns):\n",
      "UserID                   375 non-null int64\n",
      "UserScreenName           375 non-null object\n",
      "UserCreatedAt            375 non-null object\n",
      "UserDescriptionLength    375 non-null int64\n",
      "UserFollowersCount       375 non-null int64\n",
      "UserFriendsCount         375 non-null float64\n",
      "UserLocation             375 non-null object\n",
      "AvgHashtag               375 non-null float64\n",
      "AvgURLCount              375 non-null float64\n",
      "AvgMention               375 non-null float64\n",
      "AvgRetweet               375 non-null float64\n",
      "AvgFavCount              375 non-null float64\n",
      "TweetCount               375 non-null int64\n",
      "dtypes: float64(6), int64(4), object(3)\n",
      "memory usage: 41.0+ KB\n"
     ]
    },
    {
     "name": "stderr",
     "output_type": "stream",
     "text": [
      "/home/radhey/anaconda3/lib/python3.6/site-packages/pandas/core/frame.py:3391: SettingWithCopyWarning: \n",
      "A value is trying to be set on a copy of a slice from a DataFrame.\n",
      "Try using .loc[row_indexer,col_indexer] = value instead\n",
      "\n",
      "See the caveats in the documentation: http://pandas.pydata.org/pandas-docs/stable/indexing.html#indexing-view-versus-copy\n",
      "  self[k1] = value[k2]\n"
     ]
    }
   ],
   "source": [
    "# Datatype conversion from object to float\n",
    "leg_data[['UserFriendsCount']] = leg_data[['UserFriendsCount']].astype(float)\n",
    "leg_data.info()"
   ]
  },
  {
   "cell_type": "code",
   "execution_count": 172,
   "metadata": {},
   "outputs": [
    {
     "name": "stderr",
     "output_type": "stream",
     "text": [
      "/home/radhey/anaconda3/lib/python3.6/site-packages/pandas/core/indexing.py:362: SettingWithCopyWarning: \n",
      "A value is trying to be set on a copy of a slice from a DataFrame.\n",
      "Try using .loc[row_indexer,col_indexer] = value instead\n",
      "\n",
      "See the caveats in the documentation: http://pandas.pydata.org/pandas-docs/stable/indexing.html#indexing-view-versus-copy\n",
      "  self.obj[key] = _infer_fill_value(value)\n",
      "/home/radhey/anaconda3/lib/python3.6/site-packages/pandas/core/indexing.py:543: SettingWithCopyWarning: \n",
      "A value is trying to be set on a copy of a slice from a DataFrame.\n",
      "Try using .loc[row_indexer,col_indexer] = value instead\n",
      "\n",
      "See the caveats in the documentation: http://pandas.pydata.org/pandas-docs/stable/indexing.html#indexing-view-versus-copy\n",
      "  self.obj[item] = s\n"
     ]
    },
    {
     "data": {
      "text/html": [
       "<div>\n",
       "<style scoped>\n",
       "    .dataframe tbody tr th:only-of-type {\n",
       "        vertical-align: middle;\n",
       "    }\n",
       "\n",
       "    .dataframe tbody tr th {\n",
       "        vertical-align: top;\n",
       "    }\n",
       "\n",
       "    .dataframe thead th {\n",
       "        text-align: right;\n",
       "    }\n",
       "</style>\n",
       "<table border=\"1\" class=\"dataframe\">\n",
       "  <thead>\n",
       "    <tr style=\"text-align: right;\">\n",
       "      <th></th>\n",
       "      <th>UserID</th>\n",
       "      <th>UserScreenName</th>\n",
       "      <th>UserCreatedAt</th>\n",
       "      <th>UserDescriptionLength</th>\n",
       "      <th>UserFollowersCount</th>\n",
       "      <th>UserFriendsCount</th>\n",
       "      <th>UserLocation</th>\n",
       "      <th>AvgHashtag</th>\n",
       "      <th>AvgURLCount</th>\n",
       "      <th>AvgMention</th>\n",
       "      <th>AvgRetweet</th>\n",
       "      <th>AvgFavCount</th>\n",
       "      <th>TweetCount</th>\n",
       "      <th>SpammerOrNot</th>\n",
       "    </tr>\n",
       "  </thead>\n",
       "  <tbody>\n",
       "    <tr>\n",
       "      <th>10968</th>\n",
       "      <td>767677235805511680</td>\n",
       "      <td>mediaamantra</td>\n",
       "      <td>2016-08-22 10:58:10</td>\n",
       "      <td>128</td>\n",
       "      <td>1566</td>\n",
       "      <td>958.0</td>\n",
       "      <td>Lucknow, India</td>\n",
       "      <td>0.400000</td>\n",
       "      <td>1.0</td>\n",
       "      <td>0.600000</td>\n",
       "      <td>3.400000</td>\n",
       "      <td>4.533333</td>\n",
       "      <td>14896</td>\n",
       "      <td>0</td>\n",
       "    </tr>\n",
       "    <tr>\n",
       "      <th>10998</th>\n",
       "      <td>67378160</td>\n",
       "      <td>DainikBhaskar</td>\n",
       "      <td>2009-08-20 18:04:36</td>\n",
       "      <td>76</td>\n",
       "      <td>634524</td>\n",
       "      <td>46.0</td>\n",
       "      <td>India</td>\n",
       "      <td>8.933333</td>\n",
       "      <td>4.0</td>\n",
       "      <td>1.333333</td>\n",
       "      <td>12.533333</td>\n",
       "      <td>87.900000</td>\n",
       "      <td>119712</td>\n",
       "      <td>0</td>\n",
       "    </tr>\n",
       "    <tr>\n",
       "      <th>11028</th>\n",
       "      <td>461841349</td>\n",
       "      <td>ZeeNewsHindi</td>\n",
       "      <td>2012-01-12 07:52:31</td>\n",
       "      <td>110</td>\n",
       "      <td>1868923</td>\n",
       "      <td>22.0</td>\n",
       "      <td>India</td>\n",
       "      <td>2.033333</td>\n",
       "      <td>2.9</td>\n",
       "      <td>1.500000</td>\n",
       "      <td>244.966667</td>\n",
       "      <td>992.166667</td>\n",
       "      <td>181029</td>\n",
       "      <td>0</td>\n",
       "    </tr>\n",
       "    <tr>\n",
       "      <th>11058</th>\n",
       "      <td>98362607</td>\n",
       "      <td>News18India</td>\n",
       "      <td>2009-12-21 12:11:21</td>\n",
       "      <td>47</td>\n",
       "      <td>1035839</td>\n",
       "      <td>89.0</td>\n",
       "      <td>India</td>\n",
       "      <td>2.033333</td>\n",
       "      <td>2.0</td>\n",
       "      <td>1.566667</td>\n",
       "      <td>20.733333</td>\n",
       "      <td>100.533333</td>\n",
       "      <td>285844</td>\n",
       "      <td>0</td>\n",
       "    </tr>\n",
       "    <tr>\n",
       "      <th>11088</th>\n",
       "      <td>3266889528</td>\n",
       "      <td>allahabdtraffic</td>\n",
       "      <td>2015-07-03 09:06:39</td>\n",
       "      <td>138</td>\n",
       "      <td>7608</td>\n",
       "      <td>146.0</td>\n",
       "      <td>Allahabad, India</td>\n",
       "      <td>0.733333</td>\n",
       "      <td>0.7</td>\n",
       "      <td>1.966667</td>\n",
       "      <td>35.100000</td>\n",
       "      <td>2.633333</td>\n",
       "      <td>4937</td>\n",
       "      <td>0</td>\n",
       "    </tr>\n",
       "  </tbody>\n",
       "</table>\n",
       "</div>"
      ],
      "text/plain": [
       "                   UserID   UserScreenName        UserCreatedAt  \\\n",
       "10968  767677235805511680     mediaamantra  2016-08-22 10:58:10   \n",
       "10998            67378160    DainikBhaskar  2009-08-20 18:04:36   \n",
       "11028           461841349     ZeeNewsHindi  2012-01-12 07:52:31   \n",
       "11058            98362607      News18India  2009-12-21 12:11:21   \n",
       "11088          3266889528  allahabdtraffic  2015-07-03 09:06:39   \n",
       "\n",
       "       UserDescriptionLength  UserFollowersCount  UserFriendsCount  \\\n",
       "10968                    128                1566             958.0   \n",
       "10998                     76              634524              46.0   \n",
       "11028                    110             1868923              22.0   \n",
       "11058                     47             1035839              89.0   \n",
       "11088                    138                7608             146.0   \n",
       "\n",
       "           UserLocation  AvgHashtag  AvgURLCount  AvgMention  AvgRetweet  \\\n",
       "10968    Lucknow, India    0.400000          1.0    0.600000    3.400000   \n",
       "10998             India    8.933333          4.0    1.333333   12.533333   \n",
       "11028             India    2.033333          2.9    1.500000  244.966667   \n",
       "11058             India    2.033333          2.0    1.566667   20.733333   \n",
       "11088  Allahabad, India    0.733333          0.7    1.966667   35.100000   \n",
       "\n",
       "       AvgFavCount  TweetCount  SpammerOrNot  \n",
       "10968     4.533333       14896             0  \n",
       "10998    87.900000      119712             0  \n",
       "11028   992.166667      181029             0  \n",
       "11058   100.533333      285844             0  \n",
       "11088     2.633333        4937             0  "
      ]
     },
     "execution_count": 172,
     "metadata": {},
     "output_type": "execute_result"
    }
   ],
   "source": [
    "# Add a Column to LEgitimate Data that this is not Spam =0\n",
    "leg_data.loc[:, \"SpammerOrNot\"]=0\n",
    "leg_data.tail()"
   ]
  },
  {
   "cell_type": "code",
   "execution_count": 173,
   "metadata": {},
   "outputs": [
    {
     "data": {
      "text/plain": [
       "count       375.000000\n",
       "mean      41288.162667\n",
       "std       93281.144477\n",
       "min           1.000000\n",
       "25%         324.000000\n",
       "50%        3883.000000\n",
       "75%       20650.000000\n",
       "max      596778.000000\n",
       "Name: TweetCount, dtype: float64"
      ]
     },
     "execution_count": 173,
     "metadata": {},
     "output_type": "execute_result"
    }
   ],
   "source": [
    "leg_data[\"TweetCount\"].describe()"
   ]
  },
  {
   "cell_type": "code",
   "execution_count": 174,
   "metadata": {},
   "outputs": [
    {
     "data": {
      "text/plain": [
       "(5394, 21)"
      ]
     },
     "execution_count": 174,
     "metadata": {},
     "output_type": "execute_result"
    }
   ],
   "source": [
    "# Now Loading Spammer Data \n",
    "Total_spam_data = pd.read_csv(\"Spam_data.csv\")\n",
    "Total_spam_data.fillna(0, inplace=True)\n",
    "Total_spam_data.shape"
   ]
  },
  {
   "cell_type": "code",
   "execution_count": 175,
   "metadata": {},
   "outputs": [
    {
     "data": {
      "text/plain": [
       "<matplotlib.axes._subplots.AxesSubplot at 0x7fe5f14dad30>"
      ]
     },
     "execution_count": 175,
     "metadata": {},
     "output_type": "execute_result"
    },
    {
     "data": {
      "image/png": "[encoded data removed]",
      "text/plain": [
       "<Figure size 1008x504 with 1 Axes>"
      ]
     },
     "metadata": {
      "needs_background": "light"
     },
     "output_type": "display_data"
    }
   ],
   "source": [
    "%matplotlib inline\n",
    "location_data = Total_spam_data['UserLocation'].value_counts()\n",
    "location_data[2:15].plot(kind='bar', figsize=(14,7))"
   ]
  },
  {
   "cell_type": "code",
   "execution_count": 176,
   "metadata": {},
   "outputs": [],
   "source": [
    "#By Analyize Tweet I find that there is a lot of volgor word used by spam user compare to legitimate users"
   ]
  },
  {
   "cell_type": "code",
   "execution_count": 177,
   "metadata": {},
   "outputs": [
    {
     "data": {
      "text/plain": [
       "<matplotlib.axes._subplots.AxesSubplot at 0x7fe5f17f9438>"
      ]
     },
     "execution_count": 177,
     "metadata": {},
     "output_type": "execute_result"
    },
    {
     "data": {
      "image/png": "[encoded data removed]",
      "text/plain": [
       "<Figure size 1296x288 with 1 Axes>"
      ]
     },
     "metadata": {
      "needs_background": "light"
     },
     "output_type": "display_data"
    }
   ],
   "source": [
    "import matplotlib.pyplot as plt\n",
    "import string as str\n",
    "%matplotlib inline\n",
    "plt.rcParams['figure.figsize'] = (18,4)\n",
    "plt.rcParams['font.family'] = 'sans-serif'\n",
    "text = Total_spam_data['TextData']\n",
    "is_sex = text.str.contains('sex')\n",
    "is_sex=is_sex.astype(float)\n",
    "is_sex.plot()"
   ]
  },
  {
   "cell_type": "code",
   "execution_count": 178,
   "metadata": {},
   "outputs": [
    {
     "data": {
      "text/plain": [
       "(5394, 21)"
      ]
     },
     "execution_count": 178,
     "metadata": {},
     "output_type": "execute_result"
    }
   ],
   "source": [
    "Total_spam_data=Total_spam_data.fillna(0)\n",
    "Total_spam_data.shape"
   ]
  },
  {
   "cell_type": "code",
   "execution_count": 179,
   "metadata": {},
   "outputs": [],
   "source": [
    "temp2 = Total_spam_data[[\"UserFollowersCount\"]]\n",
    "temp2.to_csv('temp2.csv', sep=',',encoding='utf8')"
   ]
  },
  {
   "cell_type": "code",
   "execution_count": 180,
   "metadata": {},
   "outputs": [
    {
     "name": "stdout",
     "output_type": "stream",
     "text": [
      "<class 'pandas.core.frame.DataFrame'>\n",
      "RangeIndex: 5394 entries, 0 to 5393\n",
      "Data columns (total 21 columns):\n",
      "Unnamed: 0               5394 non-null int64\n",
      "Unnamed: 0.1             5394 non-null int64\n",
      "TwittID                  5394 non-null int64\n",
      "TextData                 5394 non-null object\n",
      "TweetCreatedAt           5394 non-null object\n",
      "RetweetCount             5394 non-null float64\n",
      "TweetFavouriteCount      5394 non-null int64\n",
      "TweetSource              5394 non-null object\n",
      "UserID                   5394 non-null int64\n",
      "UserScreenName           5394 non-null object\n",
      "UserName                 5394 non-null object\n",
      "UserCreatedAt            5394 non-null object\n",
      "UserDescription          5394 non-null object\n",
      "UserDescriptionLength    5394 non-null int64\n",
      "UserFollowersCount       5394 non-null int64\n",
      "UserFriendsCount         5394 non-null int64\n",
      "UserLocation             5394 non-null object\n",
      "HttpCount                5394 non-null int64\n",
      "HashtagCount             5394 non-null int64\n",
      "MentionCount             5394 non-null int64\n",
      "TweetCount               5394 non-null int64\n",
      "dtypes: float64(1), int64(12), object(8)\n",
      "memory usage: 885.0+ KB\n"
     ]
    }
   ],
   "source": [
    "Total_spam_data[['RetweetCount']] = Total_spam_data[['RetweetCount']].astype(float)\n",
    "Total_spam_data.info()"
   ]
  },
  {
   "cell_type": "code",
   "execution_count": 181,
   "metadata": {},
   "outputs": [
    {
     "data": {
      "text/plain": [
       "54"
      ]
     },
     "execution_count": 181,
     "metadata": {},
     "output_type": "execute_result"
    }
   ],
   "source": [
    "Total_spam_data = Total_spam_data[Total_spam_data.TweetCount!=0]\n",
    "len(Total_spam_data[Total_spam_data.TweetCount<30])"
   ]
  },
  {
   "cell_type": "code",
   "execution_count": 182,
   "metadata": {},
   "outputs": [],
   "source": [
    "Total_spam_data.loc[:,'AvgHashtag'] = (Total_spam_data.groupby('UserID')[\"HashtagCount\"].transform('sum'))/30\n",
    "Total_spam_data.loc[:,'AvgURLCount'] = (Total_spam_data.groupby('UserID')[\"HttpCount\"].transform('sum'))/30\n",
    "Total_spam_data.loc[:,'AvgMention'] = (Total_spam_data.groupby('UserID')[\"MentionCount\"].transform('sum'))/30\n",
    "Total_spam_data.loc[:,'AvgRetweet'] = (Total_spam_data.groupby('UserID')[\"RetweetCount\"].transform('sum'))/30\n",
    "Total_spam_data.loc[:,'AvgFavCount'] = (Total_spam_data.groupby('UserID')[\"TweetFavouriteCount\"].transform('sum'))/30"
   ]
  },
  {
   "cell_type": "code",
   "execution_count": 183,
   "metadata": {},
   "outputs": [
    {
     "data": {
      "text/html": [
       "<div>\n",
       "<style scoped>\n",
       "    .dataframe tbody tr th:only-of-type {\n",
       "        vertical-align: middle;\n",
       "    }\n",
       "\n",
       "    .dataframe tbody tr th {\n",
       "        vertical-align: top;\n",
       "    }\n",
       "\n",
       "    .dataframe thead th {\n",
       "        text-align: right;\n",
       "    }\n",
       "</style>\n",
       "<table border=\"1\" class=\"dataframe\">\n",
       "  <thead>\n",
       "    <tr style=\"text-align: right;\">\n",
       "      <th></th>\n",
       "      <th>Unnamed: 0</th>\n",
       "      <th>Unnamed: 0.1</th>\n",
       "      <th>TwittID</th>\n",
       "      <th>TextData</th>\n",
       "      <th>TweetCreatedAt</th>\n",
       "      <th>RetweetCount</th>\n",
       "      <th>TweetFavouriteCount</th>\n",
       "      <th>TweetSource</th>\n",
       "      <th>UserID</th>\n",
       "      <th>UserScreenName</th>\n",
       "      <th>...</th>\n",
       "      <th>UserLocation</th>\n",
       "      <th>HttpCount</th>\n",
       "      <th>HashtagCount</th>\n",
       "      <th>MentionCount</th>\n",
       "      <th>TweetCount</th>\n",
       "      <th>AvgHashtag</th>\n",
       "      <th>AvgURLCount</th>\n",
       "      <th>AvgMention</th>\n",
       "      <th>AvgRetweet</th>\n",
       "      <th>AvgFavCount</th>\n",
       "    </tr>\n",
       "  </thead>\n",
       "  <tbody>\n",
       "    <tr>\n",
       "      <th>5390</th>\n",
       "      <td>5390</td>\n",
       "      <td>746</td>\n",
       "      <td>1120300621578551296</td>\n",
       "      <td>RT @s___fire: your sex life is going bad ? you...</td>\n",
       "      <td>2019-04-22 12:17:37</td>\n",
       "      <td>22.0</td>\n",
       "      <td>0</td>\n",
       "      <td>Twitter for Android</td>\n",
       "      <td>1055696622</td>\n",
       "      <td>Giovannini8</td>\n",
       "      <td>...</td>\n",
       "      <td>0</td>\n",
       "      <td>1</td>\n",
       "      <td>0</td>\n",
       "      <td>1</td>\n",
       "      <td>150737</td>\n",
       "      <td>0.833333</td>\n",
       "      <td>1.766667</td>\n",
       "      <td>3.6</td>\n",
       "      <td>138.733333</td>\n",
       "      <td>0.0</td>\n",
       "    </tr>\n",
       "    <tr>\n",
       "      <th>5391</th>\n",
       "      <td>5391</td>\n",
       "      <td>747</td>\n",
       "      <td>1120300607309524992</td>\n",
       "      <td>RT @s___fire: Find your fantasy here and make ...</td>\n",
       "      <td>2019-04-22 12:17:33</td>\n",
       "      <td>18.0</td>\n",
       "      <td>0</td>\n",
       "      <td>Twitter for Android</td>\n",
       "      <td>1055696622</td>\n",
       "      <td>Giovannini8</td>\n",
       "      <td>...</td>\n",
       "      <td>0</td>\n",
       "      <td>1</td>\n",
       "      <td>0</td>\n",
       "      <td>1</td>\n",
       "      <td>150737</td>\n",
       "      <td>0.833333</td>\n",
       "      <td>1.766667</td>\n",
       "      <td>3.6</td>\n",
       "      <td>138.733333</td>\n",
       "      <td>0.0</td>\n",
       "    </tr>\n",
       "    <tr>\n",
       "      <th>5392</th>\n",
       "      <td>5392</td>\n",
       "      <td>748</td>\n",
       "      <td>1120300592046444545</td>\n",
       "      <td>RT @sexole: ONLINE EN https://t.co/wkT9BMovtL ...</td>\n",
       "      <td>2019-04-22 12:17:29</td>\n",
       "      <td>1.0</td>\n",
       "      <td>0</td>\n",
       "      <td>Twitter for Android</td>\n",
       "      <td>1055696622</td>\n",
       "      <td>Giovannini8</td>\n",
       "      <td>...</td>\n",
       "      <td>0</td>\n",
       "      <td>2</td>\n",
       "      <td>2</td>\n",
       "      <td>1</td>\n",
       "      <td>150737</td>\n",
       "      <td>0.833333</td>\n",
       "      <td>1.766667</td>\n",
       "      <td>3.6</td>\n",
       "      <td>138.733333</td>\n",
       "      <td>0.0</td>\n",
       "    </tr>\n",
       "    <tr>\n",
       "      <th>5393</th>\n",
       "      <td>5393</td>\n",
       "      <td>749</td>\n",
       "      <td>1120300537314979840</td>\n",
       "      <td>RT @DomUrch: @irinagomez60\\n@HQPornHQ\\n@Erotik...</td>\n",
       "      <td>2019-04-22 12:17:16</td>\n",
       "      <td>121.0</td>\n",
       "      <td>0</td>\n",
       "      <td>Twitter for Android</td>\n",
       "      <td>1055696622</td>\n",
       "      <td>Giovannini8</td>\n",
       "      <td>...</td>\n",
       "      <td>0</td>\n",
       "      <td>0</td>\n",
       "      <td>0</td>\n",
       "      <td>11</td>\n",
       "      <td>150737</td>\n",
       "      <td>0.833333</td>\n",
       "      <td>1.766667</td>\n",
       "      <td>3.6</td>\n",
       "      <td>138.733333</td>\n",
       "      <td>0.0</td>\n",
       "    </tr>\n",
       "  </tbody>\n",
       "</table>\n",
       "<p>4 rows × 26 columns</p>\n",
       "</div>"
      ],
      "text/plain": [
       "      Unnamed: 0  Unnamed: 0.1              TwittID  \\\n",
       "5390        5390           746  1120300621578551296   \n",
       "5391        5391           747  1120300607309524992   \n",
       "5392        5392           748  1120300592046444545   \n",
       "5393        5393           749  1120300537314979840   \n",
       "\n",
       "                                               TextData       TweetCreatedAt  \\\n",
       "5390  RT @s___fire: your sex life is going bad ? you...  2019-04-22 12:17:37   \n",
       "5391  RT @s___fire: Find your fantasy here and make ...  2019-04-22 12:17:33   \n",
       "5392  RT @sexole: ONLINE EN https://t.co/wkT9BMovtL ...  2019-04-22 12:17:29   \n",
       "5393  RT @DomUrch: @irinagomez60\\n@HQPornHQ\\n@Erotik...  2019-04-22 12:17:16   \n",
       "\n",
       "      RetweetCount  TweetFavouriteCount          TweetSource      UserID  \\\n",
       "5390          22.0                    0  Twitter for Android  1055696622   \n",
       "5391          18.0                    0  Twitter for Android  1055696622   \n",
       "5392           1.0                    0  Twitter for Android  1055696622   \n",
       "5393         121.0                    0  Twitter for Android  1055696622   \n",
       "\n",
       "     UserScreenName  ... UserLocation HttpCount HashtagCount  MentionCount  \\\n",
       "5390    Giovannini8  ...            0         1            0             1   \n",
       "5391    Giovannini8  ...            0         1            0             1   \n",
       "5392    Giovannini8  ...            0         2            2             1   \n",
       "5393    Giovannini8  ...            0         0            0            11   \n",
       "\n",
       "      TweetCount  AvgHashtag AvgURLCount  AvgMention  AvgRetweet  AvgFavCount  \n",
       "5390      150737    0.833333    1.766667         3.6  138.733333          0.0  \n",
       "5391      150737    0.833333    1.766667         3.6  138.733333          0.0  \n",
       "5392      150737    0.833333    1.766667         3.6  138.733333          0.0  \n",
       "5393      150737    0.833333    1.766667         3.6  138.733333          0.0  \n",
       "\n",
       "[4 rows x 26 columns]"
      ]
     },
     "execution_count": 183,
     "metadata": {},
     "output_type": "execute_result"
    }
   ],
   "source": [
    "Total_spam_data.tail(4)"
   ]
  },
  {
   "cell_type": "code",
   "execution_count": 184,
   "metadata": {},
   "outputs": [
    {
     "name": "stdout",
     "output_type": "stream",
     "text": [
      "<class 'pandas.core.frame.DataFrame'>\n",
      "Int64Index: 177 entries, 0 to 5364\n",
      "Data columns (total 13 columns):\n",
      "UserID                   177 non-null int64\n",
      "UserScreenName           177 non-null object\n",
      "UserCreatedAt            177 non-null object\n",
      "UserDescriptionLength    177 non-null int64\n",
      "UserFollowersCount       177 non-null int64\n",
      "UserFriendsCount         177 non-null int64\n",
      "UserLocation             177 non-null object\n",
      "AvgHashtag               177 non-null float64\n",
      "AvgURLCount              177 non-null float64\n",
      "AvgMention               177 non-null float64\n",
      "AvgRetweet               177 non-null float64\n",
      "AvgFavCount              177 non-null float64\n",
      "TweetCount               177 non-null int64\n",
      "dtypes: float64(5), int64(5), object(3)\n",
      "memory usage: 19.4+ KB\n"
     ]
    }
   ],
   "source": [
    "# Selecting Repeted columns only and droping the repeted rows\n",
    "\n",
    "unique_spam_row = Total_spam_data[[\"UserID\", \"UserScreenName\", \"UserCreatedAt\", \"UserDescriptionLength\",\"UserFollowersCount\", \"UserFriendsCount\", \"UserLocation\", \"AvgHashtag\", \"AvgURLCount\", \"AvgMention\", \"AvgRetweet\", \"AvgFavCount\", \"TweetCount\"]]\n",
    "spam_data = unique_spam_row.drop_duplicates()\n",
    "spam_data.info()"
   ]
  },
  {
   "cell_type": "code",
   "execution_count": 185,
   "metadata": {},
   "outputs": [
    {
     "name": "stderr",
     "output_type": "stream",
     "text": [
      "/home/radhey/anaconda3/lib/python3.6/site-packages/ipykernel_launcher.py:3: FutureWarning: The signature of `Series.to_csv` was aligned to that of `DataFrame.to_csv`, and argument 'header' will change its default value from False to True: please pass an explicit value to suppress this warning.\n",
      "  This is separate from the ipykernel package so we can avoid doing imports until\n"
     ]
    }
   ],
   "source": [
    "# Saving the reduced Spammer data\n",
    "fre = spam_data[\"UserFriendsCount\"]\n",
    "fre.to_csv(\"Temp_spam.csv\", sep=',',encoding='utf8')"
   ]
  },
  {
   "cell_type": "code",
   "execution_count": 186,
   "metadata": {},
   "outputs": [
    {
     "name": "stdout",
     "output_type": "stream",
     "text": [
      "<class 'pandas.core.frame.DataFrame'>\n",
      "Int64Index: 177 entries, 0 to 5364\n",
      "Data columns (total 13 columns):\n",
      "UserID                   177 non-null int64\n",
      "UserScreenName           177 non-null object\n",
      "UserCreatedAt            177 non-null object\n",
      "UserDescriptionLength    177 non-null int64\n",
      "UserFollowersCount       177 non-null int64\n",
      "UserFriendsCount         177 non-null float64\n",
      "UserLocation             177 non-null object\n",
      "AvgHashtag               177 non-null float64\n",
      "AvgURLCount              177 non-null float64\n",
      "AvgMention               177 non-null float64\n",
      "AvgRetweet               177 non-null float64\n",
      "AvgFavCount              177 non-null float64\n",
      "TweetCount               177 non-null int64\n",
      "dtypes: float64(6), int64(4), object(3)\n",
      "memory usage: 19.4+ KB\n"
     ]
    }
   ],
   "source": [
    "# Datatype conversion from object to float\n",
    "spam_data[['UserFriendsCount']] = spam_data[['UserFriendsCount']].astype(float)\n",
    "spam_data.info()"
   ]
  },
  {
   "cell_type": "code",
   "execution_count": 187,
   "metadata": {},
   "outputs": [
    {
     "data": {
      "text/html": [
       "<div>\n",
       "<style scoped>\n",
       "    .dataframe tbody tr th:only-of-type {\n",
       "        vertical-align: middle;\n",
       "    }\n",
       "\n",
       "    .dataframe tbody tr th {\n",
       "        vertical-align: top;\n",
       "    }\n",
       "\n",
       "    .dataframe thead th {\n",
       "        text-align: right;\n",
       "    }\n",
       "</style>\n",
       "<table border=\"1\" class=\"dataframe\">\n",
       "  <thead>\n",
       "    <tr style=\"text-align: right;\">\n",
       "      <th></th>\n",
       "      <th>UserID</th>\n",
       "      <th>UserScreenName</th>\n",
       "      <th>UserCreatedAt</th>\n",
       "      <th>UserDescriptionLength</th>\n",
       "      <th>UserFollowersCount</th>\n",
       "      <th>UserFriendsCount</th>\n",
       "      <th>UserLocation</th>\n",
       "      <th>AvgHashtag</th>\n",
       "      <th>AvgURLCount</th>\n",
       "      <th>AvgMention</th>\n",
       "      <th>AvgRetweet</th>\n",
       "      <th>AvgFavCount</th>\n",
       "      <th>TweetCount</th>\n",
       "      <th>SpammerOrNot</th>\n",
       "    </tr>\n",
       "  </thead>\n",
       "  <tbody>\n",
       "    <tr>\n",
       "      <th>5214</th>\n",
       "      <td>956015377888305152</td>\n",
       "      <td>jcroldanroldan1</td>\n",
       "      <td>2018-01-24 04:06:42</td>\n",
       "      <td>0</td>\n",
       "      <td>393</td>\n",
       "      <td>3734.0</td>\n",
       "      <td>0</td>\n",
       "      <td>0.766667</td>\n",
       "      <td>1.066667</td>\n",
       "      <td>1.1</td>\n",
       "      <td>158.700000</td>\n",
       "      <td>0.000000</td>\n",
       "      <td>9382</td>\n",
       "      <td>1</td>\n",
       "    </tr>\n",
       "    <tr>\n",
       "      <th>5244</th>\n",
       "      <td>1103478268919980035</td>\n",
       "      <td>Sariw56676073</td>\n",
       "      <td>2019-03-07 02:11:35</td>\n",
       "      <td>0</td>\n",
       "      <td>12</td>\n",
       "      <td>0.0</td>\n",
       "      <td>0</td>\n",
       "      <td>8.233333</td>\n",
       "      <td>1.033333</td>\n",
       "      <td>0.0</td>\n",
       "      <td>0.000000</td>\n",
       "      <td>0.333333</td>\n",
       "      <td>114</td>\n",
       "      <td>1</td>\n",
       "    </tr>\n",
       "    <tr>\n",
       "      <th>5274</th>\n",
       "      <td>1036466998446710786</td>\n",
       "      <td>Cris9666450351</td>\n",
       "      <td>2018-09-03 04:12:43</td>\n",
       "      <td>0</td>\n",
       "      <td>19</td>\n",
       "      <td>44.0</td>\n",
       "      <td>0</td>\n",
       "      <td>0.766667</td>\n",
       "      <td>0.800000</td>\n",
       "      <td>1.4</td>\n",
       "      <td>97.533333</td>\n",
       "      <td>0.000000</td>\n",
       "      <td>1845</td>\n",
       "      <td>1</td>\n",
       "    </tr>\n",
       "    <tr>\n",
       "      <th>5304</th>\n",
       "      <td>125706019</td>\n",
       "      <td>Grinder0420</td>\n",
       "      <td>2010-03-23 16:13:23</td>\n",
       "      <td>96</td>\n",
       "      <td>2305</td>\n",
       "      <td>2587.0</td>\n",
       "      <td>0</td>\n",
       "      <td>0.100000</td>\n",
       "      <td>0.700000</td>\n",
       "      <td>1.1</td>\n",
       "      <td>22.433333</td>\n",
       "      <td>0.066667</td>\n",
       "      <td>143508</td>\n",
       "      <td>1</td>\n",
       "    </tr>\n",
       "    <tr>\n",
       "      <th>5364</th>\n",
       "      <td>1055696622</td>\n",
       "      <td>Giovannini8</td>\n",
       "      <td>2013-01-02 17:56:31</td>\n",
       "      <td>0</td>\n",
       "      <td>1755</td>\n",
       "      <td>2130.0</td>\n",
       "      <td>0</td>\n",
       "      <td>0.833333</td>\n",
       "      <td>1.766667</td>\n",
       "      <td>3.6</td>\n",
       "      <td>138.733333</td>\n",
       "      <td>0.000000</td>\n",
       "      <td>150737</td>\n",
       "      <td>1</td>\n",
       "    </tr>\n",
       "  </tbody>\n",
       "</table>\n",
       "</div>"
      ],
      "text/plain": [
       "                   UserID   UserScreenName        UserCreatedAt  \\\n",
       "5214   956015377888305152  jcroldanroldan1  2018-01-24 04:06:42   \n",
       "5244  1103478268919980035    Sariw56676073  2019-03-07 02:11:35   \n",
       "5274  1036466998446710786   Cris9666450351  2018-09-03 04:12:43   \n",
       "5304            125706019      Grinder0420  2010-03-23 16:13:23   \n",
       "5364           1055696622      Giovannini8  2013-01-02 17:56:31   \n",
       "\n",
       "      UserDescriptionLength  UserFollowersCount  UserFriendsCount  \\\n",
       "5214                      0                 393            3734.0   \n",
       "5244                      0                  12               0.0   \n",
       "5274                      0                  19              44.0   \n",
       "5304                     96                2305            2587.0   \n",
       "5364                      0                1755            2130.0   \n",
       "\n",
       "     UserLocation  AvgHashtag  AvgURLCount  AvgMention  AvgRetweet  \\\n",
       "5214            0    0.766667     1.066667         1.1  158.700000   \n",
       "5244            0    8.233333     1.033333         0.0    0.000000   \n",
       "5274            0    0.766667     0.800000         1.4   97.533333   \n",
       "5304            0    0.100000     0.700000         1.1   22.433333   \n",
       "5364            0    0.833333     1.766667         3.6  138.733333   \n",
       "\n",
       "      AvgFavCount  TweetCount  SpammerOrNot  \n",
       "5214     0.000000        9382             1  \n",
       "5244     0.333333         114             1  \n",
       "5274     0.000000        1845             1  \n",
       "5304     0.066667      143508             1  \n",
       "5364     0.000000      150737             1  "
      ]
     },
     "execution_count": 187,
     "metadata": {},
     "output_type": "execute_result"
    }
   ],
   "source": [
    "# Add a Column to LEgitimate Data that this is not Spam =0\n",
    "spam_data.loc[:, \"SpammerOrNot\"]=1\n",
    "spam_data.tail()"
   ]
  },
  {
   "cell_type": "code",
   "execution_count": 188,
   "metadata": {},
   "outputs": [
    {
     "data": {
      "text/plain": [
       "count    1.770000e+02\n",
       "mean     2.532717e+04\n",
       "std      9.549593e+04\n",
       "min      1.000000e+00\n",
       "25%      6.410000e+02\n",
       "50%      4.744000e+03\n",
       "75%      1.185200e+04\n",
       "max      1.150378e+06\n",
       "Name: TweetCount, dtype: float64"
      ]
     },
     "execution_count": 188,
     "metadata": {},
     "output_type": "execute_result"
    }
   ],
   "source": [
    "spam_data[\"TweetCount\"].describe()"
   ]
  },
  {
   "cell_type": "code",
   "execution_count": 189,
   "metadata": {},
   "outputs": [
    {
     "data": {
      "text/plain": [
       "count       375.000000\n",
       "mean      41288.162667\n",
       "std       93281.144477\n",
       "min           1.000000\n",
       "25%         324.000000\n",
       "50%        3883.000000\n",
       "75%       20650.000000\n",
       "max      596778.000000\n",
       "Name: TweetCount, dtype: float64"
      ]
     },
     "execution_count": 189,
     "metadata": {},
     "output_type": "execute_result"
    }
   ],
   "source": [
    "leg_data[\"TweetCount\"].describe()"
   ]
  },
  {
   "cell_type": "markdown",
   "metadata": {},
   "source": [
    "# Merging the legitimate and spammer data"
   ]
  },
  {
   "cell_type": "code",
   "execution_count": 190,
   "metadata": {},
   "outputs": [
    {
     "name": "stdout",
     "output_type": "stream",
     "text": [
      "<class 'pandas.core.frame.DataFrame'>\n",
      "Int64Index: 552 entries, 0 to 5364\n",
      "Data columns (total 14 columns):\n",
      "UserID                   552 non-null int64\n",
      "UserScreenName           552 non-null object\n",
      "UserCreatedAt            552 non-null object\n",
      "UserDescriptionLength    552 non-null int64\n",
      "UserFollowersCount       552 non-null int64\n",
      "UserFriendsCount         552 non-null float64\n",
      "UserLocation             552 non-null object\n",
      "AvgHashtag               552 non-null float64\n",
      "AvgURLCount              552 non-null float64\n",
      "AvgMention               552 non-null float64\n",
      "AvgRetweet               552 non-null float64\n",
      "AvgFavCount              552 non-null float64\n",
      "TweetCount               552 non-null int64\n",
      "SpammerOrNot             552 non-null int64\n",
      "dtypes: float64(6), int64(5), object(3)\n",
      "memory usage: 64.7+ KB\n"
     ]
    }
   ],
   "source": [
    "frames = [leg_data, spam_data]\n",
    "Total_data = pd.concat(frames, axis=0, sort=False)\n",
    "Total_data.info()"
   ]
  },
  {
   "cell_type": "code",
   "execution_count": 191,
   "metadata": {},
   "outputs": [],
   "source": [
    "Total_data.reset_index()\n",
    "Total_data.to_csv('Total_data.csv', sep=',', encoding='utf8')"
   ]
  },
  {
   "cell_type": "markdown",
   "metadata": {},
   "source": [
    "# ..........................Section Third.....................\n",
    "# loading total Data\n",
    "# from here machine learning will start"
   ]
  },
  {
   "cell_type": "code",
   "execution_count": 192,
   "metadata": {},
   "outputs": [
    {
     "name": "stdout",
     "output_type": "stream",
     "text": [
      "<class 'pandas.core.frame.DataFrame'>\n",
      "RangeIndex: 552 entries, 0 to 551\n",
      "Data columns (total 17 columns):\n",
      "Unnamed: 0               552 non-null int64\n",
      "Unnamed: 0.1             552 non-null int64\n",
      "UserID                   552 non-null int64\n",
      "UserScreenName           552 non-null object\n",
      "UserCreatedAt            552 non-null object\n",
      "UserDescriptionLength    552 non-null int64\n",
      "UserFollowersCount       552 non-null int64\n",
      "UserFriendsCount         552 non-null float64\n",
      "UserLocation             552 non-null object\n",
      "AvgHashtag               552 non-null float64\n",
      "AvgURLCount              552 non-null float64\n",
      "AvgMention               552 non-null float64\n",
      "AvgRetweet               552 non-null float64\n",
      "AvgFavCount              552 non-null float64\n",
      "TweetCount               552 non-null int64\n",
      "SpammerOrNot             552 non-null int64\n",
      "Current_Time             552 non-null object\n",
      "dtypes: float64(6), int64(7), object(4)\n",
      "memory usage: 73.4+ KB\n"
     ]
    }
   ],
   "source": [
    "import pandas as pd\n",
    "import datetime\n",
    "Total_data = pd.read_csv('Total_data.csv')\n",
    "Total_data.fillna(0, inplace=True)\n",
    "Current_Time = datetime.datetime.strftime(datetime.datetime.now(), '%Y-%m-%d %H:%M:%S')\n",
    "Total_data.loc[:, \"Current_Time\"]=Current_Time\n",
    "Total_data.to_csv('Total_data.csv', sep=',', encoding='utf8')\n",
    "Total_data = pd.read_csv('Total_data.csv')\n",
    "Total_data.info()"
   ]
  },
  {
   "cell_type": "code",
   "execution_count": 193,
   "metadata": {},
   "outputs": [
    {
     "data": {
      "text/html": [
       "<div>\n",
       "<style scoped>\n",
       "    .dataframe tbody tr th:only-of-type {\n",
       "        vertical-align: middle;\n",
       "    }\n",
       "\n",
       "    .dataframe tbody tr th {\n",
       "        vertical-align: top;\n",
       "    }\n",
       "\n",
       "    .dataframe thead th {\n",
       "        text-align: right;\n",
       "    }\n",
       "</style>\n",
       "<table border=\"1\" class=\"dataframe\">\n",
       "  <thead>\n",
       "    <tr style=\"text-align: right;\">\n",
       "      <th></th>\n",
       "      <th>Unnamed: 0</th>\n",
       "      <th>Unnamed: 0.1</th>\n",
       "      <th>UserID</th>\n",
       "      <th>UserScreenName</th>\n",
       "      <th>UserCreatedAt</th>\n",
       "      <th>UserDescriptionLength</th>\n",
       "      <th>UserFollowersCount</th>\n",
       "      <th>UserFriendsCount</th>\n",
       "      <th>UserLocation</th>\n",
       "      <th>AvgHashtag</th>\n",
       "      <th>AvgURLCount</th>\n",
       "      <th>AvgMention</th>\n",
       "      <th>AvgRetweet</th>\n",
       "      <th>AvgFavCount</th>\n",
       "      <th>TweetCount</th>\n",
       "      <th>SpammerOrNot</th>\n",
       "      <th>Current_Time</th>\n",
       "    </tr>\n",
       "  </thead>\n",
       "  <tbody>\n",
       "    <tr>\n",
       "      <th>549</th>\n",
       "      <td>549</td>\n",
       "      <td>5274</td>\n",
       "      <td>1036466998446710786</td>\n",
       "      <td>Cris9666450351</td>\n",
       "      <td>2018-09-03 04:12:43</td>\n",
       "      <td>0</td>\n",
       "      <td>19</td>\n",
       "      <td>44.0</td>\n",
       "      <td>0</td>\n",
       "      <td>0.766667</td>\n",
       "      <td>0.800000</td>\n",
       "      <td>1.4</td>\n",
       "      <td>97.533333</td>\n",
       "      <td>0.000000</td>\n",
       "      <td>1845</td>\n",
       "      <td>1</td>\n",
       "      <td>2019-04-23 14:45:45</td>\n",
       "    </tr>\n",
       "    <tr>\n",
       "      <th>550</th>\n",
       "      <td>550</td>\n",
       "      <td>5304</td>\n",
       "      <td>125706019</td>\n",
       "      <td>Grinder0420</td>\n",
       "      <td>2010-03-23 16:13:23</td>\n",
       "      <td>96</td>\n",
       "      <td>2305</td>\n",
       "      <td>2587.0</td>\n",
       "      <td>0</td>\n",
       "      <td>0.100000</td>\n",
       "      <td>0.700000</td>\n",
       "      <td>1.1</td>\n",
       "      <td>22.433333</td>\n",
       "      <td>0.066667</td>\n",
       "      <td>143508</td>\n",
       "      <td>1</td>\n",
       "      <td>2019-04-23 14:45:45</td>\n",
       "    </tr>\n",
       "    <tr>\n",
       "      <th>551</th>\n",
       "      <td>551</td>\n",
       "      <td>5364</td>\n",
       "      <td>1055696622</td>\n",
       "      <td>Giovannini8</td>\n",
       "      <td>2013-01-02 17:56:31</td>\n",
       "      <td>0</td>\n",
       "      <td>1755</td>\n",
       "      <td>2130.0</td>\n",
       "      <td>0</td>\n",
       "      <td>0.833333</td>\n",
       "      <td>1.766667</td>\n",
       "      <td>3.6</td>\n",
       "      <td>138.733333</td>\n",
       "      <td>0.000000</td>\n",
       "      <td>150737</td>\n",
       "      <td>1</td>\n",
       "      <td>2019-04-23 14:45:45</td>\n",
       "    </tr>\n",
       "  </tbody>\n",
       "</table>\n",
       "</div>"
      ],
      "text/plain": [
       "     Unnamed: 0  Unnamed: 0.1               UserID  UserScreenName  \\\n",
       "549         549          5274  1036466998446710786  Cris9666450351   \n",
       "550         550          5304            125706019     Grinder0420   \n",
       "551         551          5364           1055696622     Giovannini8   \n",
       "\n",
       "           UserCreatedAt  UserDescriptionLength  UserFollowersCount  \\\n",
       "549  2018-09-03 04:12:43                      0                  19   \n",
       "550  2010-03-23 16:13:23                     96                2305   \n",
       "551  2013-01-02 17:56:31                      0                1755   \n",
       "\n",
       "     UserFriendsCount UserLocation  AvgHashtag  AvgURLCount  AvgMention  \\\n",
       "549              44.0            0    0.766667     0.800000         1.4   \n",
       "550            2587.0            0    0.100000     0.700000         1.1   \n",
       "551            2130.0            0    0.833333     1.766667         3.6   \n",
       "\n",
       "     AvgRetweet  AvgFavCount  TweetCount  SpammerOrNot         Current_Time  \n",
       "549   97.533333     0.000000        1845             1  2019-04-23 14:45:45  \n",
       "550   22.433333     0.066667      143508             1  2019-04-23 14:45:45  \n",
       "551  138.733333     0.000000      150737             1  2019-04-23 14:45:45  "
      ]
     },
     "execution_count": 193,
     "metadata": {},
     "output_type": "execute_result"
    }
   ],
   "source": [
    "#debugging purpose if some data type do not appear as the should be\n",
    "temp1=Total_data[[\"UserCreatedAt\"]]\n",
    "Total_data.tail(3)"
   ]
  },
  {
   "cell_type": "code",
   "execution_count": 194,
   "metadata": {},
   "outputs": [
    {
     "name": "stderr",
     "output_type": "stream",
     "text": [
      "/home/radhey/anaconda3/lib/python3.6/site-packages/ipykernel_launcher.py:2: FutureWarning: convert_objects is deprecated.  To re-infer data dtypes for object columns, use Series.infer_objects()\n",
      "For all other conversions use the data-type specific converters pd.to_datetime, pd.to_timedelta and pd.to_numeric.\n",
      "  \n"
     ]
    }
   ],
   "source": [
    "# converting string to float\n",
    "Total_data[\"UserFriendsCount\"] = Total_data[\"UserFriendsCount\"].convert_objects(convert_numeric=False, copy=False)"
   ]
  },
  {
   "cell_type": "code",
   "execution_count": 195,
   "metadata": {},
   "outputs": [
    {
     "data": {
      "text/plain": [
       "count     552.000000\n",
       "mean      436.949275\n",
       "std       875.788595\n",
       "min         0.000000\n",
       "25%        26.750000\n",
       "50%       106.500000\n",
       "75%       366.500000\n",
       "max      5799.000000\n",
       "Name: UserFriendsCount, dtype: float64"
      ]
     },
     "execution_count": 195,
     "metadata": {},
     "output_type": "execute_result"
    }
   ],
   "source": [
    "Total_data[\"UserFriendsCount\"].describe()"
   ]
  },
  {
   "cell_type": "markdown",
   "metadata": {},
   "source": [
    "# Adding Reputaion features"
   ]
  },
  {
   "cell_type": "code",
   "execution_count": 204,
   "metadata": {},
   "outputs": [
    {
     "name": "stdout",
     "output_type": "stream",
     "text": [
      "<class 'pandas.core.frame.DataFrame'>\n",
      "RangeIndex: 552 entries, 0 to 551\n",
      "Data columns (total 18 columns):\n",
      "Unnamed: 0               552 non-null int64\n",
      "Unnamed: 0.1             552 non-null int64\n",
      "UserID                   552 non-null int64\n",
      "UserScreenName           552 non-null object\n",
      "UserCreatedAt            552 non-null object\n",
      "UserDescriptionLength    552 non-null int64\n",
      "UserFollowersCount       552 non-null int64\n",
      "UserFriendsCount         552 non-null float64\n",
      "UserLocation             552 non-null object\n",
      "AvgHashtag               552 non-null float64\n",
      "AvgURLCount              552 non-null float64\n",
      "AvgMention               552 non-null float64\n",
      "AvgRetweet               552 non-null float64\n",
      "AvgFavCount              552 non-null float64\n",
      "TweetCount               552 non-null int64\n",
      "SpammerOrNot             552 non-null int64\n",
      "Current_Time             552 non-null object\n",
      "Reputation               552 non-null float64\n",
      "dtypes: float64(7), int64(7), object(4)\n",
      "memory usage: 77.7+ KB\n"
     ]
    }
   ],
   "source": [
    "\n",
    "Total_data.loc[:,\"Reputation\"]=Total_data[\"UserFollowersCount\"]/(Total_data[\"UserFollowersCount\"])+(Total_data[\"UserFriendsCount\"])\n",
    "Total_data[\"Reputation\"].describe()\n",
    "Total_data.info()"
   ]
  },
  {
   "cell_type": "code",
   "execution_count": 205,
   "metadata": {},
   "outputs": [
    {
     "data": {
      "image/png": "[encoded data removed]",
      "text/plain": [
       "<Figure size 1296x1080 with 1 Axes>"
      ]
     },
     "metadata": {
      "needs_background": "light"
     },
     "output_type": "display_data"
    }
   ],
   "source": [
    "import pandas as pd\n",
    "import time\n",
    "import matplotlib.pyplot as plt\n",
    "%matplotlib inline\n",
    "plt.rcParams['figure.figsize']=(18,15)\n",
    "plt.rcParams['font.family']='sans-serif'\n",
    "\n",
    "data0 = Total_data[Total_data.Reputation > .1]\n",
    "plt.hist([data0[data0.SpammerOrNot==1].Reputation.values,\n",
    "         data0[data0.SpammerOrNot==0].Reputation.values],label=[\"Spammer\", \"Legitimate\"],alpha = .99)\n",
    "plt.legend()\n",
    "plt.xlabel(\"Reputation\")\n",
    "plt.ylabel(\"Number of User\")\n",
    "# to save fig\n",
    "plt.savefig('repuation.png')"
   ]
  },
  {
   "cell_type": "markdown",
   "metadata": {},
   "source": [
    "# 1. Adding logevity feature\n",
    "# Hypothesis is legitimate user have longer longitivity than spam user\n",
    "# filtering the data from dataset whose logevity is zero"
   ]
  },
  {
   "cell_type": "code",
   "execution_count": 206,
   "metadata": {},
   "outputs": [
    {
     "data": {
      "text/plain": [
       "count     552.000000\n",
       "mean     1477.983927\n",
       "std      1085.302359\n",
       "min         1.826551\n",
       "25%       519.062541\n",
       "50%      1202.711476\n",
       "75%      2208.158582\n",
       "max      3896.058067\n",
       "Name: AgeOfAccount, dtype: float64"
      ]
     },
     "execution_count": 206,
     "metadata": {},
     "output_type": "execute_result"
    }
   ],
   "source": [
    "data = Total_data\n",
    "data[\"Current_Time\"] = pd.to_datetime(data[\"Current_Time\"])\n",
    "data[\"UserCreatedAt\"] = pd.to_datetime(data[\"UserCreatedAt\"])\n",
    "data['AgeOfAccount'] = (data['Current_Time'] - data['UserCreatedAt'])/np.timedelta64(1, 'D')\n",
    "cols = ['AgeOfAccount']\n",
    "data[cols] = data[cols].mask(data[cols]<0)\n",
    "data.AgeOfAccount.describe()\n",
    "#data[\"AgeOfAccount\"]=((data[\"Current_Time\"] - data[\"UserCreatedAt\"]).astype('timedelta64[h]'))/24\n",
    "#data.AgeOfAccount.describe()"
   ]
  },
  {
   "cell_type": "markdown",
   "metadata": {},
   "source": [
    "#  Adding tweet per day feature"
   ]
  },
  {
   "cell_type": "code",
   "execution_count": 207,
   "metadata": {},
   "outputs": [
    {
     "data": {
      "text/plain": [
       "count    552.000000\n",
       "mean      18.472197\n",
       "std       42.467428\n",
       "min        0.001138\n",
       "25%        0.822876\n",
       "50%        3.332909\n",
       "75%       15.517918\n",
       "max      483.772682\n",
       "Name: TweetPerDay, dtype: float64"
      ]
     },
     "execution_count": 207,
     "metadata": {},
     "output_type": "execute_result"
    }
   ],
   "source": [
    "data1 = data\n",
    "data1.loc[:, \"TweetPerDay\"] = data1[\"TweetCount\"]/data1[\"AgeOfAccount\"]\n",
    "data1[\"TweetPerDay\"].describe()"
   ]
  },
  {
   "cell_type": "markdown",
   "metadata": {},
   "source": [
    "# Adding the feature Number of Tweet"
   ]
  },
  {
   "cell_type": "code",
   "execution_count": 208,
   "metadata": {},
   "outputs": [],
   "source": [
    "\n",
    "data1.loc[:,\"TweetPerFollower\"] = data1[\"TweetCount\"]/data1[\"UserFollowersCount\"]"
   ]
  },
  {
   "cell_type": "markdown",
   "metadata": {},
   "source": [
    "# Dropping the infinte values from pandas for followerCount"
   ]
  },
  {
   "cell_type": "code",
   "execution_count": 209,
   "metadata": {},
   "outputs": [
    {
     "data": {
      "text/plain": [
       "549    97.11\n",
       "550    62.26\n",
       "551    85.89\n",
       "Name: TweetPerFollower, dtype: float64"
      ]
     },
     "execution_count": 209,
     "metadata": {},
     "output_type": "execute_result"
    }
   ],
   "source": [
    "\n",
    "\n",
    "import numpy as np\n",
    "#to remove unwanted data\n",
    "data1.TweetPerFollower=data1.TweetPerFollower.round(2).fillna(0)\n",
    "data1 = data1[np.isfinite(data1['TweetPerFollower'])]\n",
    "data1[\"TweetPerFollower\"].tail(3)"
   ]
  },
  {
   "cell_type": "markdown",
   "metadata": {},
   "source": [
    "# Adding the feature Age of Account/Number of Following\n",
    "# Hypothesis is that it is very low for spammer and very high for legitimate user\n"
   ]
  },
  {
   "cell_type": "code",
   "execution_count": 210,
   "metadata": {},
   "outputs": [
    {
     "data": {
      "text/plain": [
       "count     540.000000\n",
       "mean       59.611609\n",
       "std       234.130706\n",
       "min         0.003030\n",
       "25%         2.324906\n",
       "50%         8.227431\n",
       "75%        35.775837\n",
       "max      3003.301701\n",
       "Name: AgeByFollowing, dtype: float64"
      ]
     },
     "execution_count": 210,
     "metadata": {},
     "output_type": "execute_result"
    }
   ],
   "source": [
    "data1.loc[:,\"AgeByFollowing\"] = data1[\"AgeOfAccount\"]/data1[\"UserFriendsCount\"]\n",
    "data1 = data1[np.isfinite(data1['AgeByFollowing'])]\n",
    "data1[['AgeByFollowing']] = data1[['AgeByFollowing']].astype(float)\n",
    "data1[\"AgeByFollowing\"].describe()"
   ]
  },
  {
   "cell_type": "markdown",
   "metadata": {},
   "source": [
    "# Separating Spammer and legitimate user"
   ]
  },
  {
   "cell_type": "code",
   "execution_count": 211,
   "metadata": {},
   "outputs": [
    {
     "data": {
      "text/plain": [
       "171"
      ]
     },
     "execution_count": 211,
     "metadata": {},
     "output_type": "execute_result"
    }
   ],
   "source": [
    "#Spammer_dataframe\n",
    "spam_data = data1[data1.SpammerOrNot==1]\n",
    "len(spam_data)"
   ]
  },
  {
   "cell_type": "code",
   "execution_count": 212,
   "metadata": {},
   "outputs": [
    {
     "data": {
      "text/plain": [
       "369"
      ]
     },
     "execution_count": 212,
     "metadata": {},
     "output_type": "execute_result"
    }
   ],
   "source": [
    "#legitimate_dataframe\n",
    "leg_data = data1[data1.SpammerOrNot==0]\n",
    "len(leg_data)"
   ]
  },
  {
   "cell_type": "markdown",
   "metadata": {},
   "source": [
    "# Exploring the AgeByFollowing feature\n",
    "# for Spammer, Hypothesis is: Age is low and following number is high, so reuslt is very low.\n",
    "# for Legitimate user, Hypothesis is: Age is high and following number is low, so result is high"
   ]
  },
  {
   "cell_type": "code",
   "execution_count": 213,
   "metadata": {},
   "outputs": [
    {
     "data": {
      "text/plain": [
       "count     369.000000\n",
       "mean       57.737424\n",
       "std       204.429361\n",
       "min         0.096592\n",
       "25%         5.643434\n",
       "50%        12.976134\n",
       "75%        43.201549\n",
       "max      3003.301701\n",
       "Name: AgeByFollowing, dtype: float64"
      ]
     },
     "execution_count": 213,
     "metadata": {},
     "output_type": "execute_result"
    }
   ],
   "source": [
    "leg_data[\"AgeByFollowing\"].describe()"
   ]
  },
  {
   "cell_type": "code",
   "execution_count": 214,
   "metadata": {},
   "outputs": [
    {
     "data": {
      "text/plain": [
       "count     171.000000\n",
       "mean       63.655902\n",
       "std       288.639293\n",
       "min         0.003030\n",
       "25%         0.555953\n",
       "50%         1.873792\n",
       "75%         7.026597\n",
       "max      2910.453657\n",
       "Name: AgeByFollowing, dtype: float64"
      ]
     },
     "execution_count": 214,
     "metadata": {},
     "output_type": "execute_result"
    }
   ],
   "source": [
    "spam_data[\"AgeByFollowing\"].describe()"
   ]
  },
  {
   "cell_type": "markdown",
   "metadata": {},
   "source": [
    "# Selecting the Additional features"
   ]
  },
  {
   "cell_type": "code",
   "execution_count": 215,
   "metadata": {},
   "outputs": [
    {
     "data": {
      "text/plain": [
       "(540, 13)"
      ]
     },
     "execution_count": 215,
     "metadata": {},
     "output_type": "execute_result"
    }
   ],
   "source": [
    "M = data1[['Reputation', 'AvgHashtag', 'AvgRetweet', 'UserFollowersCount','UserFriendsCount', 'AvgFavCount', 'AvgMention', 'AvgURLCount', 'TweetCount', 'AgeOfAccount', 'TweetPerDay', 'TweetPerFollower', 'AgeByFollowing']]\n",
    "y = data1[\"SpammerOrNot\"]\n",
    "data1.columns\n",
    "M.shape"
   ]
  },
  {
   "cell_type": "code",
   "execution_count": 216,
   "metadata": {},
   "outputs": [],
   "source": [
    "# Save these training data\n",
    "data1.reset_index()\n",
    "data1.to_csv('Total_training_data.csv', sep=',', encoding='utf8')"
   ]
  },
  {
   "cell_type": "code",
   "execution_count": 217,
   "metadata": {},
   "outputs": [
    {
     "name": "stdout",
     "output_type": "stream",
     "text": [
      "(432, 13)\n",
      "(108, 13)\n"
     ]
    }
   ],
   "source": [
    "# Splitting the data\n",
    "from sklearn.model_selection import train_test_split\n",
    "X_train, X_test, y_train, y_test = train_test_split(M, y, test_size=0.2, random_state=7)\n",
    "print(X_train.shape)\n",
    "print(X_test.shape)"
   ]
  },
  {
   "cell_type": "markdown",
   "metadata": {},
   "source": [
    "# Evaluating classifiers"
   ]
  },
  {
   "cell_type": "markdown",
   "metadata": {},
   "source": [
    "# KNeighborsClassifier"
   ]
  },
  {
   "cell_type": "code",
   "execution_count": 219,
   "metadata": {},
   "outputs": [
    {
     "name": "stdout",
     "output_type": "stream",
     "text": [
      "0.9074074074074074\n",
      "Tenfol cross validation score\n",
      "[0.81818182 0.88888889 0.77777778 0.74074074 0.88888889 0.81481481\n",
      " 0.96296296 0.96296296 0.96296296 0.90566038]\n",
      "0.8723842195540309\n",
      "\n",
      "\n",
      "Classifier performance report: \n",
      "              precision    recall  f1-score   support\n",
      "\n",
      "           0       0.97      0.89      0.93        70\n",
      "           1       0.82      0.95      0.88        38\n",
      "\n",
      "   micro avg       0.91      0.91      0.91       108\n",
      "   macro avg       0.89      0.92      0.90       108\n",
      "weighted avg       0.92      0.91      0.91       108\n",
      "\n",
      "Confusion Matrix: \n",
      "[[62  8]\n",
      " [ 2 36]]\n"
     ]
    }
   ],
   "source": [
    "# for total X\n",
    "from sklearn.metrics import accuracy_score\n",
    "from sklearn.metrics import classification_report\n",
    "from sklearn.metrics import confusion_matrix\n",
    "from sklearn.neighbors import KNeighborsClassifier\n",
    "from sklearn.metrics import confusion_matrix\n",
    "from sklearn.utils.multiclass import unique_labels\n",
    "knn = KNeighborsClassifier(n_neighbors=5)\n",
    "knn.fit(X_train, y_train)\n",
    "y_pred = knn.predict(X_test)\n",
    "print(accuracy_score(y_test,y_pred))\n",
    "\n",
    "from sklearn.model_selection import cross_val_score\n",
    "scores = cross_val_score(knn, M, y, cv=10, scoring='accuracy')\n",
    "print(\"Tenfol cross validation score\")\n",
    "print(scores)\n",
    "print(scores.mean())\n",
    "print(\"\\n\")\n",
    "print(\"Classifier performance report: \")\n",
    "print(classification_report(y_test, y_pred))\n",
    "print(\"Confusion Matrix: \")\n",
    "print(confusion_matrix(y_test, y_pred))\n"
   ]
  },
  {
   "cell_type": "markdown",
   "metadata": {},
   "source": [
    "# support is sum of TP+FN, second FP+TN which gives actual 0(Non_Spammer) and actual 1(Spammer)"
   ]
  },
  {
   "cell_type": "markdown",
   "metadata": {},
   "source": [
    "# Decision Tree Classifier"
   ]
  },
  {
   "cell_type": "code",
   "execution_count": 220,
   "metadata": {},
   "outputs": [
    {
     "name": "stdout",
     "output_type": "stream",
     "text": [
      "0.9259259259259259\n",
      "Tenfol cross validation score\n",
      "[0.81818182 0.88888889 0.77777778 0.74074074 0.88888889 0.81481481\n",
      " 0.96296296 0.96296296 0.96296296 0.90566038]\n",
      "0.8723842195540309\n",
      "\n",
      "\n",
      "Classifier performance report: \n",
      "              precision    recall  f1-score   support\n",
      "\n",
      "           0       0.96      0.93      0.94        70\n",
      "           1       0.88      0.92      0.90        38\n",
      "\n",
      "   micro avg       0.93      0.93      0.93       108\n",
      "   macro avg       0.92      0.92      0.92       108\n",
      "weighted avg       0.93      0.93      0.93       108\n",
      "\n",
      "Confusion Matrix: \n",
      "[[65  5]\n",
      " [ 3 35]]\n"
     ]
    }
   ],
   "source": [
    "from sklearn import metrics\n",
    "from sklearn.tree import DecisionTreeClassifier\n",
    "from sklearn.model_selection import cross_val_score\n",
    "est = DecisionTreeClassifier()\n",
    "est.fit(X_train, y_train)\n",
    "y_pred = est.predict(X_test)\n",
    "scores = cross_val_score(knn, M, y, cv=10, scoring='accuracy')\n",
    "print(accuracy_score(y_test,y_pred))\n",
    "print(\"Tenfol cross validation score\")\n",
    "print(scores)\n",
    "print(scores.mean())\n",
    "print(\"\\n\")\n",
    "print(\"Classifier performance report: \")\n",
    "print(classification_report(y_test, y_pred))\n",
    "print(\"Confusion Matrix: \")\n",
    "print(confusion_matrix(y_test, y_pred))"
   ]
  },
  {
   "cell_type": "code",
   "execution_count": 221,
   "metadata": {},
   "outputs": [],
   "source": [
    "# attempt to find out most deciding feature"
   ]
  },
  {
   "cell_type": "code",
   "execution_count": 222,
   "metadata": {},
   "outputs": [
    {
     "name": "stdout",
     "output_type": "stream",
     "text": [
      "[0.02331203 0.03702189 0.0025106  0.0565206  0.00113867 0.02902107\n",
      " 0.03534215 0.03541686 0.01396918 0.05547451 0.0317359  0.5544388\n",
      " 0.12409775]\n"
     ]
    }
   ],
   "source": [
    "est = DecisionTreeClassifier()\n",
    "est.fit(M,y)\n",
    "print(est.feature_importances_)"
   ]
  },
  {
   "cell_type": "markdown",
   "metadata": {},
   "source": [
    "# Evaluation of Accuracy of classifier with Naive Bayes G is less accurate than M"
   ]
  },
  {
   "cell_type": "code",
   "execution_count": 223,
   "metadata": {},
   "outputs": [
    {
     "name": "stdout",
     "output_type": "stream",
     "text": [
      "0.75\n",
      "Tenfol cross validation score\n",
      "[0.81818182 0.88888889 0.77777778 0.74074074 0.88888889 0.81481481\n",
      " 0.96296296 0.96296296 0.96296296 0.90566038]\n",
      "0.8723842195540309\n",
      "\n",
      "\n",
      "Classifier performance report: \n",
      "              precision    recall  f1-score   support\n",
      "\n",
      "           0       0.77      0.87      0.82        70\n",
      "           1       0.69      0.53      0.60        38\n",
      "\n",
      "   micro avg       0.75      0.75      0.75       108\n",
      "   macro avg       0.73      0.70      0.71       108\n",
      "weighted avg       0.74      0.75      0.74       108\n",
      "\n",
      "Confusion Matrix: \n",
      "[[61  9]\n",
      " [18 20]]\n"
     ]
    }
   ],
   "source": [
    "from sklearn.naive_bayes import BernoulliNB\n",
    "est = BernoulliNB()\n",
    "est.fit(X_train, y_train)\n",
    "y_pred = est.predict(X_test)\n",
    "scores = cross_val_score(knn, M, y, cv=10, scoring='accuracy')\n",
    "print(accuracy_score(y_test,y_pred))\n",
    "print(\"Tenfol cross validation score\")\n",
    "print(scores)\n",
    "print(scores.mean())\n",
    "print(\"\\n\")\n",
    "print(\"Classifier performance report: \")\n",
    "print(classification_report(y_test, y_pred))\n",
    "print(\"Confusion Matrix: \")\n",
    "print(confusion_matrix(y_test, y_pred))"
   ]
  },
  {
   "cell_type": "markdown",
   "metadata": {},
   "source": [
    "# Random Forest Classifier"
   ]
  },
  {
   "cell_type": "code",
   "execution_count": 246,
   "metadata": {},
   "outputs": [
    {
     "name": "stdout",
     "output_type": "stream",
     "text": [
      "0.9333333333333333\n",
      "Tenfol cross validation score\n",
      "[0.82 0.89 0.78 0.74 0.89 0.81 0.96 0.96 0.96 0.91]\n",
      "0.8723842195540309\n",
      "\n",
      "\n",
      "Classifier performance report: \n",
      "              precision    recall  f1-score   support\n",
      "\n",
      "           0       0.97      0.93      0.95        90\n",
      "           1       0.88      0.93      0.90        45\n",
      "\n",
      "   micro avg       0.93      0.93      0.93       135\n",
      "   macro avg       0.92      0.93      0.93       135\n",
      "weighted avg       0.94      0.93      0.93       135\n",
      "\n",
      "Confusion Matrix: \n",
      "[[84  6]\n",
      " [ 3 42]]\n"
     ]
    }
   ],
   "source": [
    "from sklearn.ensemble import RandomForestClassifier\n",
    "est = RandomForestClassifier(n_estimators=7, max_depth=7, min_samples_split=5)\n",
    "est.fit(X_train, y_train)\n",
    "y_pred = est.predict(X_test)\n",
    "scores = cross_val_score(knn, M, y, cv=10, scoring='accuracy')\n",
    "print(accuracy_score(y_test,y_pred))\n",
    "print(\"Tenfol cross validation score\")\n",
    "print(scores)\n",
    "print(scores.mean())\n",
    "print(\"\\n\")\n",
    "print(\"Classifier performance report: \")\n",
    "print(classification_report(y_test, y_pred))\n",
    "print(\"Confusion Matrix: \")\n",
    "print(confusion_matrix(y_test, y_pred))"
   ]
  },
  {
   "cell_type": "markdown",
   "metadata": {},
   "source": [
    "# Ploting ROC Curve"
   ]
  },
  {
   "cell_type": "code",
   "execution_count": 225,
   "metadata": {},
   "outputs": [],
   "source": [
    "def plot_roc_curve(y_test, y_pred):\n",
    "    false_positive_rate, true_positive_rate, thresholds = roc_curve(y_test, y_pred)\n",
    "    print(\"False Positive rate: \", false_positive_rate)\n",
    "    print(\"True Positive rate: \", true_positive_rate)\n",
    "\n",
    "    roc_auc = auc(false_positive_rate, true_positive_rate)\n",
    "\n",
    "    plt.title('Receiver Operating Characteristic')\n",
    "    plt.plot(false_positive_rate, true_positive_rate, 'b',\n",
    "             label='AUC = %0.2f' % roc_auc)\n",
    "    plt.legend(loc='lower right')\n",
    "    plt.plot([0, 1], [0, 1], 'r--')\n",
    "    plt.xlim([-0.1, 1.2])\n",
    "    plt.ylim([-0.1, 1.2])\n",
    "    plt.ylabel('True Positive Rate')\n",
    "    plt.xlabel('False Positive Rate')\n",
    "    plt.show()"
   ]
  },
  {
   "cell_type": "code",
   "execution_count": 248,
   "metadata": {},
   "outputs": [
    {
     "name": "stdout",
     "output_type": "stream",
     "text": [
      "Confusion matrix, without normalization\n",
      "[[86  4]\n",
      " [ 5 40]]\n",
      "Normalized confusion matrix\n",
      "[[0.96 0.04]\n",
      " [0.11 0.89]]\n",
      "0.9333333333333333\n"
     ]
    },
    {
     "data": {
      "image/png": "[encoded data removed]",
      "text/plain": [
       "<Figure size 1296x1080 with 2 Axes>"
      ]
     },
     "metadata": {
      "needs_background": "light"
     },
     "output_type": "display_data"
    },
    {
     "data": {
      "image/png": "[encoded data removed]",
      "text/plain": [
       "<Figure size 1296x1080 with 2 Axes>"
      ]
     },
     "metadata": {
      "needs_background": "light"
     },
     "output_type": "display_data"
    },
    {
     "data": {
      "text/plain": [
       "<Figure size 1296x1080 with 0 Axes>"
      ]
     },
     "metadata": {},
     "output_type": "display_data"
    }
   ],
   "source": [
    "X = data1[['Reputation', 'AvgHashtag', 'AvgRetweet', 'UserFollowersCount','UserFriendsCount', 'AvgFavCount', 'AvgMention', 'AvgURLCount', 'TweetCount', 'AgeOfAccount', 'TweetPerDay', 'TweetPerFollower', 'AgeByFollowing']]\n",
    "y = data1[\"SpammerOrNot\"]\n",
    "class_names = data1.SpammerOrNot\n",
    "X_train, X_test, y_train, y_test = train_test_split(X, y, random_state=0)\n",
    "classifier = RandomForestClassifier(n_estimators=7, max_depth=7, min_samples_split=5)\n",
    "y_pred = classifier.fit(X_train, y_train).predict(X_test)\n",
    "\n",
    "\n",
    "def plot_confusion_matrix(y_true, y_pred, classes,\n",
    "                          normalize=False,\n",
    "                          title=None,\n",
    "                          cmap=plt.cm.Blues):\n",
    "\n",
    "    if not title:\n",
    "        if normalize:\n",
    "            title = 'Normalized confusion matrix'\n",
    "        else:\n",
    "            title = 'Confusion matrix, without normalization'\n",
    "\n",
    "    # Compute confusion matrix\n",
    "    cm = confusion_matrix(y_true, y_pred)\n",
    "  \n",
    "    \n",
    "    # Only use the labels that appear in the data\n",
    "    classes = classes[unique_labels(y_true, y_pred)]\n",
    "    if normalize:\n",
    "        cm = cm.astype('float') / cm.sum(axis=1)[:, np.newaxis]\n",
    "        print(\"Normalized confusion matrix\")\n",
    "    else:\n",
    "        print('Confusion matrix, without normalization')\n",
    "\n",
    "    print(cm)\n",
    "\n",
    "    fig, ax = plt.subplots()\n",
    "    im = ax.imshow(cm, interpolation='nearest', cmap=cmap)\n",
    "    ax.figure.colorbar(im, ax=ax)\n",
    "    # We want to show all ticks...\n",
    "    ax.set(xticks=np.arange(cm.shape[1]),\n",
    "           yticks=np.arange(cm.shape[0]),\n",
    "           # ... and label them with the respective list entries\n",
    "           xticklabels=classes, yticklabels=classes,\n",
    "           title=title,\n",
    "           ylabel='True label',\n",
    "           xlabel='Predicted label')\n",
    "\n",
    "    # Rotate the tick labels and set their alignment.\n",
    "    plt.setp(ax.get_xticklabels(), rotation=45, ha=\"right\",\n",
    "             rotation_mode=\"anchor\")\n",
    "\n",
    "    # Loop over data dimensions and create text annotations.\n",
    "    fmt = '.2f' if normalize else 'd'\n",
    "    thresh = cm.max() / 2.\n",
    "    for i in range(cm.shape[0]):\n",
    "        for j in range(cm.shape[1]):\n",
    "            ax.text(j, i, format(cm[i, j], fmt),\n",
    "                    ha=\"center\", va=\"center\",\n",
    "                    color=\"white\" if cm[i, j] > thresh else \"black\")\n",
    "    fig.tight_layout()\n",
    "    return ax\n",
    "\n",
    "\n",
    "np.set_printoptions(precision=2)\n",
    "# Plot non-normalized confusion matrix\n",
    "plot_confusion_matrix(y_test, y_pred, classes=class_names,\n",
    "                      title='Confusion matrix, without normalization')\n",
    "\n",
    "# Plot normalized confusion matrix\n",
    "plot_confusion_matrix(y_test, y_pred, classes=class_names, normalize=True,\n",
    "                     title='Normalized confusion matrix')\n",
    "print(accuracy_score(y_test,y_pred))\n",
    "plt.show()\n",
    "plt.savefig('Confusion_Matrix.png')\n",
    "plt.savefig('Normalize.Matrix.png')"
   ]
  },
  {
   "cell_type": "code",
   "execution_count": 249,
   "metadata": {},
   "outputs": [
    {
     "name": "stdout",
     "output_type": "stream",
     "text": [
      "False Positive rate:  [0.   0.04 1.  ]\n",
      "True Positive rate:  [0.   0.89 1.  ]\n"
     ]
    },
    {
     "data": {
      "image/png": "[encoded data removed]",
      "text/plain": [
       "<Figure size 1296x1080 with 1 Axes>"
      ]
     },
     "metadata": {
      "needs_background": "light"
     },
     "output_type": "display_data"
    }
   ],
   "source": [
    "plot_roc_curve(y_test, y_pred)"
   ]
  },
  {
   "cell_type": "markdown",
   "metadata": {},
   "source": [
    "# Support vector Classifier"
   ]
  },
  {
   "cell_type": "code",
   "execution_count": 244,
   "metadata": {},
   "outputs": [
    {
     "name": "stdout",
     "output_type": "stream",
     "text": [
      "Confusion matrix, without normalization\n",
      "[[84  6]\n",
      " [ 6 39]]\n",
      "0.9111111111111111\n"
     ]
    },
    {
     "data": {
      "image/png": "[encoded data removed]",
      "text/plain": [
       "<Figure size 1296x1080 with 2 Axes>"
      ]
     },
     "metadata": {
      "needs_background": "light"
     },
     "output_type": "display_data"
    },
    {
     "data": {
      "text/plain": [
       "<Figure size 1296x1080 with 0 Axes>"
      ]
     },
     "metadata": {},
     "output_type": "display_data"
    }
   ],
   "source": [
    "X = data1[['Reputation', 'AvgHashtag', 'AvgRetweet', 'UserFollowersCount','UserFriendsCount', 'AvgFavCount', 'AvgMention', 'AvgURLCount', 'TweetCount', 'AgeOfAccount', 'TweetPerDay', 'TweetPerFollower', 'AgeByFollowing']]\n",
    "y = data1[\"SpammerOrNot\"]\n",
    "class_names = data1.SpammerOrNot\n",
    "X_train, X_test, y_train, y_test = train_test_split(X, y, random_state=0)\n",
    "classifier = svm.SVC(kernel='linear', C=0.01)\n",
    "y_pred = classifier.fit(X_train, y_train).predict(X_test)\n",
    "\n",
    "\n",
    "def plot_confusion_matrix(y_true, y_pred, classes,\n",
    "                          normalize=False,\n",
    "                          title=None,\n",
    "                          cmap=plt.cm.Blues):\n",
    "\n",
    "    if not title:\n",
    "        if normalize:\n",
    "            title = 'Normalized confusion matrix'\n",
    "        else:\n",
    "            title = 'Confusion matrix, without normalization'\n",
    "\n",
    "    # Compute confusion matrix\n",
    "    cm = confusion_matrix(y_true, y_pred)\n",
    "  \n",
    "    \n",
    "    # Only use the labels that appear in the data\n",
    "    classes = classes[unique_labels(y_true, y_pred)]\n",
    "    if normalize:\n",
    "        cm = cm.astype('float') / cm.sum(axis=1)[:, np.newaxis]\n",
    "        print(\"Normalized confusion matrix\")\n",
    "    else:\n",
    "        print('Confusion matrix, without normalization')\n",
    "\n",
    "    print(cm)\n",
    "\n",
    "    fig, ax = plt.subplots()\n",
    "    im = ax.imshow(cm, interpolation='nearest', cmap=cmap)\n",
    "    ax.figure.colorbar(im, ax=ax)\n",
    "    # We want to show all ticks...\n",
    "    ax.set(xticks=np.arange(cm.shape[1]),\n",
    "           yticks=np.arange(cm.shape[0]),\n",
    "           # ... and label them with the respective list entries\n",
    "           xticklabels=classes, yticklabels=classes,\n",
    "           title=title,\n",
    "           ylabel='True label',\n",
    "           xlabel='Predicted label')\n",
    "\n",
    "    # Rotate the tick labels and set their alignment.\n",
    "    plt.setp(ax.get_xticklabels(), rotation=45, ha=\"right\",\n",
    "             rotation_mode=\"anchor\")\n",
    "\n",
    "    # Loop over data dimensions and create text annotations.\n",
    "    fmt = '.2f' if normalize else 'd'\n",
    "    thresh = cm.max() / 2.\n",
    "    for i in range(cm.shape[0]):\n",
    "        for j in range(cm.shape[1]):\n",
    "            ax.text(j, i, format(cm[i, j], fmt),\n",
    "                    ha=\"center\", va=\"center\",\n",
    "                    color=\"white\" if cm[i, j] > thresh else \"black\")\n",
    "    fig.tight_layout()\n",
    "    return ax\n",
    "\n",
    "\n",
    "np.set_printoptions(precision=2)\n",
    "# Plot non-normalized confusion matrix\n",
    "plot_confusion_matrix(y_test, y_pred, classes=class_names,\n",
    "                      title='Confusion matrix, without normalization')\n",
    "\n",
    "# Plot normalized confusion matrix\n",
    "plot_confusion_matrix(y_test, y_pred, classes=class_names, normalize=True,\n",
    "                     title='Normalized confusion matrix')\n",
    "print(accuracy_score(y_test,y_pred))\n",
    "plt.show()\n",
    "plt.savefig('Confusion_Matrix.png')\n",
    "plt.savefig('Normalize.Matrix.png')"
   ]
  },
  {
   "cell_type": "code",
   "execution_count": 245,
   "metadata": {},
   "outputs": [
    {
     "name": "stdout",
     "output_type": "stream",
     "text": [
      "False Positive rate:  [0.   0.07 1.  ]\n",
      "True Positive rate:  [0.   0.87 1.  ]\n"
     ]
    },
    {
     "data": {
      "image/png": "[encoded data removed]",
      "text/plain": [
       "<Figure size 1296x1080 with 1 Axes>"
      ]
     },
     "metadata": {
      "needs_background": "light"
     },
     "output_type": "display_data"
    },
    {
     "data": {
      "text/plain": [
       "<Figure size 1296x1080 with 0 Axes>"
      ]
     },
     "metadata": {},
     "output_type": "display_data"
    }
   ],
   "source": [
    "plot_roc_curve(y_test, y_pred)\n",
    "plt.savefig('ROC.png')"
   ]
  },
  {
   "cell_type": "code",
   "execution_count": 104,
   "metadata": {},
   "outputs": [],
   "source": [
    "# Random Sample Data Collection"
   ]
  },
  {
   "cell_type": "code",
   "execution_count": 108,
   "metadata": {},
   "outputs": [
    {
     "name": "stdout",
     "output_type": "stream",
     "text": [
      "Dady330\n",
      "donynyn1\n",
      "CurrentSocials\n",
      "haramlaflame\n",
      "_JamesShu\n",
      "basiljh\n",
      "Raima_Ouattara\n",
      "arroba_551\n",
      "samanthaaajae\n",
      "RioNextDoor\n",
      "eudoguinha\n",
      "cxnhoto777\n",
      "FreebandFlav4\n",
      "oluwamisegun\n",
      "CallMeKi__\n",
      "CLeonard46\n",
      "ONEeJuice\n",
      "KatlyGold\n",
      "mia_sansone\n",
      "thcxns\n",
      "slctiio\n",
      "mariesimspon95\n",
      "vanitascrimes\n",
      "Jip8659\n",
      "insimricky\n",
      "XiggyMatsu\n",
      "apk_share\n",
      "HogardJacques\n",
      "Mark_Kawada\n",
      "raina_kinser\n",
      "ehiludido\n",
      "DriftersPsyche\n",
      "gracexreec\n",
      "akhilgupta_me\n",
      "vascogsb\n",
      "nomis6259\n",
      "nenetteemk\n",
      "Gorgioussdf\n",
      "Rich65k\n",
      "braykxo\n",
      "kayansub\n",
      "Brianketer5\n",
      "blease_no\n",
      "Key board interuption\n",
      "Dady330\n",
      "donynyn1\n",
      "CurrentSocials\n",
      "haramlaflame\n",
      "_JamesShu\n",
      "basiljh\n",
      "Raima_Ouattara\n",
      "arroba_551\n",
      "samanthaaajae\n",
      "RioNextDoor\n",
      "eudoguinha\n",
      "cxnhoto777\n",
      "FreebandFlav4\n",
      "oluwamisegun\n",
      "CallMeKi__\n",
      "CLeonard46\n",
      "ONEeJuice\n",
      "KatlyGold\n",
      "mia_sansone\n",
      "thcxns\n",
      "slctiio\n",
      "mariesimspon95\n",
      "vanitascrimes\n",
      "Jip8659\n",
      "insimricky\n",
      "XiggyMatsu\n",
      "apk_share\n",
      "HogardJacques\n",
      "Mark_Kawada\n",
      "raina_kinser\n",
      "ehiludido\n",
      "DriftersPsyche\n",
      "gracexreec\n",
      "akhilgupta_me\n",
      "vascogsb\n",
      "nomis6259\n",
      "nenetteemk\n",
      "Gorgioussdf\n",
      "Rich65k\n",
      "braykxo\n",
      "kayansub\n",
      "Brianketer5\n",
      "blease_no\n"
     ]
    }
   ],
   "source": [
    "friends = []\n",
    "class listener(StreamListener):\n",
    "    def on_data(self, data):\n",
    "        try:\n",
    "            tweet = data.split(',\"screen_name\":\"')[1].split('\",\"location')[0]\n",
    "            print(tweet)\n",
    "            friends.append(tweet)\n",
    "            return True\n",
    "        except BaseException as e:\n",
    "            print('failed on data' + str(e))\n",
    "            time.sleep(5)\n",
    "    def on_error(self, status):\n",
    "        print(status)\n",
    "\n",
    "twitterStream = Stream(auth, listener())\n",
    "try:\n",
    "    for x in range(1,10):\n",
    "        twitterStream.filter(track=[\"car\"])\n",
    "except KeyboardInterrupt:\n",
    "    print(\"Key board interuption\")\n",
    "with open(\"stream.txt\", \"w\") as f:\n",
    "     for item in friends:\n",
    "        f.write(\"%s\\n\" % item)\n",
    "!cat stream.txt"
   ]
  },
  {
   "cell_type": "code",
   "execution_count": 109,
   "metadata": {},
   "outputs": [
    {
     "name": "stdout",
     "output_type": "stream",
     "text": [
      "1258\n"
     ]
    }
   ],
   "source": [
    "Total_Data = []\n",
    "fo = open(\"stream.txt\", \"r\")\n",
    "f = fo.readlines()\n",
    "fo.close()\n",
    "dataset = map(lambda s: s.strip(),f)\n",
    "try:\n",
    "    for datavar in dataset:\n",
    "        data = api.get_user(datavar)\n",
    "        counter = 0\n",
    "        for status in tweepy.Cursor(api.user_timeline, id = datavar).items(30):\n",
    "            try:\n",
    "                counter= counter+1\n",
    "                Total_Data.append(status)\n",
    "                time.sleep()\n",
    "            except Exception as e:\n",
    "                pass\n",
    "except Exception as e:\n",
    "    pass\n",
    "print(len(Total_Data))"
   ]
  },
  {
   "cell_type": "code",
   "execution_count": 110,
   "metadata": {},
   "outputs": [
    {
     "data": {
      "text/plain": [
       "(1258, 19)"
      ]
     },
     "execution_count": 110,
     "metadata": {},
     "output_type": "execute_result"
    }
   ],
   "source": [
    "import urllib.parse\n",
    "import pandas as pd\n",
    "\n",
    "def process_http(string):\n",
    "    url_count = 0\n",
    "    for i in string.split():\n",
    "        s, n, p, pa, q, f = urllib.parse.urlparse(i)\n",
    "        if s and n:\n",
    "            url_count += 1\n",
    "    return url_count\n",
    "\n",
    "def process_hashtag(string):\n",
    "    hashtag_count = 0\n",
    "    for i in string.split():\n",
    "        s, n, p, pa, q, f = urllib.parse.urlparse(i)\n",
    "        if i[:1] == '#':\n",
    "            hashtag_count += 1\n",
    "    return hashtag_count\n",
    "\n",
    "def process_mention(string):\n",
    "    mention_count=0\n",
    "    for i in string.split():\n",
    "        s, n, p, pa, q, f = urllib.parse.urlparse(i)\n",
    "        if i[:1] == '@':\n",
    "            mention_count += 1\n",
    "    return mention_count\n",
    "\n",
    "def process_data(Total_Data):\n",
    "    TwittID = [tweet.id for tweet in Total_Data]\n",
    "    # Making the dataset in pandas frame\n",
    "    Data = pd.DataFrame(TwittID, columns = ['TwittID'])\n",
    "    # processing the data in Tweet level\n",
    "    \n",
    "    Data[\"TextData\"] = [tweet.text for tweet in Total_Data]\n",
    "    Data[\"TweetCreatedAt\"] = [tweet.created_at for tweet in Total_Data]\n",
    "    Data[\"RetweetCount\"] = [tweet.retweet_count for tweet in Total_Data]\n",
    "    Data[\"TweetFavouriteCount\"] = [tweet.favorite_count for tweet in Total_Data]\n",
    "    Data[\"TweetSource\"] = [tweet.source for tweet in Total_Data]\n",
    "    \n",
    "    # processing the data in User Graph level\n",
    "    \n",
    "    Data[\"UserID\"] = [tweet.author.id for tweet in Total_Data]\n",
    "    Data[\"UserScreenName\"] = [tweet.author.screen_name for tweet in Total_Data]\n",
    "    Data[\"UserName\"] = [tweet.author.name for tweet in Total_Data]\n",
    "    Data[\"UserCreatedAt\"] = [tweet.author.created_at for tweet in Total_Data]\n",
    "    Data[\"UserDescription\"] = [tweet.author.description for tweet in Total_Data]\n",
    "    Data[\"UserDescriptionLength\"] = [len(tweet.author.description) for tweet in Total_Data]\n",
    "    Data[\"UserFollowersCount\"] = [tweet.author.followers_count for tweet in Total_Data]\n",
    "    Data[\"UserFriendsCount\"] = [tweet.author.friends_count for tweet in Total_Data]\n",
    "    Data[\"UserLocation\"] = [tweet.author.location for tweet in Total_Data]\n",
    "    \n",
    "    # Data[\"url\"] = [tweet.author.url for in Total_Data]\n",
    "    # Data[\"User_mention\"] = [user_mentions.author.screen_name for tweet in Total_Data]\n",
    "    # Data[\"HashTag\"] = [hashtag.text for tweet in Total_Data]\n",
    "    \n",
    "    Data[\"HttpCount\"] = [process_http(tweet.text) for tweet in Total_Data]\n",
    "    Data[\"HashtagCount\"] = [process_hashtag(tweet.text) for tweet in Total_Data]\n",
    "    Data[\"MentionCount\"] = [process_mention(tweet.text) for tweet in Total_Data]\n",
    "    Data[\"TweetCount\"] = [tweet.author.statuses_count for tweet in Total_Data]\n",
    "    return Data\n",
    "Data = process_data(Total_Data)\n",
    "Data.shape"
   ]
  },
  {
   "cell_type": "code",
   "execution_count": 111,
   "metadata": {},
   "outputs": [
    {
     "data": {
      "text/html": [
       "<div>\n",
       "<style scoped>\n",
       "    .dataframe tbody tr th:only-of-type {\n",
       "        vertical-align: middle;\n",
       "    }\n",
       "\n",
       "    .dataframe tbody tr th {\n",
       "        vertical-align: top;\n",
       "    }\n",
       "\n",
       "    .dataframe thead th {\n",
       "        text-align: right;\n",
       "    }\n",
       "</style>\n",
       "<table border=\"1\" class=\"dataframe\">\n",
       "  <thead>\n",
       "    <tr style=\"text-align: right;\">\n",
       "      <th></th>\n",
       "      <th>TwittID</th>\n",
       "      <th>TextData</th>\n",
       "      <th>TweetCreatedAt</th>\n",
       "      <th>RetweetCount</th>\n",
       "      <th>TweetFavouriteCount</th>\n",
       "      <th>TweetSource</th>\n",
       "      <th>UserID</th>\n",
       "      <th>UserScreenName</th>\n",
       "      <th>UserName</th>\n",
       "      <th>UserCreatedAt</th>\n",
       "      <th>UserDescription</th>\n",
       "      <th>UserDescriptionLength</th>\n",
       "      <th>UserFollowersCount</th>\n",
       "      <th>UserFriendsCount</th>\n",
       "      <th>UserLocation</th>\n",
       "      <th>HttpCount</th>\n",
       "      <th>HashtagCount</th>\n",
       "      <th>MentionCount</th>\n",
       "      <th>TweetCount</th>\n",
       "    </tr>\n",
       "  </thead>\n",
       "  <tbody>\n",
       "    <tr>\n",
       "      <th>1253</th>\n",
       "      <td>1120030627615715328</td>\n",
       "      <td>RT @capribot: “A golden prince was easy to lov...</td>\n",
       "      <td>2019-04-21 18:24:45</td>\n",
       "      <td>9</td>\n",
       "      <td>0</td>\n",
       "      <td>Twitter for iPhone</td>\n",
       "      <td>1097059909231878145</td>\n",
       "      <td>blease_no</td>\n",
       "      <td>bich</td>\n",
       "      <td>2019-02-17 09:07:19</td>\n",
       "      <td>Tester shame account while I figure this awful...</td>\n",
       "      <td>136</td>\n",
       "      <td>4</td>\n",
       "      <td>51</td>\n",
       "      <td></td>\n",
       "      <td>0</td>\n",
       "      <td>0</td>\n",
       "      <td>1</td>\n",
       "      <td>1668</td>\n",
       "    </tr>\n",
       "    <tr>\n",
       "      <th>1254</th>\n",
       "      <td>1120030564990496770</td>\n",
       "      <td>RT @thiriumcupcakes: Jewish headcanons, anyone...</td>\n",
       "      <td>2019-04-21 18:24:30</td>\n",
       "      <td>9</td>\n",
       "      <td>0</td>\n",
       "      <td>Twitter for iPhone</td>\n",
       "      <td>1097059909231878145</td>\n",
       "      <td>blease_no</td>\n",
       "      <td>bich</td>\n",
       "      <td>2019-02-17 09:07:19</td>\n",
       "      <td>Tester shame account while I figure this awful...</td>\n",
       "      <td>136</td>\n",
       "      <td>4</td>\n",
       "      <td>51</td>\n",
       "      <td></td>\n",
       "      <td>0</td>\n",
       "      <td>0</td>\n",
       "      <td>1</td>\n",
       "      <td>1668</td>\n",
       "    </tr>\n",
       "    <tr>\n",
       "      <th>1255</th>\n",
       "      <td>1120029794832396288</td>\n",
       "      <td>RT @harryhateskale: happy easter. welcome back...</td>\n",
       "      <td>2019-04-21 18:21:26</td>\n",
       "      <td>2719</td>\n",
       "      <td>0</td>\n",
       "      <td>Twitter for iPhone</td>\n",
       "      <td>1097059909231878145</td>\n",
       "      <td>blease_no</td>\n",
       "      <td>bich</td>\n",
       "      <td>2019-02-17 09:07:19</td>\n",
       "      <td>Tester shame account while I figure this awful...</td>\n",
       "      <td>136</td>\n",
       "      <td>4</td>\n",
       "      <td>51</td>\n",
       "      <td></td>\n",
       "      <td>1</td>\n",
       "      <td>0</td>\n",
       "      <td>1</td>\n",
       "      <td>1668</td>\n",
       "    </tr>\n",
       "    <tr>\n",
       "      <th>1256</th>\n",
       "      <td>1120029719779512331</td>\n",
       "      <td>RT @xor: using this caption for every one of m...</td>\n",
       "      <td>2019-04-21 18:21:08</td>\n",
       "      <td>7397</td>\n",
       "      <td>0</td>\n",
       "      <td>Twitter for iPhone</td>\n",
       "      <td>1097059909231878145</td>\n",
       "      <td>blease_no</td>\n",
       "      <td>bich</td>\n",
       "      <td>2019-02-17 09:07:19</td>\n",
       "      <td>Tester shame account while I figure this awful...</td>\n",
       "      <td>136</td>\n",
       "      <td>4</td>\n",
       "      <td>51</td>\n",
       "      <td></td>\n",
       "      <td>1</td>\n",
       "      <td>0</td>\n",
       "      <td>1</td>\n",
       "      <td>1668</td>\n",
       "    </tr>\n",
       "    <tr>\n",
       "      <th>1257</th>\n",
       "      <td>1120025386073636866</td>\n",
       "      <td>RT @skwrnf: #Hankcon Easter bunny!Connor\\nsoft...</td>\n",
       "      <td>2019-04-21 18:03:55</td>\n",
       "      <td>127</td>\n",
       "      <td>0</td>\n",
       "      <td>Twitter for iPhone</td>\n",
       "      <td>1097059909231878145</td>\n",
       "      <td>blease_no</td>\n",
       "      <td>bich</td>\n",
       "      <td>2019-02-17 09:07:19</td>\n",
       "      <td>Tester shame account while I figure this awful...</td>\n",
       "      <td>136</td>\n",
       "      <td>4</td>\n",
       "      <td>51</td>\n",
       "      <td></td>\n",
       "      <td>1</td>\n",
       "      <td>1</td>\n",
       "      <td>1</td>\n",
       "      <td>1668</td>\n",
       "    </tr>\n",
       "  </tbody>\n",
       "</table>\n",
       "</div>"
      ],
      "text/plain": [
       "                  TwittID                                           TextData  \\\n",
       "1253  1120030627615715328  RT @capribot: “A golden prince was easy to lov...   \n",
       "1254  1120030564990496770  RT @thiriumcupcakes: Jewish headcanons, anyone...   \n",
       "1255  1120029794832396288  RT @harryhateskale: happy easter. welcome back...   \n",
       "1256  1120029719779512331  RT @xor: using this caption for every one of m...   \n",
       "1257  1120025386073636866  RT @skwrnf: #Hankcon Easter bunny!Connor\\nsoft...   \n",
       "\n",
       "          TweetCreatedAt  RetweetCount  TweetFavouriteCount  \\\n",
       "1253 2019-04-21 18:24:45             9                    0   \n",
       "1254 2019-04-21 18:24:30             9                    0   \n",
       "1255 2019-04-21 18:21:26          2719                    0   \n",
       "1256 2019-04-21 18:21:08          7397                    0   \n",
       "1257 2019-04-21 18:03:55           127                    0   \n",
       "\n",
       "             TweetSource               UserID UserScreenName UserName  \\\n",
       "1253  Twitter for iPhone  1097059909231878145      blease_no     bich   \n",
       "1254  Twitter for iPhone  1097059909231878145      blease_no     bich   \n",
       "1255  Twitter for iPhone  1097059909231878145      blease_no     bich   \n",
       "1256  Twitter for iPhone  1097059909231878145      blease_no     bich   \n",
       "1257  Twitter for iPhone  1097059909231878145      blease_no     bich   \n",
       "\n",
       "           UserCreatedAt                                    UserDescription  \\\n",
       "1253 2019-02-17 09:07:19  Tester shame account while I figure this awful...   \n",
       "1254 2019-02-17 09:07:19  Tester shame account while I figure this awful...   \n",
       "1255 2019-02-17 09:07:19  Tester shame account while I figure this awful...   \n",
       "1256 2019-02-17 09:07:19  Tester shame account while I figure this awful...   \n",
       "1257 2019-02-17 09:07:19  Tester shame account while I figure this awful...   \n",
       "\n",
       "      UserDescriptionLength  UserFollowersCount  UserFriendsCount  \\\n",
       "1253                    136                   4                51   \n",
       "1254                    136                   4                51   \n",
       "1255                    136                   4                51   \n",
       "1256                    136                   4                51   \n",
       "1257                    136                   4                51   \n",
       "\n",
       "     UserLocation  HttpCount  HashtagCount  MentionCount  TweetCount  \n",
       "1253                       0             0             1        1668  \n",
       "1254                       0             0             1        1668  \n",
       "1255                       1             0             1        1668  \n",
       "1256                       1             0             1        1668  \n",
       "1257                       1             1             1        1668  "
      ]
     },
     "execution_count": 111,
     "metadata": {},
     "output_type": "execute_result"
    }
   ],
   "source": [
    "Data.tail()"
   ]
  },
  {
   "cell_type": "code",
   "execution_count": 112,
   "metadata": {},
   "outputs": [],
   "source": [
    "# Saving data with item space separating\n",
    "Data.to_csv('Leg_data9.csv', sep=',' , header = True )"
   ]
  },
  {
   "cell_type": "code",
   "execution_count": 113,
   "metadata": {},
   "outputs": [],
   "source": [
    "# saving data with item space separating\n",
    "Leg_Data = pd.read_csv('Leg_data9.csv')\n",
    "Total_leg = Leg_Data.drop('Unnamed: 0', 1)\n",
    "Total_leg.to_csv('Total_leg.csv', sep=',',encoding='utf8')"
   ]
  },
  {
   "cell_type": "code",
   "execution_count": 114,
   "metadata": {},
   "outputs": [],
   "source": [
    "# DAta Loading ............."
   ]
  },
  {
   "cell_type": "code",
   "execution_count": 115,
   "metadata": {},
   "outputs": [
    {
     "name": "stdout",
     "output_type": "stream",
     "text": [
      "<class 'pandas.core.frame.DataFrame'>\n",
      "RangeIndex: 1258 entries, 0 to 1257\n",
      "Data columns (total 20 columns):\n",
      "Unnamed: 0               1258 non-null int64\n",
      "TwittID                  1258 non-null int64\n",
      "TextData                 1258 non-null object\n",
      "TweetCreatedAt           1258 non-null object\n",
      "RetweetCount             1258 non-null int64\n",
      "TweetFavouriteCount      1258 non-null int64\n",
      "TweetSource              1258 non-null object\n",
      "UserID                   1258 non-null int64\n",
      "UserScreenName           1258 non-null object\n",
      "UserName                 1258 non-null object\n",
      "UserCreatedAt            1258 non-null object\n",
      "UserDescription          1258 non-null object\n",
      "UserDescriptionLength    1258 non-null int64\n",
      "UserFollowersCount       1258 non-null int64\n",
      "UserFriendsCount         1258 non-null int64\n",
      "UserLocation             1258 non-null object\n",
      "HttpCount                1258 non-null int64\n",
      "HashtagCount             1258 non-null int64\n",
      "MentionCount             1258 non-null int64\n",
      "TweetCount               1258 non-null int64\n",
      "dtypes: int64(12), object(8)\n",
      "memory usage: 196.6+ KB\n"
     ]
    }
   ],
   "source": [
    "leg_data = pd.read_csv('Total_leg.csv')\n",
    "leg_data.fillna(0, inplace=True)\n",
    "leg_data.info()"
   ]
  },
  {
   "cell_type": "code",
   "execution_count": 116,
   "metadata": {},
   "outputs": [],
   "source": [
    "temp1 = leg_data\n",
    "temp1 = temp1[[\"RetweetCount\"]]\n",
    "temp1.to_csv('temp11.csv',sep=',', encoding='utf8')"
   ]
  },
  {
   "cell_type": "code",
   "execution_count": 117,
   "metadata": {},
   "outputs": [],
   "source": [
    "leg_data.loc[:,'AvgHashtag'] = (leg_data.groupby('UserID')[\"HashtagCount\"].transform('sum'))/30\n",
    "leg_data.loc[:,'AvgURLCount'] = (leg_data.groupby('UserID')[\"HttpCount\"].transform('sum'))/30\n",
    "leg_data.loc[:,'AvgMention'] = (leg_data.groupby('UserID')[\"MentionCount\"].transform('sum'))/30\n",
    "leg_data.loc[:,'AvgRetweet'] = (leg_data.groupby('UserID')[\"RetweetCount\"].transform('sum'))/30\n",
    "leg_data.loc[:,'AvgFavCount'] = (leg_data.groupby('UserID')[\"TweetFavouriteCount\"].transform('sum'))/30"
   ]
  },
  {
   "cell_type": "code",
   "execution_count": 118,
   "metadata": {},
   "outputs": [
    {
     "name": "stdout",
     "output_type": "stream",
     "text": [
      "<class 'pandas.core.frame.DataFrame'>\n",
      "Int64Index: 43 entries, 0 to 1228\n",
      "Data columns (total 13 columns):\n",
      "UserID                   43 non-null int64\n",
      "UserScreenName           43 non-null object\n",
      "UserCreatedAt            43 non-null object\n",
      "UserDescriptionLength    43 non-null int64\n",
      "UserFollowersCount       43 non-null int64\n",
      "UserFriendsCount         43 non-null int64\n",
      "UserLocation             43 non-null object\n",
      "AvgHashtag               43 non-null float64\n",
      "AvgURLCount              43 non-null float64\n",
      "AvgMention               43 non-null float64\n",
      "AvgRetweet               43 non-null float64\n",
      "AvgFavCount              43 non-null float64\n",
      "TweetCount               43 non-null int64\n",
      "dtypes: float64(5), int64(5), object(3)\n",
      "memory usage: 4.7+ KB\n"
     ]
    }
   ],
   "source": [
    "unique_leg_row = leg_data[[\"UserID\", \"UserScreenName\", \"UserCreatedAt\", \"UserDescriptionLength\",\"UserFollowersCount\", \"UserFriendsCount\", \"UserLocation\", \"AvgHashtag\", \"AvgURLCount\", \"AvgMention\", \"AvgRetweet\", \"AvgFavCount\", \"TweetCount\"]]\n",
    "leg_data1 = unique_leg_row.drop_duplicates()\n",
    "leg_data1.info()"
   ]
  },
  {
   "cell_type": "code",
   "execution_count": 119,
   "metadata": {},
   "outputs": [
    {
     "data": {
      "text/plain": [
       "(5394, 21)"
      ]
     },
     "execution_count": 119,
     "metadata": {},
     "output_type": "execute_result"
    }
   ],
   "source": [
    "Total_spam_data = pd.read_csv(\"Spam_data.csv\")\n",
    "Total_spam_data.fillna(0, inplace=True)\n",
    "Total_spam_data.shape"
   ]
  },
  {
   "cell_type": "code",
   "execution_count": 120,
   "metadata": {},
   "outputs": [],
   "source": [
    "Total_spam_data.loc[:,'AvgHashtag'] = (Total_spam_data.groupby('UserID')[\"HashtagCount\"].transform('sum'))/30\n",
    "Total_spam_data.loc[:,'AvgURLCount'] = (Total_spam_data.groupby('UserID')[\"HttpCount\"].transform('sum'))/30\n",
    "Total_spam_data.loc[:,'AvgMention'] = (Total_spam_data.groupby('UserID')[\"MentionCount\"].transform('sum'))/30\n",
    "Total_spam_data.loc[:,'AvgRetweet'] = (Total_spam_data.groupby('UserID')[\"RetweetCount\"].transform('sum'))/30\n",
    "Total_spam_data.loc[:,'AvgFavCount'] = (Total_spam_data.groupby('UserID')[\"TweetFavouriteCount\"].transform('sum'))/30"
   ]
  },
  {
   "cell_type": "code",
   "execution_count": 121,
   "metadata": {},
   "outputs": [
    {
     "name": "stdout",
     "output_type": "stream",
     "text": [
      "<class 'pandas.core.frame.DataFrame'>\n",
      "Int64Index: 177 entries, 0 to 5364\n",
      "Data columns (total 14 columns):\n",
      "UserID                   177 non-null int64\n",
      "UserScreenName           177 non-null object\n",
      "UserCreatedAt            177 non-null object\n",
      "UserDescriptionLength    177 non-null int64\n",
      "UserFollowersCount       177 non-null int64\n",
      "UserFriendsCount         177 non-null int64\n",
      "UserLocation             177 non-null object\n",
      "AvgHashtag               177 non-null float64\n",
      "AvgURLCount              177 non-null float64\n",
      "AvgMention               177 non-null float64\n",
      "AvgRetweet               177 non-null float64\n",
      "AvgFavCount              177 non-null float64\n",
      "TweetCount               177 non-null int64\n",
      "SpammerOrNot             177 non-null int64\n",
      "dtypes: float64(5), int64(6), object(3)\n",
      "memory usage: 20.7+ KB\n"
     ]
    },
    {
     "name": "stderr",
     "output_type": "stream",
     "text": [
      "/home/radhey/anaconda3/lib/python3.6/site-packages/pandas/core/indexing.py:362: SettingWithCopyWarning: \n",
      "A value is trying to be set on a copy of a slice from a DataFrame.\n",
      "Try using .loc[row_indexer,col_indexer] = value instead\n",
      "\n",
      "See the caveats in the documentation: http://pandas.pydata.org/pandas-docs/stable/indexing.html#indexing-view-versus-copy\n",
      "  self.obj[key] = _infer_fill_value(value)\n",
      "/home/radhey/anaconda3/lib/python3.6/site-packages/pandas/core/indexing.py:543: SettingWithCopyWarning: \n",
      "A value is trying to be set on a copy of a slice from a DataFrame.\n",
      "Try using .loc[row_indexer,col_indexer] = value instead\n",
      "\n",
      "See the caveats in the documentation: http://pandas.pydata.org/pandas-docs/stable/indexing.html#indexing-view-versus-copy\n",
      "  self.obj[item] = s\n"
     ]
    }
   ],
   "source": [
    "unique_spam_row = Total_spam_data[[\"UserID\", \"UserScreenName\", \"UserCreatedAt\", \"UserDescriptionLength\",\"UserFollowersCount\", \"UserFriendsCount\", \"UserLocation\", \"AvgHashtag\", \"AvgURLCount\", \"AvgMention\", \"AvgRetweet\", \"AvgFavCount\", \"TweetCount\"]]\n",
    "spam_data1 = unique_spam_row.drop_duplicates()\n",
    "spam_data1.loc[:,\"SpammerOrNot\"]=1\n",
    "spam_data1.info()"
   ]
  },
  {
   "cell_type": "code",
   "execution_count": 122,
   "metadata": {},
   "outputs": [
    {
     "name": "stdout",
     "output_type": "stream",
     "text": [
      "<class 'pandas.core.frame.DataFrame'>\n",
      "Int64Index: 220 entries, 0 to 5364\n",
      "Data columns (total 14 columns):\n",
      "UserID                   220 non-null int64\n",
      "UserScreenName           220 non-null object\n",
      "UserCreatedAt            220 non-null object\n",
      "UserDescriptionLength    220 non-null int64\n",
      "UserFollowersCount       220 non-null int64\n",
      "UserFriendsCount         220 non-null int64\n",
      "UserLocation             220 non-null object\n",
      "AvgHashtag               220 non-null float64\n",
      "AvgURLCount              220 non-null float64\n",
      "AvgMention               220 non-null float64\n",
      "AvgRetweet               220 non-null float64\n",
      "AvgFavCount              220 non-null float64\n",
      "TweetCount               220 non-null int64\n",
      "SpammerOrNot             177 non-null float64\n",
      "dtypes: float64(6), int64(5), object(3)\n",
      "memory usage: 25.8+ KB\n"
     ]
    }
   ],
   "source": [
    "frames = [leg_data1, spam_data1]\n",
    "Total_random_data = pd.concat(frames, axis=0, sort=False)\n",
    "Total_random_data.info()"
   ]
  },
  {
   "cell_type": "code",
   "execution_count": 123,
   "metadata": {},
   "outputs": [],
   "source": [
    "Total_random_data.reset_index()\n",
    "Total_random_data.to_csv('Total_random_data.csv',sep=',', encoding='utf8')"
   ]
  },
  {
   "cell_type": "code",
   "execution_count": 124,
   "metadata": {},
   "outputs": [
    {
     "name": "stdout",
     "output_type": "stream",
     "text": [
      "<class 'pandas.core.frame.DataFrame'>\n",
      "RangeIndex: 220 entries, 0 to 219\n",
      "Data columns (total 17 columns):\n",
      "Unnamed: 0               220 non-null int64\n",
      "Unnamed: 0.1             220 non-null int64\n",
      "UserID                   220 non-null int64\n",
      "UserScreenName           220 non-null object\n",
      "UserCreatedAt            220 non-null object\n",
      "UserDescriptionLength    220 non-null int64\n",
      "UserFollowersCount       220 non-null int64\n",
      "UserFriendsCount         220 non-null int64\n",
      "UserLocation             220 non-null object\n",
      "AvgHashtag               220 non-null float64\n",
      "AvgURLCount              220 non-null float64\n",
      "AvgMention               220 non-null float64\n",
      "AvgRetweet               220 non-null float64\n",
      "AvgFavCount              220 non-null float64\n",
      "TweetCount               220 non-null int64\n",
      "SpammerOrNot             220 non-null float64\n",
      "Current_Time             220 non-null object\n",
      "dtypes: float64(6), int64(7), object(4)\n",
      "memory usage: 29.3+ KB\n"
     ]
    }
   ],
   "source": [
    "Total_random_data = pd.read_csv('Total_random_data.csv')\n",
    "Total_random_data.fillna(0, inplace=True)\n",
    "Current_Time = datetime.datetime.strftime(datetime.datetime.now(), '%Y-%m-%d %H:%M:%S')\n",
    "Total_random_data.loc[:, \"Current_Time\"]=Current_Time\n",
    "Total_random_data.to_csv('Total_random1_data.csv', sep=',', encoding='utf8')\n",
    "Total_random_data = pd.read_csv('Total_random1_data.csv')\n",
    "Total_random_data.info()"
   ]
  },
  {
   "cell_type": "code",
   "execution_count": 126,
   "metadata": {},
   "outputs": [],
   "source": [
    "#debugging\n",
    "temp1 = Total_data[[\"UserCreatedAt\"]]\n",
    "temp1.to_csv('temp111.csv', sep=',', encoding='utf8')"
   ]
  },
  {
   "cell_type": "code",
   "execution_count": 127,
   "metadata": {},
   "outputs": [],
   "source": [
    "Total_data =  Total_random_data"
   ]
  },
  {
   "cell_type": "code",
   "execution_count": 128,
   "metadata": {},
   "outputs": [
    {
     "name": "stdout",
     "output_type": "stream",
     "text": [
      "<class 'pandas.core.frame.DataFrame'>\n",
      "RangeIndex: 220 entries, 0 to 219\n",
      "Data columns (total 18 columns):\n",
      "Unnamed: 0               220 non-null int64\n",
      "Unnamed: 0.1             220 non-null int64\n",
      "UserID                   220 non-null int64\n",
      "UserScreenName           220 non-null object\n",
      "UserCreatedAt            220 non-null object\n",
      "UserDescriptionLength    220 non-null int64\n",
      "UserFollowersCount       220 non-null int64\n",
      "UserFriendsCount         220 non-null int64\n",
      "UserLocation             220 non-null object\n",
      "AvgHashtag               220 non-null float64\n",
      "AvgURLCount              220 non-null float64\n",
      "AvgMention               220 non-null float64\n",
      "AvgRetweet               220 non-null float64\n",
      "AvgFavCount              220 non-null float64\n",
      "TweetCount               220 non-null int64\n",
      "SpammerOrNot             220 non-null float64\n",
      "Current_Time             220 non-null object\n",
      "Reputation               220 non-null float64\n",
      "dtypes: float64(7), int64(7), object(4)\n",
      "memory usage: 31.0+ KB\n"
     ]
    }
   ],
   "source": [
    "#Adding features\n",
    "Total_data.loc[:,\"Reputation\"]=Total_data[\"UserFollowersCount\"]/(Total_data[\"UserFollowersCount\"])+(Total_data[\"UserFriendsCount\"])\n",
    "Total_data[\"Reputation\"].describe()\n",
    "Total_data.info()"
   ]
  },
  {
   "cell_type": "code",
   "execution_count": 129,
   "metadata": {},
   "outputs": [
    {
     "data": {
      "text/plain": [
       "1.0    177\n",
       "0.0     43\n",
       "Name: SpammerOrNot, dtype: int64"
      ]
     },
     "execution_count": 129,
     "metadata": {},
     "output_type": "execute_result"
    }
   ],
   "source": [
    "Total_data.SpammerOrNot.value_counts()"
   ]
  },
  {
   "cell_type": "code",
   "execution_count": 130,
   "metadata": {},
   "outputs": [
    {
     "data": {
      "text/plain": [
       "count     220.000000\n",
       "mean     1373.349460\n",
       "std      1163.271559\n",
       "min         1.270613\n",
       "25%       263.913782\n",
       "50%      1192.280353\n",
       "75%      2383.831085\n",
       "max      3895.502130\n",
       "Name: AgeOfAccount, dtype: float64"
      ]
     },
     "execution_count": 130,
     "metadata": {},
     "output_type": "execute_result"
    }
   ],
   "source": [
    "# logitivity features\n",
    "data = Total_data\n",
    "data[\"Current_Time\"] = pd.to_datetime(data[\"Current_Time\"])\n",
    "data[\"UserCreatedAt\"] = pd.to_datetime(data[\"UserCreatedAt\"])\n",
    "data['AgeOfAccount'] = (data['Current_Time'] - data['UserCreatedAt'])/np.timedelta64(1, 'D')\n",
    "cols = ['AgeOfAccount']\n",
    "data[cols] = data[cols].mask(data[cols]<0)\n",
    "data.AgeOfAccount.describe()"
   ]
  },
  {
   "cell_type": "code",
   "execution_count": 131,
   "metadata": {},
   "outputs": [
    {
     "data": {
      "text/plain": [
       "count    220.000000\n",
       "mean      24.355166\n",
       "std       61.186687\n",
       "min        0.001594\n",
       "25%        1.890692\n",
       "50%        6.026452\n",
       "75%       21.099913\n",
       "max      484.883181\n",
       "Name: TweetPerDay, dtype: float64"
      ]
     },
     "execution_count": 131,
     "metadata": {},
     "output_type": "execute_result"
    }
   ],
   "source": [
    "data1 = data\n",
    "data1.loc[:, \"TweetPerDay\"] = data1[\"TweetCount\"]/data1[\"AgeOfAccount\"]\n",
    "data1[\"TweetPerDay\"].describe()"
   ]
  },
  {
   "cell_type": "code",
   "execution_count": 132,
   "metadata": {},
   "outputs": [],
   "source": [
    "data1.loc[:,\"TweetPerFollower\"] = data1[\"TweetCount\"]/data1[\"UserFollowersCount\"]"
   ]
  },
  {
   "cell_type": "code",
   "execution_count": 133,
   "metadata": {},
   "outputs": [
    {
     "data": {
      "text/plain": [
       "217    97.11\n",
       "218    62.26\n",
       "219    85.89\n",
       "Name: TweetPerFollower, dtype: float64"
      ]
     },
     "execution_count": 133,
     "metadata": {},
     "output_type": "execute_result"
    }
   ],
   "source": [
    "data1.TweetPerFollower=data1.TweetPerFollower.round(2).fillna(0)\n",
    "data1 = data1[np.isfinite(data1['TweetPerFollower'])]\n",
    "data1[\"TweetPerFollower\"].tail(3)"
   ]
  },
  {
   "cell_type": "code",
   "execution_count": 134,
   "metadata": {},
   "outputs": [],
   "source": [
    "Test_data = data1"
   ]
  },
  {
   "cell_type": "code",
   "execution_count": 135,
   "metadata": {},
   "outputs": [],
   "source": [
    "#Saving Total test data\n",
    "Test_data.reset_index()\n",
    "Test_data.to_csv('Total_test_data.csv', sep=',', encoding='utf8')"
   ]
  },
  {
   "cell_type": "code",
   "execution_count": 136,
   "metadata": {},
   "outputs": [],
   "source": [
    "# Final state of loading training and testing data............"
   ]
  },
  {
   "cell_type": "code",
   "execution_count": 137,
   "metadata": {},
   "outputs": [],
   "source": [
    "# loading training data\n",
    "Train_data = pd.read_csv('Total_training_data.csv')\n",
    "Train_data.fillna(0, inplace=True)"
   ]
  },
  {
   "cell_type": "code",
   "execution_count": 138,
   "metadata": {},
   "outputs": [],
   "source": [
    "# loadind test data\n",
    "Test_data = pd.read_csv('Total_test_data.csv')\n",
    "Test_data.fillna(0, inplace=True)"
   ]
  },
  {
   "cell_type": "code",
   "execution_count": 139,
   "metadata": {},
   "outputs": [
    {
     "name": "stdout",
     "output_type": "stream",
     "text": [
      "Training set value counts:\n",
      "\n",
      "0    369\n",
      "1    171\n",
      "Name: SpammerOrNot, dtype: int64\n",
      "Testing set value counts:\n",
      "\n",
      "1.0    177\n",
      "0.0     43\n",
      "Name: SpammerOrNot, dtype: int64\n"
     ]
    }
   ],
   "source": [
    "# selecting the features for training and testing data\n",
    "Train = Train_data[['Reputation', 'AvgHashtag', 'AvgRetweet', 'AvgFavCount','AvgMention','TweetCount']]\n",
    "y_train =Train_data[\"SpammerOrNot\"]\n",
    "print(\"Training set value counts:\\n\")\n",
    "print(y_train.value_counts())\n",
    "Test = Test_data[['Reputation', 'AvgHashtag', 'AvgRetweet', 'AvgFavCount','AvgMention','TweetCount']]\n",
    "y_test = Test_data[\"SpammerOrNot\"]\n",
    "print(\"Testing set value counts:\\n\")\n",
    "print(y_test.value_counts())"
   ]
  },
  {
   "cell_type": "code",
   "execution_count": 140,
   "metadata": {},
   "outputs": [
    {
     "name": "stdout",
     "output_type": "stream",
     "text": [
      "0.7636363636363637\n",
      "Tenfol cross validation score\n",
      "[0.81818182 0.88888889 0.77777778 0.74074074 0.88888889 0.81481481\n",
      " 0.96296296 0.96296296 0.96296296 0.90566038]\n",
      "0.8723842195540309\n",
      "\n",
      "\n",
      "Classifier performance report: \n",
      "              precision    recall  f1-score   support\n",
      "\n",
      "         0.0       0.32      0.19      0.24        43\n",
      "         1.0       0.82      0.90      0.86       177\n",
      "\n",
      "   micro avg       0.76      0.76      0.76       220\n",
      "   macro avg       0.57      0.55      0.55       220\n",
      "weighted avg       0.72      0.76      0.74       220\n",
      "\n",
      "Confusion Matrix: \n",
      "[[  8  35]\n",
      " [ 17 160]]\n"
     ]
    }
   ],
   "source": [
    "from sklearn.ensemble import RandomForestClassifier\n",
    "est = RandomForestClassifier(n_estimators=11, max_depth=11, min_samples_split=8)\n",
    "est.fit(Train, y_train)\n",
    "y_pred = est.predict(Test)\n",
    "scores = cross_val_score(knn, M, y, cv=10, scoring='accuracy')\n",
    "print(accuracy_score(y_test,y_pred))\n",
    "print(\"Tenfol cross validation score\")\n",
    "print(scores)\n",
    "print(scores.mean())\n",
    "print(\"\\n\")\n",
    "print(\"Classifier performance report: \")\n",
    "print(classification_report(y_test, y_pred))\n",
    "print(\"Confusion Matrix: \")\n",
    "print(confusion_matrix(y_test, y_pred))"
   ]
  },
  {
   "cell_type": "code",
   "execution_count": 144,
   "metadata": {},
   "outputs": [],
   "source": [
    "def plot_confusion_matrix(cm, title='Confusion matrix', cmap=plt.cm.Blues):\n",
    "    target_names = ['Fake', 'Genuine']\n",
    "    plt.imshow(cm, interpolation='nearest', cmap=cmap)\n",
    "    plt.title(title)\n",
    "    plt.colorbar()\n",
    "    tick_marks = np.arange(len(target_names))\n",
    "    plt.xticks(tick_marks, target_names, rotation=45)\n",
    "    plt.yticks(tick_marks, target_names)\n",
    "    plt.tight_layout()\n",
    "    plt.ylabel('True label')\n",
    "    plt.xlabel('Predicted label')\n",
    "    plt.show()"
   ]
  },
  {
   "cell_type": "code",
   "execution_count": 155,
   "metadata": {},
   "outputs": [
    {
     "data": {
      "image/png": "[encoded data removed]",
      "text/plain": [
       "<Figure size 1296x1080 with 2 Axes>"
      ]
     },
     "metadata": {
      "needs_background": "light"
     },
     "output_type": "display_data"
    }
   ],
   "source": [
    "cm = confusion_matrix(y_test, y_pred)\n",
    "plot_confusion_matrix(cm)"
   ]
  },
  {
   "cell_type": "code",
   "execution_count": 147,
   "metadata": {},
   "outputs": [],
   "source": [
    "import numpy as np\n",
    "import pandas as pd\n",
    "import matplotlib.pyplot as plt\n",
    "from sklearn import model_selection\n",
    "from sklearn import preprocessing\n",
    "from sklearn.svm import SVC\n",
    "import seaborn as sns\n",
    "from sklearn.metrics import roc_curve, auc\n",
    "from sklearn.model_selection import StratifiedKFold, train_test_split\n",
    "from sklearn.model_selection import GridSearchCV\n",
    "from sklearn.metrics import accuracy_score\n",
    "from sklearn.model_selection import learning_curve\n",
    "from sklearn.metrics import classification_report\n",
    "from sklearn.metrics import confusion_matrix"
   ]
  },
  {
   "cell_type": "code",
   "execution_count": 148,
   "metadata": {},
   "outputs": [],
   "source": [
    "def plot_learning_curve(estimator, title, X, y, ylim=None, cv=None,\n",
    "                        n_jobs=1, train_sizes=np.linspace(.1, 1.0, 5)):\n",
    "    plt.figure()\n",
    "    plt.title(title)\n",
    "    if ylim is not None:\n",
    "        plt.ylim(*ylim)\n",
    "    plt.xlabel(\"Training examples\")\n",
    "    plt.ylabel(\"Score\")\n",
    "    train_sizes, train_scores, test_scores = learning_curve(\n",
    "        estimator, X, y, cv=cv, n_jobs=n_jobs, train_sizes=train_sizes)\n",
    "    train_scores_mean = np.mean(train_scores, axis=1)\n",
    "    train_scores_std = np.std(train_scores, axis=1)\n",
    "    test_scores_mean = np.mean(test_scores, axis=1)\n",
    "    test_scores_std = np.std(test_scores, axis=1)\n",
    "    plt.grid()\n",
    "\n",
    "    plt.fill_between(train_sizes, train_scores_mean - train_scores_std,\n",
    "                     train_scores_mean + train_scores_std, alpha=0.1,\n",
    "                     color=\"r\")\n",
    "    plt.fill_between(train_sizes, test_scores_mean - test_scores_std,\n",
    "                     test_scores_mean + test_scores_std, alpha=0.1, color=\"g\")\n",
    "    plt.plot(train_sizes, train_scores_mean, 'o-', color=\"r\",\n",
    "             label=\"Training score\")\n",
    "    plt.plot(train_sizes, test_scores_mean, 'o-', color=\"g\",\n",
    "             label=\"Cross-validation score\")\n",
    "\n",
    "    plt.legend(loc=\"best\")\n",
    "    plt.show()\n",
    "    return plt"
   ]
  },
  {
   "cell_type": "code",
   "execution_count": 149,
   "metadata": {},
   "outputs": [],
   "source": [
    "def plot_roc_curve(y_test, y_pred):\n",
    "    false_positive_rate, true_positive_rate, thresholds = roc_curve(y_test, y_pred)\n",
    "    print(\"False Positive rate: \", false_positive_rate)\n",
    "    print(\"True Positive rate: \", true_positive_rate)\n",
    "\n",
    "    roc_auc = auc(false_positive_rate, true_positive_rate)\n",
    "\n",
    "    plt.title('Receiver Operating Characteristic')\n",
    "    plt.plot(false_positive_rate, true_positive_rate, 'b',\n",
    "             label='AUC = %0.2f' % roc_auc)\n",
    "    plt.legend(loc='lower right')\n",
    "    plt.plot([0, 1], [0, 1], 'r--')\n",
    "    plt.xlim([-0.1, 1.2])\n",
    "    plt.ylim([-0.1, 1.2])\n",
    "    plt.ylabel('True Positive Rate')\n",
    "    plt.xlabel('False Positive Rate')\n",
    "    plt.show()"
   ]
  },
  {
   "cell_type": "code",
   "execution_count": 150,
   "metadata": {},
   "outputs": [],
   "source": [
    "def train(X_train, y_train, X_test):\n",
    "    # Trains and predicts dataset with a SVM classifier\n",
    "    # Scaling features\n",
    "    X_train = preprocessing.scale(X_train)\n",
    "    # print(X_train)\n",
    "    X_test = preprocessing.scale(X_test)\n",
    "\n",
    "    Cs = 10.0 ** np.arange(-2, 3, .5)\n",
    "    # print(Cs)\n",
    "    gammas = 10.0 ** np.arange(-2, 3, .5)\n",
    "    # print(gammas)\n",
    "    param = [{'gamma': gammas, 'C': Cs}]\n",
    "    # print(type(param))\n",
    "\n",
    "    # print(param)\n",
    "    cvk = StratifiedKFold(n_splits=5)\n",
    "    # print(cvk)\n",
    "    classifier = SVC()\n",
    "    # print(classifier)\n",
    "    clf = GridSearchCV(classifier, param_grid=param, cv=cvk)\n",
    "    clf.fit(X_train, y_train)\n",
    "    #print(clf.best_params_)\n",
    "    print(\"The best classifier is: \", clf.best_estimator_)\n",
    "    clf.best_estimator_.fit(X_train, y_train)\n",
    "    # Estimate score\n",
    "    scores = model_selection.cross_val_score(clf.best_estimator_, X_train, y_train, cv=5)\n",
    "    #print(scores)\n",
    "    print('Estimated score: %0.5f (+/- %0.5f)' % (scores.mean(), scores.std() / 2))\n",
    "    title = 'Learning Curves (SVM, rbf kernel, $\\gamma=%.6f$)' % clf.best_estimator_.gamma\n",
    "    plot_learning_curve(clf.best_estimator_, title, X_train, y_train, cv=5)\n",
    "    plt.show()\n",
    "    # Predict class\n",
    "    y_pred = clf.best_estimator_.predict(X_test)\n",
    "    return y_test, y_pred"
   ]
  },
  {
   "cell_type": "code",
   "execution_count": 152,
   "metadata": {},
   "outputs": [
    {
     "name": "stderr",
     "output_type": "stream",
     "text": [
      "/home/radhey/anaconda3/lib/python3.6/site-packages/ipykernel_launcher.py:4: DataConversionWarning: Data with input dtype int64, float64 were all converted to float64 by the scale function.\n",
      "  after removing the cwd from sys.path.\n",
      "/home/radhey/anaconda3/lib/python3.6/site-packages/ipykernel_launcher.py:6: DataConversionWarning: Data with input dtype int64, float64 were all converted to float64 by the scale function.\n",
      "  \n",
      "/home/radhey/anaconda3/lib/python3.6/site-packages/sklearn/model_selection/_search.py:841: DeprecationWarning: The default of the `iid` parameter will change from True to False in version 0.22 and will be removed in 0.24. This will change numeric results when test-set sizes are unequal.\n",
      "  DeprecationWarning)\n",
      "/home/radhey/anaconda3/lib/python3.6/site-packages/sklearn/model_selection/_validation.py:542: FutureWarning: From version 0.22, errors during fit will result in a cross validation score of NaN by default. Use error_score='raise' if you want an exception raised or error_score=np.nan to adopt the behavior from version 0.22.\n",
      "  FutureWarning)\n"
     ]
    },
    {
     "name": "stdout",
     "output_type": "stream",
     "text": [
      "The best classifier is:  SVC(C=100.0, cache_size=200, class_weight=None, coef0=0.0,\n",
      "  decision_function_shape='ovr', degree=3, gamma=1.0, kernel='rbf',\n",
      "  max_iter=-1, probability=False, random_state=None, shrinking=True,\n",
      "  tol=0.001, verbose=False)\n",
      "Estimated score: 0.81675 (+/- 0.00800)\n"
     ]
    },
    {
     "ename": "ValueError",
     "evalue": "The number of classes has to be greater than one; got 1 class",
     "output_type": "error",
     "traceback": [
      "\u001b[0;31m---------------------------------------------------------------------------\u001b[0m",
      "\u001b[0;31mValueError\u001b[0m                                Traceback (most recent call last)",
      "\u001b[0;32m<ipython-input-152-92abd9569c36>\u001b[0m in \u001b[0;36m<module>\u001b[0;34m\u001b[0m\n\u001b[0;32m----> 1\u001b[0;31m \u001b[0my_test\u001b[0m\u001b[0;34m,\u001b[0m \u001b[0my_pred\u001b[0m \u001b[0;34m=\u001b[0m \u001b[0mtrain\u001b[0m\u001b[0;34m(\u001b[0m\u001b[0mTrain\u001b[0m\u001b[0;34m,\u001b[0m \u001b[0my_train\u001b[0m\u001b[0;34m,\u001b[0m \u001b[0mX_test\u001b[0m\u001b[0;34m)\u001b[0m\u001b[0;34m\u001b[0m\u001b[0;34m\u001b[0m\u001b[0m\n\u001b[0m",
      "\u001b[0;32m<ipython-input-150-20c306871188>\u001b[0m in \u001b[0;36mtrain\u001b[0;34m(X_train, y_train, X_test)\u001b[0m\n\u001b[1;32m     28\u001b[0m     \u001b[0mprint\u001b[0m\u001b[0;34m(\u001b[0m\u001b[0;34m'Estimated score: %0.5f (+/- %0.5f)'\u001b[0m \u001b[0;34m%\u001b[0m \u001b[0;34m(\u001b[0m\u001b[0mscores\u001b[0m\u001b[0;34m.\u001b[0m\u001b[0mmean\u001b[0m\u001b[0;34m(\u001b[0m\u001b[0;34m)\u001b[0m\u001b[0;34m,\u001b[0m \u001b[0mscores\u001b[0m\u001b[0;34m.\u001b[0m\u001b[0mstd\u001b[0m\u001b[0;34m(\u001b[0m\u001b[0;34m)\u001b[0m \u001b[0;34m/\u001b[0m \u001b[0;36m2\u001b[0m\u001b[0;34m)\u001b[0m\u001b[0;34m)\u001b[0m\u001b[0;34m\u001b[0m\u001b[0;34m\u001b[0m\u001b[0m\n\u001b[1;32m     29\u001b[0m     \u001b[0mtitle\u001b[0m \u001b[0;34m=\u001b[0m \u001b[0;34m'Learning Curves (SVM, rbf kernel, $\\gamma=%.6f$)'\u001b[0m \u001b[0;34m%\u001b[0m \u001b[0mclf\u001b[0m\u001b[0;34m.\u001b[0m\u001b[0mbest_estimator_\u001b[0m\u001b[0;34m.\u001b[0m\u001b[0mgamma\u001b[0m\u001b[0;34m\u001b[0m\u001b[0;34m\u001b[0m\u001b[0m\n\u001b[0;32m---> 30\u001b[0;31m     \u001b[0mplot_learning_curve\u001b[0m\u001b[0;34m(\u001b[0m\u001b[0mclf\u001b[0m\u001b[0;34m.\u001b[0m\u001b[0mbest_estimator_\u001b[0m\u001b[0;34m,\u001b[0m \u001b[0mtitle\u001b[0m\u001b[0;34m,\u001b[0m \u001b[0mX_train\u001b[0m\u001b[0;34m,\u001b[0m \u001b[0my_train\u001b[0m\u001b[0;34m,\u001b[0m \u001b[0mcv\u001b[0m\u001b[0;34m=\u001b[0m\u001b[0;36m5\u001b[0m\u001b[0;34m)\u001b[0m\u001b[0;34m\u001b[0m\u001b[0;34m\u001b[0m\u001b[0m\n\u001b[0m\u001b[1;32m     31\u001b[0m     \u001b[0mplt\u001b[0m\u001b[0;34m.\u001b[0m\u001b[0mshow\u001b[0m\u001b[0;34m(\u001b[0m\u001b[0;34m)\u001b[0m\u001b[0;34m\u001b[0m\u001b[0;34m\u001b[0m\u001b[0m\n\u001b[1;32m     32\u001b[0m     \u001b[0;31m# Predict class\u001b[0m\u001b[0;34m\u001b[0m\u001b[0;34m\u001b[0m\u001b[0;34m\u001b[0m\u001b[0m\n",
      "\u001b[0;32m<ipython-input-148-469b62cb5300>\u001b[0m in \u001b[0;36mplot_learning_curve\u001b[0;34m(estimator, title, X, y, ylim, cv, n_jobs, train_sizes)\u001b[0m\n\u001b[1;32m      8\u001b[0m     \u001b[0mplt\u001b[0m\u001b[0;34m.\u001b[0m\u001b[0mylabel\u001b[0m\u001b[0;34m(\u001b[0m\u001b[0;34m\"Score\"\u001b[0m\u001b[0;34m)\u001b[0m\u001b[0;34m\u001b[0m\u001b[0;34m\u001b[0m\u001b[0m\n\u001b[1;32m      9\u001b[0m     train_sizes, train_scores, test_scores = learning_curve(\n\u001b[0;32m---> 10\u001b[0;31m         estimator, X, y, cv=cv, n_jobs=n_jobs, train_sizes=train_sizes)\n\u001b[0m\u001b[1;32m     11\u001b[0m     \u001b[0mtrain_scores_mean\u001b[0m \u001b[0;34m=\u001b[0m \u001b[0mnp\u001b[0m\u001b[0;34m.\u001b[0m\u001b[0mmean\u001b[0m\u001b[0;34m(\u001b[0m\u001b[0mtrain_scores\u001b[0m\u001b[0;34m,\u001b[0m \u001b[0maxis\u001b[0m\u001b[0;34m=\u001b[0m\u001b[0;36m1\u001b[0m\u001b[0;34m)\u001b[0m\u001b[0;34m\u001b[0m\u001b[0;34m\u001b[0m\u001b[0m\n\u001b[1;32m     12\u001b[0m     \u001b[0mtrain_scores_std\u001b[0m \u001b[0;34m=\u001b[0m \u001b[0mnp\u001b[0m\u001b[0;34m.\u001b[0m\u001b[0mstd\u001b[0m\u001b[0;34m(\u001b[0m\u001b[0mtrain_scores\u001b[0m\u001b[0;34m,\u001b[0m \u001b[0maxis\u001b[0m\u001b[0;34m=\u001b[0m\u001b[0;36m1\u001b[0m\u001b[0;34m)\u001b[0m\u001b[0;34m\u001b[0m\u001b[0;34m\u001b[0m\u001b[0m\n",
      "\u001b[0;32m~/anaconda3/lib/python3.6/site-packages/sklearn/model_selection/_validation.py\u001b[0m in \u001b[0;36mlearning_curve\u001b[0;34m(estimator, X, y, groups, train_sizes, cv, scoring, exploit_incremental_learning, n_jobs, pre_dispatch, verbose, shuffle, random_state, error_score)\u001b[0m\n\u001b[1;32m   1244\u001b[0m             \u001b[0mparameters\u001b[0m\u001b[0;34m=\u001b[0m\u001b[0;32mNone\u001b[0m\u001b[0;34m,\u001b[0m \u001b[0mfit_params\u001b[0m\u001b[0;34m=\u001b[0m\u001b[0;32mNone\u001b[0m\u001b[0;34m,\u001b[0m \u001b[0mreturn_train_score\u001b[0m\u001b[0;34m=\u001b[0m\u001b[0;32mTrue\u001b[0m\u001b[0;34m,\u001b[0m\u001b[0;34m\u001b[0m\u001b[0;34m\u001b[0m\u001b[0m\n\u001b[1;32m   1245\u001b[0m             error_score=error_score)\n\u001b[0;32m-> 1246\u001b[0;31m             for train, test in train_test_proportions)\n\u001b[0m\u001b[1;32m   1247\u001b[0m         \u001b[0mout\u001b[0m \u001b[0;34m=\u001b[0m \u001b[0mnp\u001b[0m\u001b[0;34m.\u001b[0m\u001b[0marray\u001b[0m\u001b[0;34m(\u001b[0m\u001b[0mout\u001b[0m\u001b[0;34m)\u001b[0m\u001b[0;34m\u001b[0m\u001b[0;34m\u001b[0m\u001b[0m\n\u001b[1;32m   1248\u001b[0m         \u001b[0mn_cv_folds\u001b[0m \u001b[0;34m=\u001b[0m \u001b[0mout\u001b[0m\u001b[0;34m.\u001b[0m\u001b[0mshape\u001b[0m\u001b[0;34m[\u001b[0m\u001b[0;36m0\u001b[0m\u001b[0;34m]\u001b[0m \u001b[0;34m//\u001b[0m \u001b[0mn_unique_ticks\u001b[0m\u001b[0;34m\u001b[0m\u001b[0;34m\u001b[0m\u001b[0m\n",
      "\u001b[0;32m~/anaconda3/lib/python3.6/site-packages/sklearn/externals/joblib/parallel.py\u001b[0m in \u001b[0;36m__call__\u001b[0;34m(self, iterable)\u001b[0m\n\u001b[1;32m    915\u001b[0m             \u001b[0;31m# remaining jobs.\u001b[0m\u001b[0;34m\u001b[0m\u001b[0;34m\u001b[0m\u001b[0;34m\u001b[0m\u001b[0m\n\u001b[1;32m    916\u001b[0m             \u001b[0mself\u001b[0m\u001b[0;34m.\u001b[0m\u001b[0m_iterating\u001b[0m \u001b[0;34m=\u001b[0m \u001b[0;32mFalse\u001b[0m\u001b[0;34m\u001b[0m\u001b[0;34m\u001b[0m\u001b[0m\n\u001b[0;32m--> 917\u001b[0;31m             \u001b[0;32mif\u001b[0m \u001b[0mself\u001b[0m\u001b[0;34m.\u001b[0m\u001b[0mdispatch_one_batch\u001b[0m\u001b[0;34m(\u001b[0m\u001b[0miterator\u001b[0m\u001b[0;34m)\u001b[0m\u001b[0;34m:\u001b[0m\u001b[0;34m\u001b[0m\u001b[0;34m\u001b[0m\u001b[0m\n\u001b[0m\u001b[1;32m    918\u001b[0m                 \u001b[0mself\u001b[0m\u001b[0;34m.\u001b[0m\u001b[0m_iterating\u001b[0m \u001b[0;34m=\u001b[0m \u001b[0mself\u001b[0m\u001b[0;34m.\u001b[0m\u001b[0m_original_iterator\u001b[0m \u001b[0;32mis\u001b[0m \u001b[0;32mnot\u001b[0m \u001b[0;32mNone\u001b[0m\u001b[0;34m\u001b[0m\u001b[0;34m\u001b[0m\u001b[0m\n\u001b[1;32m    919\u001b[0m \u001b[0;34m\u001b[0m\u001b[0m\n",
      "\u001b[0;32m~/anaconda3/lib/python3.6/site-packages/sklearn/externals/joblib/parallel.py\u001b[0m in \u001b[0;36mdispatch_one_batch\u001b[0;34m(self, iterator)\u001b[0m\n\u001b[1;32m    757\u001b[0m                 \u001b[0;32mreturn\u001b[0m \u001b[0;32mFalse\u001b[0m\u001b[0;34m\u001b[0m\u001b[0;34m\u001b[0m\u001b[0m\n\u001b[1;32m    758\u001b[0m             \u001b[0;32melse\u001b[0m\u001b[0;34m:\u001b[0m\u001b[0;34m\u001b[0m\u001b[0;34m\u001b[0m\u001b[0m\n\u001b[0;32m--> 759\u001b[0;31m                 \u001b[0mself\u001b[0m\u001b[0;34m.\u001b[0m\u001b[0m_dispatch\u001b[0m\u001b[0;34m(\u001b[0m\u001b[0mtasks\u001b[0m\u001b[0;34m)\u001b[0m\u001b[0;34m\u001b[0m\u001b[0;34m\u001b[0m\u001b[0m\n\u001b[0m\u001b[1;32m    760\u001b[0m                 \u001b[0;32mreturn\u001b[0m \u001b[0;32mTrue\u001b[0m\u001b[0;34m\u001b[0m\u001b[0;34m\u001b[0m\u001b[0m\n\u001b[1;32m    761\u001b[0m \u001b[0;34m\u001b[0m\u001b[0m\n",
      "\u001b[0;32m~/anaconda3/lib/python3.6/site-packages/sklearn/externals/joblib/parallel.py\u001b[0m in \u001b[0;36m_dispatch\u001b[0;34m(self, batch)\u001b[0m\n\u001b[1;32m    714\u001b[0m         \u001b[0;32mwith\u001b[0m \u001b[0mself\u001b[0m\u001b[0;34m.\u001b[0m\u001b[0m_lock\u001b[0m\u001b[0;34m:\u001b[0m\u001b[0;34m\u001b[0m\u001b[0;34m\u001b[0m\u001b[0m\n\u001b[1;32m    715\u001b[0m             \u001b[0mjob_idx\u001b[0m \u001b[0;34m=\u001b[0m \u001b[0mlen\u001b[0m\u001b[0;34m(\u001b[0m\u001b[0mself\u001b[0m\u001b[0;34m.\u001b[0m\u001b[0m_jobs\u001b[0m\u001b[0;34m)\u001b[0m\u001b[0;34m\u001b[0m\u001b[0;34m\u001b[0m\u001b[0m\n\u001b[0;32m--> 716\u001b[0;31m             \u001b[0mjob\u001b[0m \u001b[0;34m=\u001b[0m \u001b[0mself\u001b[0m\u001b[0;34m.\u001b[0m\u001b[0m_backend\u001b[0m\u001b[0;34m.\u001b[0m\u001b[0mapply_async\u001b[0m\u001b[0;34m(\u001b[0m\u001b[0mbatch\u001b[0m\u001b[0;34m,\u001b[0m \u001b[0mcallback\u001b[0m\u001b[0;34m=\u001b[0m\u001b[0mcb\u001b[0m\u001b[0;34m)\u001b[0m\u001b[0;34m\u001b[0m\u001b[0;34m\u001b[0m\u001b[0m\n\u001b[0m\u001b[1;32m    717\u001b[0m             \u001b[0;31m# A job can complete so quickly than its callback is\u001b[0m\u001b[0;34m\u001b[0m\u001b[0;34m\u001b[0m\u001b[0;34m\u001b[0m\u001b[0m\n\u001b[1;32m    718\u001b[0m             \u001b[0;31m# called before we get here, causing self._jobs to\u001b[0m\u001b[0;34m\u001b[0m\u001b[0;34m\u001b[0m\u001b[0;34m\u001b[0m\u001b[0m\n",
      "\u001b[0;32m~/anaconda3/lib/python3.6/site-packages/sklearn/externals/joblib/_parallel_backends.py\u001b[0m in \u001b[0;36mapply_async\u001b[0;34m(self, func, callback)\u001b[0m\n\u001b[1;32m    180\u001b[0m     \u001b[0;32mdef\u001b[0m \u001b[0mapply_async\u001b[0m\u001b[0;34m(\u001b[0m\u001b[0mself\u001b[0m\u001b[0;34m,\u001b[0m \u001b[0mfunc\u001b[0m\u001b[0;34m,\u001b[0m \u001b[0mcallback\u001b[0m\u001b[0;34m=\u001b[0m\u001b[0;32mNone\u001b[0m\u001b[0;34m)\u001b[0m\u001b[0;34m:\u001b[0m\u001b[0;34m\u001b[0m\u001b[0;34m\u001b[0m\u001b[0m\n\u001b[1;32m    181\u001b[0m         \u001b[0;34m\"\"\"Schedule a func to be run\"\"\"\u001b[0m\u001b[0;34m\u001b[0m\u001b[0;34m\u001b[0m\u001b[0m\n\u001b[0;32m--> 182\u001b[0;31m         \u001b[0mresult\u001b[0m \u001b[0;34m=\u001b[0m \u001b[0mImmediateResult\u001b[0m\u001b[0;34m(\u001b[0m\u001b[0mfunc\u001b[0m\u001b[0;34m)\u001b[0m\u001b[0;34m\u001b[0m\u001b[0;34m\u001b[0m\u001b[0m\n\u001b[0m\u001b[1;32m    183\u001b[0m         \u001b[0;32mif\u001b[0m \u001b[0mcallback\u001b[0m\u001b[0;34m:\u001b[0m\u001b[0;34m\u001b[0m\u001b[0;34m\u001b[0m\u001b[0m\n\u001b[1;32m    184\u001b[0m             \u001b[0mcallback\u001b[0m\u001b[0;34m(\u001b[0m\u001b[0mresult\u001b[0m\u001b[0;34m)\u001b[0m\u001b[0;34m\u001b[0m\u001b[0;34m\u001b[0m\u001b[0m\n",
      "\u001b[0;32m~/anaconda3/lib/python3.6/site-packages/sklearn/externals/joblib/_parallel_backends.py\u001b[0m in \u001b[0;36m__init__\u001b[0;34m(self, batch)\u001b[0m\n\u001b[1;32m    547\u001b[0m         \u001b[0;31m# Don't delay the application, to avoid keeping the input\u001b[0m\u001b[0;34m\u001b[0m\u001b[0;34m\u001b[0m\u001b[0;34m\u001b[0m\u001b[0m\n\u001b[1;32m    548\u001b[0m         \u001b[0;31m# arguments in memory\u001b[0m\u001b[0;34m\u001b[0m\u001b[0;34m\u001b[0m\u001b[0;34m\u001b[0m\u001b[0m\n\u001b[0;32m--> 549\u001b[0;31m         \u001b[0mself\u001b[0m\u001b[0;34m.\u001b[0m\u001b[0mresults\u001b[0m \u001b[0;34m=\u001b[0m \u001b[0mbatch\u001b[0m\u001b[0;34m(\u001b[0m\u001b[0;34m)\u001b[0m\u001b[0;34m\u001b[0m\u001b[0;34m\u001b[0m\u001b[0m\n\u001b[0m\u001b[1;32m    550\u001b[0m \u001b[0;34m\u001b[0m\u001b[0m\n\u001b[1;32m    551\u001b[0m     \u001b[0;32mdef\u001b[0m \u001b[0mget\u001b[0m\u001b[0;34m(\u001b[0m\u001b[0mself\u001b[0m\u001b[0;34m)\u001b[0m\u001b[0;34m:\u001b[0m\u001b[0;34m\u001b[0m\u001b[0;34m\u001b[0m\u001b[0m\n",
      "\u001b[0;32m~/anaconda3/lib/python3.6/site-packages/sklearn/externals/joblib/parallel.py\u001b[0m in \u001b[0;36m__call__\u001b[0;34m(self)\u001b[0m\n\u001b[1;32m    223\u001b[0m         \u001b[0;32mwith\u001b[0m \u001b[0mparallel_backend\u001b[0m\u001b[0;34m(\u001b[0m\u001b[0mself\u001b[0m\u001b[0;34m.\u001b[0m\u001b[0m_backend\u001b[0m\u001b[0;34m,\u001b[0m \u001b[0mn_jobs\u001b[0m\u001b[0;34m=\u001b[0m\u001b[0mself\u001b[0m\u001b[0;34m.\u001b[0m\u001b[0m_n_jobs\u001b[0m\u001b[0;34m)\u001b[0m\u001b[0;34m:\u001b[0m\u001b[0;34m\u001b[0m\u001b[0;34m\u001b[0m\u001b[0m\n\u001b[1;32m    224\u001b[0m             return [func(*args, **kwargs)\n\u001b[0;32m--> 225\u001b[0;31m                     for func, args, kwargs in self.items]\n\u001b[0m\u001b[1;32m    226\u001b[0m \u001b[0;34m\u001b[0m\u001b[0m\n\u001b[1;32m    227\u001b[0m     \u001b[0;32mdef\u001b[0m \u001b[0m__len__\u001b[0m\u001b[0;34m(\u001b[0m\u001b[0mself\u001b[0m\u001b[0;34m)\u001b[0m\u001b[0;34m:\u001b[0m\u001b[0;34m\u001b[0m\u001b[0;34m\u001b[0m\u001b[0m\n",
      "\u001b[0;32m~/anaconda3/lib/python3.6/site-packages/sklearn/externals/joblib/parallel.py\u001b[0m in \u001b[0;36m<listcomp>\u001b[0;34m(.0)\u001b[0m\n\u001b[1;32m    223\u001b[0m         \u001b[0;32mwith\u001b[0m \u001b[0mparallel_backend\u001b[0m\u001b[0;34m(\u001b[0m\u001b[0mself\u001b[0m\u001b[0;34m.\u001b[0m\u001b[0m_backend\u001b[0m\u001b[0;34m,\u001b[0m \u001b[0mn_jobs\u001b[0m\u001b[0;34m=\u001b[0m\u001b[0mself\u001b[0m\u001b[0;34m.\u001b[0m\u001b[0m_n_jobs\u001b[0m\u001b[0;34m)\u001b[0m\u001b[0;34m:\u001b[0m\u001b[0;34m\u001b[0m\u001b[0;34m\u001b[0m\u001b[0m\n\u001b[1;32m    224\u001b[0m             return [func(*args, **kwargs)\n\u001b[0;32m--> 225\u001b[0;31m                     for func, args, kwargs in self.items]\n\u001b[0m\u001b[1;32m    226\u001b[0m \u001b[0;34m\u001b[0m\u001b[0m\n\u001b[1;32m    227\u001b[0m     \u001b[0;32mdef\u001b[0m \u001b[0m__len__\u001b[0m\u001b[0;34m(\u001b[0m\u001b[0mself\u001b[0m\u001b[0;34m)\u001b[0m\u001b[0;34m:\u001b[0m\u001b[0;34m\u001b[0m\u001b[0;34m\u001b[0m\u001b[0m\n",
      "\u001b[0;32m~/anaconda3/lib/python3.6/site-packages/sklearn/model_selection/_validation.py\u001b[0m in \u001b[0;36m_fit_and_score\u001b[0;34m(estimator, X, y, scorer, train, test, verbose, parameters, fit_params, return_train_score, return_parameters, return_n_test_samples, return_times, return_estimator, error_score)\u001b[0m\n\u001b[1;32m    526\u001b[0m             \u001b[0mestimator\u001b[0m\u001b[0;34m.\u001b[0m\u001b[0mfit\u001b[0m\u001b[0;34m(\u001b[0m\u001b[0mX_train\u001b[0m\u001b[0;34m,\u001b[0m \u001b[0;34m**\u001b[0m\u001b[0mfit_params\u001b[0m\u001b[0;34m)\u001b[0m\u001b[0;34m\u001b[0m\u001b[0;34m\u001b[0m\u001b[0m\n\u001b[1;32m    527\u001b[0m         \u001b[0;32melse\u001b[0m\u001b[0;34m:\u001b[0m\u001b[0;34m\u001b[0m\u001b[0;34m\u001b[0m\u001b[0m\n\u001b[0;32m--> 528\u001b[0;31m             \u001b[0mestimator\u001b[0m\u001b[0;34m.\u001b[0m\u001b[0mfit\u001b[0m\u001b[0;34m(\u001b[0m\u001b[0mX_train\u001b[0m\u001b[0;34m,\u001b[0m \u001b[0my_train\u001b[0m\u001b[0;34m,\u001b[0m \u001b[0;34m**\u001b[0m\u001b[0mfit_params\u001b[0m\u001b[0;34m)\u001b[0m\u001b[0;34m\u001b[0m\u001b[0;34m\u001b[0m\u001b[0m\n\u001b[0m\u001b[1;32m    529\u001b[0m \u001b[0;34m\u001b[0m\u001b[0m\n\u001b[1;32m    530\u001b[0m     \u001b[0;32mexcept\u001b[0m \u001b[0mException\u001b[0m \u001b[0;32mas\u001b[0m \u001b[0me\u001b[0m\u001b[0;34m:\u001b[0m\u001b[0;34m\u001b[0m\u001b[0;34m\u001b[0m\u001b[0m\n",
      "\u001b[0;32m~/anaconda3/lib/python3.6/site-packages/sklearn/svm/base.py\u001b[0m in \u001b[0;36mfit\u001b[0;34m(self, X, y, sample_weight)\u001b[0m\n\u001b[1;32m    148\u001b[0m                          \u001b[0morder\u001b[0m\u001b[0;34m=\u001b[0m\u001b[0;34m'C'\u001b[0m\u001b[0;34m,\u001b[0m \u001b[0maccept_sparse\u001b[0m\u001b[0;34m=\u001b[0m\u001b[0;34m'csr'\u001b[0m\u001b[0;34m,\u001b[0m\u001b[0;34m\u001b[0m\u001b[0;34m\u001b[0m\u001b[0m\n\u001b[1;32m    149\u001b[0m                          accept_large_sparse=False)\n\u001b[0;32m--> 150\u001b[0;31m         \u001b[0my\u001b[0m \u001b[0;34m=\u001b[0m \u001b[0mself\u001b[0m\u001b[0;34m.\u001b[0m\u001b[0m_validate_targets\u001b[0m\u001b[0;34m(\u001b[0m\u001b[0my\u001b[0m\u001b[0;34m)\u001b[0m\u001b[0;34m\u001b[0m\u001b[0;34m\u001b[0m\u001b[0m\n\u001b[0m\u001b[1;32m    151\u001b[0m \u001b[0;34m\u001b[0m\u001b[0m\n\u001b[1;32m    152\u001b[0m         sample_weight = np.asarray([]\n",
      "\u001b[0;32m~/anaconda3/lib/python3.6/site-packages/sklearn/svm/base.py\u001b[0m in \u001b[0;36m_validate_targets\u001b[0;34m(self, y)\u001b[0m\n\u001b[1;32m    523\u001b[0m             raise ValueError(\n\u001b[1;32m    524\u001b[0m                 \u001b[0;34m\"The number of classes has to be greater than one; got %d\"\u001b[0m\u001b[0;34m\u001b[0m\u001b[0;34m\u001b[0m\u001b[0m\n\u001b[0;32m--> 525\u001b[0;31m                 \" class\" % len(cls))\n\u001b[0m\u001b[1;32m    526\u001b[0m \u001b[0;34m\u001b[0m\u001b[0m\n\u001b[1;32m    527\u001b[0m         \u001b[0mself\u001b[0m\u001b[0;34m.\u001b[0m\u001b[0mclasses_\u001b[0m \u001b[0;34m=\u001b[0m \u001b[0mcls\u001b[0m\u001b[0;34m\u001b[0m\u001b[0;34m\u001b[0m\u001b[0m\n",
      "\u001b[0;31mValueError\u001b[0m: The number of classes has to be greater than one; got 1 class"
     ]
    },
    {
     "data": {
      "image/png": "[encoded data removed]",
      "text/plain": [
       "<Figure size 1296x1080 with 1 Axes>"
      ]
     },
     "metadata": {
      "needs_background": "light"
     },
     "output_type": "display_data"
    }
   ],
   "source": [
    "y_test, y_pred = train(Train, y_train, X_test)"
   ]
  },
  {
   "cell_type": "code",
   "execution_count": 153,
   "metadata": {},
   "outputs": [
    {
     "name": "stdout",
     "output_type": "stream",
     "text": [
      "Classification Accuracy on Test dataset:  0.7636363636363637\n",
      "0.7636363636363637\n",
      "Confusion matrix, without normalization\n",
      "[[  8  35]\n",
      " [ 17 160]]\n"
     ]
    },
    {
     "data": {
      "image/png": "[encoded data removed]",
      "text/plain": [
       "<Figure size 1296x1080 with 2 Axes>"
      ]
     },
     "metadata": {
      "needs_background": "light"
     },
     "output_type": "display_data"
    },
    {
     "name": "stdout",
     "output_type": "stream",
     "text": [
      "Normalized confusion matrix\n",
      "[[0.18604651 0.81395349]\n",
      " [0.0960452  0.9039548 ]]\n"
     ]
    },
    {
     "data": {
      "image/png": "[encoded data removed]",
      "text/plain": [
       "<Figure size 1296x1080 with 2 Axes>"
      ]
     },
     "metadata": {
      "needs_background": "light"
     },
     "output_type": "display_data"
    },
    {
     "name": "stdout",
     "output_type": "stream",
     "text": [
      "              precision    recall  f1-score   support\n",
      "\n",
      "        Fake       0.32      0.19      0.24        43\n",
      "     Genuine       0.82      0.90      0.86       177\n",
      "\n",
      "   micro avg       0.76      0.76      0.76       220\n",
      "   macro avg       0.57      0.55      0.55       220\n",
      "weighted avg       0.72      0.76      0.74       220\n",
      "\n",
      "False Positive rate:  [0.         0.81395349 1.        ]\n",
      "True Positive rate:  [0.        0.9039548 1.       ]\n"
     ]
    },
    {
     "data": {
      "image/png": "[encoded data removed]",
      "text/plain": [
       "<Figure size 1296x1080 with 1 Axes>"
      ]
     },
     "metadata": {
      "needs_background": "light"
     },
     "output_type": "display_data"
    }
   ],
   "source": [
    "print('Classification Accuracy on Test dataset: ', accuracy_score(y_test, y_pred))\n",
    "\n",
    "cm = confusion_matrix(y_test, y_pred)\n",
    "accuracy = accuracy_score(y_test, y_pred)\n",
    "print(accuracy)\n",
    "print('Confusion matrix, without normalization')\n",
    "print(cm)\n",
    "plot_confusion_matrix(cm)\n",
    "\n",
    "cm_normalized = cm.astype('float') / cm.sum(axis=1)[:, np.newaxis]\n",
    "print('Normalized confusion matrix')\n",
    "print(cm_normalized)\n",
    "plot_confusion_matrix(cm_normalized, title='Normalized confusion matrix')\n",
    "\n",
    "\n",
    "print(classification_report(y_test, y_pred, target_names=['Fake', 'Genuine']))\n",
    "\n",
    "\n",
    "plot_roc_curve(y_test, y_pred)"
   ]
  },
  {
   "cell_type": "code",
   "execution_count": null,
   "metadata": {},
   "outputs": [],
   "source": []
  }
 ],
 "metadata": {
  "kernelspec": {
   "display_name": "Python 3",
   "language": "python",
   "name": "python3"
  },
  "language_info": {
   "codemirror_mode": {
    "name": "ipython",
    "version": 3
   },
   "file_extension": ".py",
   "mimetype": "text/x-python",
   "name": "python",
   "nbconvert_exporter": "python",
   "pygments_lexer": "ipython3",
   "version": "3.6.8"
  }
 },
 "nbformat": 4,
 "nbformat_minor": 2
}
